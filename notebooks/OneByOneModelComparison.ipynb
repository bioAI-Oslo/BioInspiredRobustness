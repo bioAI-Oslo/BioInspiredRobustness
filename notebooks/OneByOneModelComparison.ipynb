{
 "cells": [
  {
   "cell_type": "markdown",
   "id": "72e7bdfe-6d94-4339-b7f6-81f94907b09d",
   "metadata": {},
   "source": [
    "# Mikkel vs Hopfield and Krotov"
   ]
  },
  {
   "cell_type": "code",
   "execution_count": 2,
   "id": "e3df2fda-f7a6-4cf4-8714-a6b02507cb65",
   "metadata": {},
   "outputs": [],
   "source": [
    "import scipy.io\n",
    "import numpy as np\n",
    "import matplotlib.pyplot as plt\n",
    "import torch\n",
    "device = 'cuda:0' if torch.cuda.is_available() else 'cpu'\n",
    "from tqdm.notebook import tqdm_notebook as tqdm\n",
    "from collections import defaultdict\n",
    "from torchvision import datasets, transforms"
   ]
  },
  {
   "cell_type": "code",
   "execution_count": 7,
   "id": "2d736487-840c-4a87-b79e-3e5873d1bbbd",
   "metadata": {},
   "outputs": [],
   "source": [
    "#num_pixel = x_train.shape[1] * x_train.shape[2] * x_train.shape[3] #3072\n",
    "#num_train = x_train.shape[0]\n",
    "#num_test = x_test.shape[0]\n",
    "#x_train_flat = x_train.reshape(num_train, num_pixel)\n",
    "num_pixel=32*32*3\n",
    "eps0 = 2e-2    # learning rate\n",
    "Kx = 50\n",
    "Ky = 50\n",
    "num_hidden = Kx * Ky    # number of hidden units that are displayed in Ky by Kx array\n",
    "mu = 0.0\n",
    "sigma = 1.0\n",
    "num_epochs = 1000      # number of epochs\n",
    "num_batch = 1000      # size of the minibatch\n",
    "prec = 1e-30\n",
    "delta = 0.4    # Strength of the anti-hebbian learning\n",
    "p = 2.0        # Lebesgue norm of the weights\n",
    "k = 2          # ranking parameter, must be integer that is bigger or equal than 2"
   ]
  },
  {
   "cell_type": "markdown",
   "id": "cc41cab4-8d5e-4909-ae60-c6619c52647c",
   "metadata": {},
   "source": [
    "## Mikkel"
   ]
  },
  {
   "cell_type": "code",
   "execution_count": 11,
   "id": "2ded5db0-89af-45be-bb08-0a334f476f27",
   "metadata": {},
   "outputs": [],
   "source": [
    "def synaptic_activation(synapses, inputs):\n",
    "    return (synapses.sign() * synapses.abs() ** (p - 1)).matmul(inputs)\n",
    "\n",
    "def learning_activation(indices):\n",
    "    best_ind, best_k_ind = indices[0], indices[k-1]\n",
    "    g_i = torch.zeros(num_hidden, num_batch).to(device)\n",
    "    g_i[best_ind,   torch.arange(num_batch).to(device)] = 1.0\n",
    "    g_i[best_k_ind, torch.arange(num_batch).to(device)] = -delta\n",
    "    return g_i\n",
    "\n",
    "def weight_update(synapses, tot_input, inputs, g_i):\n",
    "    xx = (g_i * tot_input).sum(dim=1)\n",
    "    ds = torch.matmul(g_i, inputs.t()) - xx.unsqueeze(1) * synapses\n",
    "        \n",
    "    nc = max(ds.abs().max(), prec)\n",
    "        \n",
    "    # the actual update\n",
    "    return eps * ds / nc\n",
    "\n",
    "synapses_Mikkel = torch.Tensor(num_hidden, num_pixel).normal_(mu, sigma).to(device)"
   ]
  },
  {
   "cell_type": "markdown",
   "id": "f7cfdeb9-7efc-43d3-b72d-70c9406acb22",
   "metadata": {},
   "source": [
    "## Hopfield"
   ]
  },
  {
   "cell_type": "code",
   "execution_count": 12,
   "id": "4b45f3d6-b88d-40f9-aee2-1cc594d869f7",
   "metadata": {},
   "outputs": [],
   "source": [
    "def g(tot_input, delta=0.4, k=2):\n",
    "    y=np.argsort(tot_input,axis=0)\n",
    "    yl=np.zeros((hid,Num), dtype=np.double)\n",
    "    yl[y[hid-1,:],np.arange(Num)]=1.0\n",
    "    yl[y[hid-k],np.arange(Num)]=-delta\n",
    "    return yl\n",
    "\n",
    "def bracket(synapses, inputs, p=3):\n",
    "    sig=np.sign(synapses)\n",
    "    return np.dot(sig*np.absolute(synapses)**(p-1),inputs)\n",
    "\n",
    "def ds(yl, tot_input):\n",
    "    xx=np.sum(np.multiply(yl,tot_input),1)\n",
    "    ds=np.dot(yl,np.transpose(inputs)) - np.multiply(np.tile(xx.reshape(xx.shape[0],1),(1,N)),synapses)\n",
    "\n",
    "    nc=np.amax(np.absolute(ds))\n",
    "    if nc<prec:\n",
    "        nc=prec\n",
    "    return np.true_divide(ds,nc)"
   ]
  },
  {
   "cell_type": "code",
   "execution_count": 13,
   "id": "776e07c3-d769-4e8f-bb78-b658c2ad72c2",
   "metadata": {},
   "outputs": [],
   "source": [
    "synapses_Hopfield = synapses_Mikkel.clone()"
   ]
  },
  {
   "cell_type": "markdown",
   "id": "b55ba989-8474-4623-b050-6978bf4af826",
   "metadata": {},
   "source": [
    "## Comparison"
   ]
  },
  {
   "cell_type": "code",
   "execution_count": 18,
   "id": "951ab948-6e54-42fc-828c-f6370d897203",
   "metadata": {},
   "outputs": [],
   "source": [
    "Sinp = torch.rand(100, num_pixel).T"
   ]
  },
  {
   "cell_type": "code",
   "execution_count": 19,
   "id": "35f66c44-194f-4e0c-8bf3-565377dd112b",
   "metadata": {},
   "outputs": [],
   "source": [
    "tot_inp_Mikkel = synaptic_activation(synapses_Mikkel, Sinp.to(device))"
   ]
  },
  {
   "cell_type": "code",
   "execution_count": 20,
   "id": "29fb3375-b908-4ecc-9cfb-40d095c95977",
   "metadata": {},
   "outputs": [],
   "source": [
    "tot_inp_Hopfield = bracket(synapses_Hopfield.detach().cpu().numpy(), Sinp.detach().cpu().numpy())"
   ]
  },
  {
   "cell_type": "code",
   "execution_count": 21,
   "id": "0101b2e2-8681-406f-a06f-8434d75403b1",
   "metadata": {},
   "outputs": [],
   "source": [
    "# define a distance measure\n",
    "\n",
    "def LpDist(x, y, p=2.):\n",
    "    x = torch.Tensor(x)\n",
    "    y = torch.Tensor(y)\n",
    "    d = (x - y)**p\n",
    "    return d.sum()\n",
    "\n",
    "def is_zero_tensor(x, p=1., atol=1e-4):\n",
    "    x = torch.Tensor(x)\n",
    "    d = torch.abs(x)**p\n",
    "    is_zero = (d - atol) < 0\n",
    "    return is_zero.all()"
   ]
  },
  {
   "cell_type": "code",
   "execution_count": 27,
   "id": "66da6513-429e-40f6-9f3c-7285ff818786",
   "metadata": {},
   "outputs": [
    {
     "name": "stdout",
     "output_type": "stream",
     "text": [
      "tensor(2.0658e+08)\n"
     ]
    }
   ],
   "source": [
    "with torch.no_grad():\n",
    "    print(LpDist(tot_inp_Mikkel.cpu(), tot_inp_Hopfield))"
   ]
  },
  {
   "cell_type": "code",
   "execution_count": null,
   "id": "f89f8ae8-0049-4873-b5ad-735ab8665c6d",
   "metadata": {},
   "outputs": [],
   "source": []
  }
 ],
 "metadata": {
  "kernelspec": {
   "display_name": "Python 3 (ipykernel)",
   "language": "python",
   "name": "python3"
  },
  "language_info": {
   "codemirror_mode": {
    "name": "ipython",
    "version": 3
   },
   "file_extension": ".py",
   "mimetype": "text/x-python",
   "name": "python",
   "nbconvert_exporter": "python",
   "pygments_lexer": "ipython3",
   "version": "3.9.1"
  }
 },
 "nbformat": 4,
 "nbformat_minor": 5
}
