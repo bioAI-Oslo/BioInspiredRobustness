{
 "cells": [
  {
   "cell_type": "markdown",
   "metadata": {
    "tags": []
   },
   "source": [
    "# CIFAR10 Training"
   ]
  },
  {
   "cell_type": "code",
   "execution_count": 1,
   "metadata": {
    "tags": []
   },
   "outputs": [],
   "source": [
    "import torch\n",
    "from torch.utils.data import DataLoader\n",
    "from torchvision import datasets\n",
    "from torchvision.transforms import ToTensor\n",
    "from pathlib import Path\n",
    "from tqdm import tqdm\n",
    "\n",
    "# custom imports\n",
    "from context import LocalLearning"
   ]
  },
  {
   "cell_type": "code",
   "execution_count": 2,
   "metadata": {
    "collapsed": false,
    "jupyter": {
     "outputs_hidden": false
    },
    "pycharm": {
     "name": "#%%\n"
    }
   },
   "outputs": [
    {
     "data": {
      "text/plain": [
       "{'in_size': 3072,\n",
       " 'hidden_size': 2000,\n",
       " 'n': 4.5,\n",
       " 'p': 2.0,\n",
       " 'tau_l': 50.0,\n",
       " 'k': 2,\n",
       " 'Delta': 0.4,\n",
       " 'R': 1.0}"
      ]
     },
     "execution_count": 2,
     "metadata": {},
     "output_type": "execute_result"
    }
   ],
   "source": [
    "pSet = LocalLearning.LocalLearningModel.pSet\n",
    "pSet[\"in_size\"] = 32**2 * 3 # CIFAR10 consists of 32x32 pixel 3 channel coloured images\n",
    "pSet[\"tau_l\"] = 1.0 / 0.02 # learning rate 0.04 leads to nans in model.W\n",
    "pSet[\"p\"]=2.0\n",
    "pSet[\"k\"]=2\n",
    "pSet"
   ]
  },
  {
   "cell_type": "code",
   "execution_count": 3,
   "metadata": {},
   "outputs": [],
   "source": [
    "if torch.cuda.is_available():\n",
    "    device = torch.device('cuda')\n",
    "else:\n",
    "    device = torch.device('cpu')"
   ]
  },
  {
   "cell_type": "code",
   "execution_count": 4,
   "metadata": {},
   "outputs": [],
   "source": [
    "llmodel = LocalLearning.LocalLearningModel(pSet)\n",
    "llmodel.to(device)\n",
    "llmodel.train()"
   ]
  },
  {
   "cell_type": "code",
   "execution_count": 5,
   "metadata": {},
   "outputs": [
    {
     "name": "stdout",
     "output_type": "stream",
     "text": [
      "Files already downloaded and verified\n"
     ]
    }
   ],
   "source": [
    "training_data = LocalLearning.LpUnitCIFAR10(\n",
    "    root=\"../data/CIFAR10\", train=True, transform=ToTensor(), p=pSet[\"p\"]\n",
    ")\n",
    "\n",
    "dataloader_train = DataLoader(\n",
    "    training_data, batch_size=256, num_workers=10, shuffle=True\n",
    ")"
   ]
  },
  {
   "cell_type": "code",
   "execution_count": 6,
   "metadata": {},
   "outputs": [
    {
     "data": {
      "image/png": "[encoded data removed]",
      "text/plain": [
       "<Figure size 432x288 with 1 Axes>"
      ]
     },
     "metadata": {
      "needs_background": "light"
     },
     "output_type": "display_data"
    }
   ],
   "source": [
    "from matplotlib import pyplot as plt\n",
    "import numpy as np\n",
    "\n",
    "plt.figure()\n",
    "plt.hist(list(llmodel.parameters())[0].data.cpu().detach().numpy())\n",
    "plt.show()"
   ]
  },
  {
   "cell_type": "code",
   "execution_count": 6,
   "metadata": {},
   "outputs": [
    {
     "name": "stderr",
     "output_type": "stream",
     "text": [
      "Epoch: 0: 100%|████████████████████████████████████████████████████████████████████████████████████████████████████████████████████████████████████████████████████████| 196/196 [00:11<00:00, 16.65batch/s]\n",
      "Epoch: 1: 100%|████████████████████████████████████████████████████████████████████████████████████████████████████████████████████████████████████████████████████████| 196/196 [00:11<00:00, 17.29batch/s]\n",
      "Epoch: 2: 100%|████████████████████████████████████████████████████████████████████████████████████████████████████████████████████████████████████████████████████████| 196/196 [00:11<00:00, 17.32batch/s]\n",
      "Epoch: 3: 100%|████████████████████████████████████████████████████████████████████████████████████████████████████████████████████████████████████████████████████████| 196/196 [00:11<00:00, 17.30batch/s]\n",
      "Epoch: 4: 100%|████████████████████████████████████████████████████████████████████████████████████████████████████████████████████████████████████████████████████████| 196/196 [00:11<00:00, 17.23batch/s]\n",
      "Epoch: 5: 100%|████████████████████████████████████████████████████████████████████████████████████████████████████████████████████████████████████████████████████████| 196/196 [00:11<00:00, 17.26batch/s]\n",
      "Epoch: 6: 100%|████████████████████████████████████████████████████████████████████████████████████████████████████████████████████████████████████████████████████████| 196/196 [00:11<00:00, 17.26batch/s]\n",
      "Epoch: 7: 100%|████████████████████████████████████████████████████████████████████████████████████████████████████████████████████████████████████████████████████████| 196/196 [00:11<00:00, 17.25batch/s]\n",
      "Epoch: 8: 100%|████████████████████████████████████████████████████████████████████████████████████████████████████████████████████████████████████████████████████████| 196/196 [00:11<00:00, 17.29batch/s]\n",
      "Epoch: 9: 100%|████████████████████████████████████████████████████████████████████████████████████████████████████████████████████████████████████████████████████████| 196/196 [00:11<00:00, 17.30batch/s]\n"
     ]
    }
   ],
   "source": [
    "from tqdm import tqdm\n",
    "\n",
    "NO_EPOCHS = 10\n",
    "\n",
    "for epoch in range(0, NO_EPOCHS):\n",
    "    with tqdm(dataloader_train, unit=\"batch\") as tbatch:\n",
    "        tbatch.set_description(f\"Epoch: {epoch}\")\n",
    "        for features, labels in tbatch:\n",
    "            llmodel.train_step_fast(features.to(device))"
   ]
  },
  {
   "cell_type": "code",
   "execution_count": 7,
   "metadata": {},
   "outputs": [
    {
     "data": {
      "image/png": "[encoded data removed]",
      "text/plain": [
       "<Figure size 432x288 with 1 Axes>"
      ]
     },
     "metadata": {
      "needs_background": "light"
     },
     "output_type": "display_data"
    }
   ],
   "source": [
    "from matplotlib import pyplot as plt\n",
    "import numpy as np\n",
    "\n",
    "plt.figure()\n",
    "plt.hist(list(llmodel.parameters())[0].data.cpu().detach().numpy())\n",
    "plt.show()"
   ]
  },
  {
   "cell_type": "code",
   "execution_count": 15,
   "metadata": {},
   "outputs": [
    {
     "data": {
      "image/png": "[encoded data removed]",
      "text/plain": [
       "<Figure size 432x288 with 1 Axes>"
      ]
     },
     "metadata": {
      "needs_background": "light"
     },
     "output_type": "display_data"
    }
   ],
   "source": [
    "plt.figure()\n",
    "plt.imshow(list(llmodel.parameters())[0].data.cpu().detach().numpy())\n",
    "plt.show()"
   ]
  },
  {
   "cell_type": "code",
   "execution_count": 8,
   "metadata": {},
   "outputs": [],
   "source": [
    "model_path = Path(\"../data/models/CIFAR10_locallearner.pth\")\n",
    "torch.save(\n",
    "    {\n",
    "        \"model_state_dict\": model.state_dict(),\n",
    "        \"model_parameters\": model.param_dict(),\n",
    "        \"device_type\": device.type\n",
    "    },\n",
    "    model_path\n",
    ")"
   ]
  },
  {
   "cell_type": "markdown",
   "metadata": {},
   "source": [
    "# Michels Original Code for Comparison"
   ]
  },
  {
   "cell_type": "code",
   "execution_count": 3,
   "metadata": {},
   "outputs": [],
   "source": [
    "import scipy.io\n",
    "import numpy as np\n",
    "import matplotlib.pyplot as plt\n",
    "import torch\n",
    "from tqdm.notebook import tqdm_notebook as tqdm\n",
    "from collections import defaultdict\n",
    "from torchvision import datasets, transforms"
   ]
  },
  {
   "cell_type": "code",
   "execution_count": 4,
   "metadata": {},
   "outputs": [],
   "source": [
    "if torch.cuda.is_available():\n",
    "    device = torch.device('cuda')\n",
    "else:\n",
    "    device = torch.device('cpu')"
   ]
  },
  {
   "cell_type": "markdown",
   "metadata": {},
   "source": [
    "## Define renormalized dataset"
   ]
  },
  {
   "cell_type": "code",
   "execution_count": 5,
   "metadata": {},
   "outputs": [
    {
     "name": "stdout",
     "output_type": "stream",
     "text": [
      "Files already downloaded and verified\n"
     ]
    }
   ],
   "source": [
    "# custom imports\n",
    "from context import LocalLearning\n",
    "\n",
    "training_data = LocalLearning.LpUnitCIFAR10(\n",
    "    root=\"../data/CIFAR10\", train=True, transform=ToTensor(), p=pSet[\"p\"]\n",
    ")\n",
    "\n",
    "dataloader_train = DataLoader(\n",
    "    training_data, batch_size=64, num_workers=10, shuffle=True\n",
    ")"
   ]
  },
  {
   "cell_type": "markdown",
   "metadata": {},
   "source": [
    "### Parameters"
   ]
  },
  {
   "cell_type": "code",
   "execution_count": 6,
   "metadata": {},
   "outputs": [],
   "source": [
    "num_pixel = 32**2*3\n",
    "num_train = len(training_data)\n",
    "#num_test = x_test.shape[0]\n",
    "#x_train_flat = x_train.reshape(num_train, num_pixel)\n",
    "eps0 = 2e-2    # learning rate\n",
    "Kx = 50\n",
    "Ky = 50\n",
    "num_hidden = Kx * Ky    # number of hidden units that are displayed in Ky by Kx array\n",
    "mu = 0.0\n",
    "sigma = 1.0\n",
    "num_epochs = 1    # number of epochs\n",
    "num_batch = 64      # size of the minibatch\n",
    "prec = 1e-30\n",
    "delta = 0.4    # Strength of the anti-hebbian learning\n",
    "p = 2.0        # Lebesgue norm of the weights\n",
    "k = 2          # ranking parameter, must be integer that is bigger or equal than 2"
   ]
  },
  {
   "cell_type": "code",
   "execution_count": 7,
   "metadata": {},
   "outputs": [],
   "source": [
    "def synaptic_activation(synapses, inputs):\n",
    "    return (synapses.sign() * synapses.abs() ** (p - 1)).matmul(inputs)\n",
    "\n",
    "def learning_activation(indices):\n",
    "    best_ind, best_k_ind = indices[0], indices[k-1]\n",
    "    g_i = torch.zeros(num_hidden, num_batch).to(device)\n",
    "    g_i[best_ind,   torch.arange(num_batch).to(device)] = 1.0\n",
    "    g_i[best_k_ind, torch.arange(num_batch).to(device)] = -delta\n",
    "    return g_i"
   ]
  },
  {
   "cell_type": "markdown",
   "metadata": {},
   "source": [
    "### synapses pre training"
   ]
  },
  {
   "cell_type": "code",
   "execution_count": 8,
   "metadata": {},
   "outputs": [
    {
     "data": {
      "image/png": "[encoded data removed]",
      "text/plain": [
       "<Figure size 432x288 with 1 Axes>"
      ]
     },
     "metadata": {
      "needs_background": "light"
     },
     "output_type": "display_data"
    }
   ],
   "source": [
    "from matplotlib import pyplot as plt\n",
    "import numpy as np\n",
    "\n",
    "synapses = torch.Tensor(num_hidden, num_pixel).normal_(mu, sigma).to(device)\n",
    "\n",
    "pSet = LocalLearning.LocalLearningModel.pSet\n",
    "pSet[\"in_size\"] = 32**2 * 3 # CIFAR10 consists of 32x32 pixel 3 channel coloured images\n",
    "pSet[\"tau_l\"] = 1.0 / 0.02 # learning rate 0.04 leads to nans in model.W\n",
    "pSet[\"Delta\"] = 0.4\n",
    "pSet[\"p\"] = 2.0\n",
    "pSet[\"k\"] = 2\n",
    "pSet[\"hidden_size\"]=2500\n",
    "\n",
    "llmodel = LocalLearning.LocalLearningModel(pSet)\n",
    "llmodel.W.copy_(synapses.t().type_as(llmodel.W))\n",
    "llmodel.to(device)\n",
    "\n",
    "plt.figure()\n",
    "plt.hist(list(synapses)[0].data.cpu().detach().numpy())\n",
    "plt.show()\n",
    "\n",
    "flat = torch.nn.Flatten()"
   ]
  },
  {
   "cell_type": "markdown",
   "metadata": {},
   "source": [
    "## compare synaptic activation with forward of own model"
   ]
  },
  {
   "cell_type": "code",
   "execution_count": 9,
   "metadata": {},
   "outputs": [],
   "source": [
    "features = next(iter(dataloader_train))[0]\n",
    "kh_activations = llmodel(features.to(device))\n",
    "flat_features = flat(features.to(device))\n",
    "mikkel_activations = synaptic_activation(synapses, flat_features.t())"
   ]
  },
  {
   "cell_type": "code",
   "execution_count": 10,
   "metadata": {},
   "outputs": [
    {
     "data": {
      "text/plain": [
       "tensor(True, device='cuda:0')"
      ]
     },
     "execution_count": 10,
     "metadata": {},
     "output_type": "execute_result"
    }
   ],
   "source": [
    "torch.isclose(kh_activations, mikkel_activations.t(), atol=1e-4).all()"
   ]
  },
  {
   "cell_type": "code",
   "execution_count": 11,
   "metadata": {},
   "outputs": [
    {
     "name": "stdout",
     "output_type": "stream",
     "text": [
      "tensor([[-0.7077, -1.2743,  0.4935,  ..., -1.0854,  0.1989, -1.0008],\n",
      "        [ 0.2770, -0.8454,  0.1819,  ..., -1.2777,  0.3536, -1.0387],\n",
      "        [-0.6982, -0.8431,  0.9261,  ..., -1.1733, -0.0960, -1.1237],\n",
      "        ...,\n",
      "        [-0.4839, -0.5894,  1.0676,  ..., -1.3917,  1.2047, -0.8396],\n",
      "        [-0.3795, -1.4081,  0.9079,  ..., -1.6565,  0.2722, -0.0080],\n",
      "        [ 0.4411, -0.4732,  0.7927,  ..., -0.8727,  0.5603, -1.7078]],\n",
      "       device='cuda:0')\n"
     ]
    }
   ],
   "source": [
    "print(mikkel_activations.t())"
   ]
  },
  {
   "cell_type": "markdown",
   "metadata": {},
   "source": [
    "## compare training step"
   ]
  },
  {
   "cell_type": "code",
   "execution_count": 12,
   "metadata": {},
   "outputs": [],
   "source": [
    "features, _ = next(iter(dataloader_train))\n",
    "flat_features = flat(features.to(device))\n",
    "\n",
    "inputs = flat(features.to(device)).t()\n",
    "# I = <W,v> synaptic activation\n",
    "tot_input = synaptic_activation(synapses, inputs)\n",
    "        \n",
    "# find indices maximizing the synapse\n",
    "_, indices = tot_input.topk(k, dim=0)\n",
    "# g(Q) learning activation function\n",
    "g_i = learning_activation(indices)\n",
    "# Learning algorithm\n",
    "xx = (g_i * tot_input).sum(dim=1)\n",
    "ds = torch.matmul(g_i, inputs.t()) - xx.unsqueeze(1) * synapses\n",
    "            \n",
    "nc = max(ds.abs().max(), prec)\n",
    "            \n",
    "# the actual update\n",
    "synapses += eps0 * ds / nc\n",
    "\n",
    "llmodel.train_step_fast(features.to(device))"
   ]
  },
  {
   "cell_type": "code",
   "execution_count": 21,
   "metadata": {},
   "outputs": [
    {
     "data": {
      "text/plain": [
       "tensor(False, device='cuda:0')"
      ]
     },
     "execution_count": 21,
     "metadata": {},
     "output_type": "execute_result"
    }
   ],
   "source": []
  },
  {
   "cell_type": "code",
   "execution_count": 14,
   "metadata": {},
   "outputs": [
    {
     "data": {
      "text/plain": [
       "Parameter containing:\n",
       "tensor([[ 0.7327, -0.3978,  0.3288,  ..., -1.2288,  0.0478,  1.7415],\n",
       "        [ 0.7046,  1.5602, -0.2764,  ..., -0.2226, -1.5972,  0.6676],\n",
       "        [ 0.3612,  1.2018, -0.1894,  ..., -0.6520, -0.6730, -0.7418],\n",
       "        ...,\n",
       "        [-0.2981, -0.3289, -0.4660,  ...,  1.1980,  0.4838, -1.0197],\n",
       "        [ 0.0662,  0.0977,  0.5546,  ...,  1.6655,  1.3691, -0.6126],\n",
       "        [ 1.0909,  0.2696,  0.5048,  ...,  0.1608, -1.3048, -2.5710]],\n",
       "       device='cuda:0')"
      ]
     },
     "execution_count": 14,
     "metadata": {},
     "output_type": "execute_result"
    }
   ],
   "source": [
    "llmodel.W"
   ]
  },
  {
   "cell_type": "code",
   "execution_count": 55,
   "metadata": {},
   "outputs": [
    {
     "data": {
      "application/vnd.jupyter.widget-view+json": {
       "model_id": "f35537054c67409cb4ef7ab9dbb4d10d",
       "version_major": 2,
       "version_minor": 0
      },
      "text/plain": [
       "  0%|          | 0/50 [00:00<?, ?batch/s]"
      ]
     },
     "metadata": {},
     "output_type": "display_data"
    }
   ],
   "source": [
    "# wrap as Tensor\n",
    "#x_train_flat = torch.Tensor(x_train_flat).to(device)\n",
    "synapses = torch.Tensor(num_hidden, num_pixel).normal_(mu, sigma).to(device)\n",
    "\n",
    "flatten = torch.nn.Flatten()\n",
    "\n",
    "for epoch in range(num_epochs):\n",
    "    # decay learning rate\n",
    "    #eps = eps0 * (1 - epoch / num_epochs)\n",
    "    eps = eps0\n",
    "    # shuffle data\n",
    "    #x_train_flat = x_train_flat[torch.randperm(x_train_flat.size(0))]\n",
    "    \n",
    "    with tqdm(dataloader_train, unit=\"batch\") as tbatch:\n",
    "        tbatch.set_description(f\"Epoch: {epoch}\")\n",
    "        for features, labels in tbatch:\n",
    "            \n",
    "            llmodel.train_step(features.to(device))\n",
    "        \n",
    "            inputs = flatten(features.to(device)).t()\n",
    "            # I = <W,v> synaptic activation\n",
    "            tot_input = synaptic_activation(synapses, inputs)\n",
    "        \n",
    "            # find indices maximizing the synapse\n",
    "            _, indices = tot_input.topk(k, dim=0)\n",
    "            # g(Q) learning activation function\n",
    "            g_i = learning_activation(indices)\n",
    "            # Learning algorithm\n",
    "            xx = (g_i * tot_input).sum(dim=1)\n",
    "            ds = torch.matmul(g_i, inputs.t()) - xx.unsqueeze(1) * synapses\n",
    "            \n",
    "            nc = max(ds.abs().max(), prec)\n",
    "            \n",
    "            # the actual update\n",
    "            synapses += eps * ds / nc \n",
    "            ###################"
   ]
  },
  {
   "cell_type": "code",
   "execution_count": null,
   "metadata": {},
   "outputs": [],
   "source": []
  },
  {
   "cell_type": "code",
   "execution_count": 57,
   "metadata": {},
   "outputs": [
    {
     "name": "stdout",
     "output_type": "stream",
     "text": [
      "tensor([[-1.9860, -0.6130, -0.2619,  ..., -0.8956, -1.9603,  1.0813],\n",
      "        [-0.9060,  1.6547, -0.5406,  ...,  0.1384,  0.6506,  1.9399],\n",
      "        [ 1.2824, -0.7907, -0.4279,  ..., -0.2663,  0.2123, -0.5113],\n",
      "        ...,\n",
      "        [ 0.1967,  0.0191, -0.8641,  ...,  0.6774, -0.0913, -0.8661],\n",
      "        [ 1.0513, -0.8550, -1.9851,  ...,  0.5711, -1.5336,  0.8859],\n",
      "        [-1.1439, -0.5460, -0.0670,  ...,  1.6903,  0.4287,  0.4972]],\n",
      "       device='cuda:0')\n",
      "Parameter containing:\n",
      "tensor([[-0.8693, -0.6820,  3.6572,  ..., -1.3351,  0.2413, -1.0613],\n",
      "        [-0.3811,  0.8814, -0.4289,  ..., -0.8664, -1.7401, -0.2172],\n",
      "        [-0.5160,  1.0238, -0.5327,  ...,  0.1398, -0.2293,  1.4742],\n",
      "        ...,\n",
      "        [-1.3704, -0.4321, -0.5062,  ...,  1.2766, -0.4406,  0.1247],\n",
      "        [-0.9504, -0.6080, -0.8008,  ..., -0.5359,  0.3593,  0.7062],\n",
      "        [-0.8845, -1.3885,  0.3953,  ..., -0.8136,  2.2512, -0.6927]],\n",
      "       device='cuda:0')\n"
     ]
    }
   ],
   "source": [
    "print(synapses.t())\n",
    "print(llmodel.W)"
   ]
  },
  {
   "cell_type": "markdown",
   "metadata": {},
   "source": [
    "### synapses post training"
   ]
  },
  {
   "cell_type": "code",
   "execution_count": 43,
   "metadata": {},
   "outputs": [
    {
     "data": {
      "image/png": "[encoded data removed]",
      "text/plain": [
       "<Figure size 432x288 with 1 Axes>"
      ]
     },
     "metadata": {
      "needs_background": "light"
     },
     "output_type": "display_data"
    }
   ],
   "source": [
    "from matplotlib import pyplot as plt\n",
    "import numpy as np\n",
    "\n",
    "plt.figure()\n",
    "plt.hist(list(synapses)[0].data.cpu().detach().numpy())\n",
    "plt.show()"
   ]
  },
  {
   "cell_type": "markdown",
   "metadata": {},
   "source": [
    "# Inference and Spectrum"
   ]
  },
  {
   "cell_type": "code",
   "execution_count": null,
   "metadata": {},
   "outputs": [],
   "source": []
  },
  {
   "cell_type": "code",
   "execution_count": null,
   "metadata": {},
   "outputs": [],
   "source": []
  },
  {
   "cell_type": "code",
   "execution_count": 4,
   "metadata": {},
   "outputs": [],
   "source": [
    "if torch.cuda.is_available():\n",
    "    device = torch.device('cuda')\n",
    "else:\n",
    "    device = torch.device('cpu')\n",
    "    \n",
    "model_path = Path(\"../data/models/CIFAR10_locallearner.pth\")"
   ]
  },
  {
   "cell_type": "code",
   "execution_count": 3,
   "metadata": {},
   "outputs": [
    {
     "name": "stdout",
     "output_type": "stream",
     "text": [
      "Files already downloaded and verified\n"
     ]
    }
   ],
   "source": [
    "test_data = datasets.CIFAR10(\n",
    "    root = \"../data/CIFAR10\", train=True, download=True, transform=ToTensor()\n",
    ")\n",
    "\n",
    "dataloader_inference = DataLoader(\n",
    "    test_data, batch_size=64, num_workers=4, shuffle=False\n",
    ")"
   ]
  },
  {
   "cell_type": "code",
   "execution_count": 10,
   "metadata": {},
   "outputs": [
    {
     "name": "stderr",
     "output_type": "stream",
     "text": [
      "Calculating covariance spectrum: 100%|████████████████████████████████████████████████████████████| 782/782 [00:01<00:00, 424.63batch/s]\n"
     ]
    }
   ],
   "source": [
    "with torch.no_grad():\n",
    "    trained_state = torch.load(model_path)\n",
    "    model_ps = trained_state[\"model_parameters\"]\n",
    "    inf_model = LocalLearning.LocalLearningModel(model_ps)\n",
    "    inf_model.load_state_dict(trained_state[\"model_state_dict\"])\n",
    "    inf_model.to(device)\n",
    "    l_spectrum = LocalLearning.Statistics.cov_spectrum(dataloader_inference, inf_model, device)\n",
    "    cpu = torch.device('cpu')\n",
    "    l_spectrum = l_spectrum.to(cpu).numpy()"
   ]
  },
  {
   "cell_type": "code",
   "execution_count": 11,
   "metadata": {},
   "outputs": [
    {
     "data": {
      "text/plain": [
       "Text(0.5, 1.0, 'CIFAR10 Covariance Spectrum')"
      ]
     },
     "execution_count": 11,
     "metadata": {},
     "output_type": "execute_result"
    },
    {
     "name": "stderr",
     "output_type": "stream",
     "text": [
      "findfont: Font family ['serif'] not found. Falling back to DejaVu Sans.\n",
      "findfont: Generic family 'serif' not found because none of the following families were found: Computer Modern Roman\n",
      "findfont: Font family ['serif'] not found. Falling back to DejaVu Sans.\n",
      "findfont: Generic family 'serif' not found because none of the following families were found: Computer Modern Roman\n"
     ]
    },
    {
     "data": {
      "image/png": "[encoded data removed]",
      "text/plain": [
       "<Figure size 1012.5x1012.5 with 1 Axes>"
      ]
     },
     "metadata": {
      "needs_background": "light"
     },
     "output_type": "display_data"
    }
   ],
   "source": [
    "from matplotlib import pyplot as plt\n",
    "import numpy as np\n",
    "\n",
    "plt.style.use(['seaborn-paper', \"./PRLSingleCol.mplstyle\"])\n",
    "\n",
    "fig, ax = plt.subplots()\n",
    "ax.loglog(l_spectrum, label=r\"CIFAR10\")\n",
    "ax.loglog(LocalLearning.stringer_spectrum(np.arange(1, len(l_spectrum))), label=r\"$1 / n$\")\n",
    "ax.legend()\n",
    "ax.set_xlabel(r\"$n$\")\n",
    "ax.set_ylabel(r\"$\\lambda_{n}$\")\n",
    "ax.set_title(r\"CIFAR10 Covariance Spectrum\")"
   ]
  },
  {
   "cell_type": "markdown",
   "metadata": {},
   "source": [
    "# Biological Learning Model"
   ]
  },
  {
   "cell_type": "code",
   "execution_count": 1,
   "metadata": {},
   "outputs": [
    {
     "name": "stdout",
     "output_type": "stream",
     "text": [
      "Files already downloaded and verified\n"
     ]
    }
   ],
   "source": [
    "import torch\n",
    "from torch import nn\n",
    "from torch import Tensor\n",
    "from torch.utils.data import DataLoader\n",
    "from torchvision import datasets\n",
    "from torchvision.transforms import ToTensor\n",
    "from pathlib import Path\n",
    "from tqdm import tqdm\n",
    "\n",
    "from context import LocalLearning\n",
    "\n",
    "train_data = datasets.CIFAR10(\n",
    "    root = \"../data/CIFAR10\", train=True, download=True, transform=ToTensor()\n",
    ")\n",
    "\n",
    "dataloader_train = DataLoader(\n",
    "    train_data, batch_size=128, num_workers=4, shuffle=True\n",
    ")"
   ]
  },
  {
   "cell_type": "code",
   "execution_count": 2,
   "metadata": {},
   "outputs": [
    {
     "data": {
      "text/plain": [
       "BioLearningModel(\n",
       "  (local_learning): LocalLearningModel(\n",
       "    (flatten): Flatten(start_dim=1, end_dim=-1)\n",
       "  )\n",
       "  (relu): ReLU()\n",
       "  (dense): Linear(in_features=2000, out_features=10, bias=False)\n",
       "  (softmax): Softmax(dim=-1)\n",
       ")"
      ]
     },
     "execution_count": 2,
     "metadata": {},
     "output_type": "execute_result"
    }
   ],
   "source": [
    "if torch.cuda.is_available():\n",
    "    device = torch.device('cuda')\n",
    "else:\n",
    "    device = torch.device('cpu')\n",
    "    \n",
    "model_path = Path(\"../data/models/L2UnitCIFAR10_LL/llmodel_L2UnitCIFAR10_5.pth\")\n",
    "ll_trained_state = torch.load(model_path)\n",
    "bio_model = LocalLearning.BioLearningModel(ll_trained_state)\n",
    "#bio_model.to(device)\n",
    "bio_model.train()"
   ]
  },
  {
   "cell_type": "code",
   "execution_count": 6,
   "metadata": {},
   "outputs": [
    {
     "data": {
      "text/plain": [
       "Parameter containing:\n",
       "tensor([[-0.0716, -0.0728, -0.0742,  ..., -0.0726, -0.0726, -0.0724],\n",
       "        [-0.0716, -0.0727, -0.0735,  ..., -0.0720, -0.0724, -0.0724],\n",
       "        [-0.0721, -0.0733, -0.0737,  ..., -0.0728, -0.0729, -0.0738],\n",
       "        ...,\n",
       "        [-0.0627, -0.0643, -0.0633,  ..., -0.0643, -0.0637, -0.0644],\n",
       "        [-0.0622, -0.0641, -0.0633,  ..., -0.0644, -0.0640, -0.0637],\n",
       "        [-0.0631, -0.0645, -0.0629,  ..., -0.0646, -0.0642, -0.0631]])"
      ]
     },
     "execution_count": 6,
     "metadata": {},
     "output_type": "execute_result"
    }
   ],
   "source": [
    "from matplotlib import pyplot as plt\n",
    "import numpy as np\n",
    "\n",
    "#W_pre_training = bio_model.local_learning.W.clone()\n",
    "#plt.figure()\n",
    "#plt.hist(list(bio_model.parameters())[0].data.detach().numpy())\n",
    "#plt.show()\n",
    "\n",
    "list(bio_model.parameters())[0]"
   ]
  },
  {
   "cell_type": "code",
   "execution_count": 28,
   "metadata": {},
   "outputs": [],
   "source": [
    "learning_rate = lambda l: 0.02"
   ]
  },
  {
   "cell_type": "code",
   "execution_count": 29,
   "metadata": {},
   "outputs": [
    {
     "data": {
      "text/plain": [
       "0.02"
      ]
     },
     "execution_count": 29,
     "metadata": {},
     "output_type": "execute_result"
    }
   ],
   "source": [
    "learning_rate(4.0)"
   ]
  },
  {
   "cell_type": "code",
   "execution_count": null,
   "metadata": {},
   "outputs": [],
   "source": [
    "import torch.optim \n",
    "import numpy as np\n",
    "from matplotlib import pyplot as plt\n",
    "\n",
    "#optimizer = torch.optim.Adam(bio_model.parameters(), lr=0.0001)\n",
    "\n",
    "steps = 0\n",
    "\n",
    "plt.figure()\n",
    "\n",
    "for i in range(1):\n",
    "    for features, labels in dataloader_train:\n",
    "        #optimizer.zero_grad()\n",
    "        pred = bio_model(features)\n",
    "        plt.hist(np.ravel(pred.detach().numpy()), bins=np.linspace(0.0, 1.0, num=20), )\n",
    "        #print(pred)\n",
    "        #labels_one_hot = torch.zeros(pred.size())\n",
    "        #labels_one_hot.scatter_(-1, labels[..., None], 1.0)\n",
    "        #loss = torch.pow(pred - labels_one_hot, 4.0).sum()\n",
    "        #loss.backward()\n",
    "        #optimizer.step()\n",
    "        steps += 1\n",
    "        #print(list(bio_model.parameters())[1])\n",
    "    \n",
    "print(steps)\n",
    "plt.show()"
   ]
  },
  {
   "cell_type": "code",
   "execution_count": 20,
   "metadata": {},
   "outputs": [
    {
     "data": {
      "text/plain": [
       "True"
      ]
     },
     "execution_count": 20,
     "metadata": {},
     "output_type": "execute_result"
    }
   ],
   "source": [
    "W_post = list(bio_model.parameters())[1].data\n",
    "torch.equal(W_pre, W_post)"
   ]
  },
  {
   "cell_type": "markdown",
   "metadata": {},
   "source": [
    "# End-to-end backpropagation model"
   ]
  },
  {
   "cell_type": "code",
   "execution_count": 1,
   "metadata": {},
   "outputs": [],
   "source": [
    "import torch\n",
    "from torch import nn\n",
    "from torch import Tensor\n",
    "from torch.utils.data import DataLoader\n",
    "from torchvision import datasets\n",
    "from torchvision.transforms import ToTensor\n",
    "from pathlib import Path\n",
    "from tqdm import tqdm"
   ]
  },
  {
   "cell_type": "code",
   "execution_count": 2,
   "metadata": {},
   "outputs": [
    {
     "data": {
      "text/plain": [
       "Classifier(\n",
       "  (flatten): Flatten(start_dim=1, end_dim=-1)\n",
       "  (hidden): Linear(in_features=3072, out_features=2000, bias=False)\n",
       "  (relu): ReLU()\n",
       "  (dense): Linear(in_features=2000, out_features=10, bias=False)\n",
       "  (relu_two): ReLU()\n",
       "  (softmax): Softmax(dim=-1)\n",
       ")"
      ]
     },
     "execution_count": 2,
     "metadata": {},
     "output_type": "execute_result"
    }
   ],
   "source": [
    "class Classifier(nn.Module):\n",
    "    \n",
    "    def __init__(self):\n",
    "        super(Classifier, self).__init__()\n",
    "        self.flatten = nn.Flatten()\n",
    "        self.flatten.requires_grad_(False)\n",
    "        self.hidden = nn.Linear(32*32*3, 2000, bias=False)\n",
    "        self.hidden.requires_grad_(False)\n",
    "        self.relu = nn.ReLU()\n",
    "        self.dense = nn.Linear(2000, 10, bias=False)\n",
    "        self.relu_two = nn.ReLU()\n",
    "        self.softmax = nn.Softmax(dim=-1)\n",
    "        \n",
    "    def forward(self, x: Tensor) -> Tensor:\n",
    "        hidden = self.hidden(self.flatten(x))\n",
    "        activation = torch.pow(self.relu(hidden), 4.5)\n",
    "        return self.softmax(self.dense(activation))\n",
    "\n",
    "classifier = Classifier()\n",
    "classifier.train()"
   ]
  },
  {
   "cell_type": "code",
   "execution_count": 5,
   "metadata": {},
   "outputs": [
    {
     "name": "stdout",
     "output_type": "stream",
     "text": [
      "Files already downloaded and verified\n"
     ]
    }
   ],
   "source": [
    "train_data = datasets.CIFAR10(\n",
    "    root = \"../data/CIFAR10\", train=True, download=True, transform=ToTensor()\n",
    ")\n",
    "\n",
    "dataloader_train = DataLoader(\n",
    "    train_data, batch_size=128, num_workers=4, shuffle=True\n",
    ")"
   ]
  },
  {
   "cell_type": "code",
   "execution_count": 6,
   "metadata": {},
   "outputs": [
    {
     "data": {
      "text/plain": [
       "[Parameter containing:\n",
       " tensor([[-0.0057, -0.0161,  0.0151,  ...,  0.0126,  0.0153, -0.0043],\n",
       "         [-0.0178, -0.0174, -0.0080,  ..., -0.0031,  0.0024, -0.0178],\n",
       "         [-0.0128,  0.0065, -0.0057,  ...,  0.0036, -0.0115, -0.0179],\n",
       "         ...,\n",
       "         [ 0.0143,  0.0145, -0.0003,  ...,  0.0177,  0.0071, -0.0105],\n",
       "         [-0.0047,  0.0028, -0.0154,  ...,  0.0027,  0.0038, -0.0042],\n",
       "         [ 0.0141,  0.0036,  0.0101,  ...,  0.0180,  0.0167,  0.0016]]),\n",
       " Parameter containing:\n",
       " tensor([[ 0.0110,  0.0190, -0.0184,  ..., -0.0133,  0.0010, -0.0182],\n",
       "         [ 0.0149,  0.0203,  0.0185,  ..., -0.0199,  0.0076, -0.0182],\n",
       "         [-0.0079, -0.0096, -0.0169,  ...,  0.0033,  0.0203,  0.0060],\n",
       "         ...,\n",
       "         [ 0.0180,  0.0166,  0.0055,  ..., -0.0124, -0.0059, -0.0129],\n",
       "         [ 0.0084, -0.0085, -0.0119,  ...,  0.0105,  0.0023, -0.0041],\n",
       "         [ 0.0135,  0.0062,  0.0137,  ...,  0.0090, -0.0057, -0.0153]],\n",
       "        requires_grad=True)]"
      ]
     },
     "execution_count": 6,
     "metadata": {},
     "output_type": "execute_result"
    }
   ],
   "source": [
    "list(classifier.parameters())"
   ]
  },
  {
   "cell_type": "code",
   "execution_count": 7,
   "metadata": {},
   "outputs": [],
   "source": [
    "import torch.optim \n",
    "\n",
    "optimizer = torch.optim.Adam(classifier.parameters(), lr=0.001)\n",
    "\n",
    "for features, labels in dataloader_train:\n",
    "    optimizer.zero_grad()\n",
    "    pred = classifier(features)\n",
    "    labels_one_hot = torch.zeros(pred.size())\n",
    "    labels_one_hot.scatter_(-1, labels[..., None], 1.0)\n",
    "    loss = torch.pow(pred - labels_one_hot, 6.0).sum()\n",
    "    loss.backward()\n",
    "    optimizer.step()"
   ]
  },
  {
   "cell_type": "code",
   "execution_count": 8,
   "metadata": {},
   "outputs": [
    {
     "data": {
      "text/plain": [
       "[Parameter containing:\n",
       " tensor([[-0.0057, -0.0161,  0.0151,  ...,  0.0126,  0.0153, -0.0043],\n",
       "         [-0.0178, -0.0174, -0.0080,  ..., -0.0031,  0.0024, -0.0178],\n",
       "         [-0.0128,  0.0065, -0.0057,  ...,  0.0036, -0.0115, -0.0179],\n",
       "         ...,\n",
       "         [ 0.0143,  0.0145, -0.0003,  ...,  0.0177,  0.0071, -0.0105],\n",
       "         [-0.0047,  0.0028, -0.0154,  ...,  0.0027,  0.0038, -0.0042],\n",
       "         [ 0.0141,  0.0036,  0.0101,  ...,  0.0180,  0.0167,  0.0016]]),\n",
       " Parameter containing:\n",
       " tensor([[-0.1682, -0.0894, -0.1055,  ..., -0.0870, -0.1443, -0.0445],\n",
       "         [ 0.0597, -0.0100,  0.0443,  ...,  0.1123,  0.0917,  0.0718],\n",
       "         [-0.0711,  0.0364, -0.1270,  ..., -0.1561, -0.1763, -0.1152],\n",
       "         ...,\n",
       "         [ 0.0317,  0.0624,  0.0866,  ..., -0.1071, -0.0031, -0.0434],\n",
       "         [-0.1795, -0.1541, -0.1571,  ...,  0.0341, -0.0771, -0.0836],\n",
       "         [ 0.1219, -0.1365,  0.1390,  ..., -0.0028,  0.1732,  0.0729]],\n",
       "        requires_grad=True)]"
      ]
     },
     "execution_count": 8,
     "metadata": {},
     "output_type": "execute_result"
    }
   ],
   "source": [
    "list(classifier.parameters())"
   ]
  },
  {
   "cell_type": "code",
   "execution_count": 11,
   "metadata": {},
   "outputs": [
    {
     "data": {
      "text/plain": [
       "{'model_state_dict': OrderedDict([('W',\n",
       "               tensor([[-0.0741, -0.0739, -0.0741,  ..., -0.0742, -0.0741, -0.0739],\n",
       "                       [-0.0737, -0.0737, -0.0736,  ..., -0.0736, -0.0738, -0.0737],\n",
       "                       [-0.0741, -0.0743, -0.0742,  ..., -0.0740, -0.0742, -0.0744],\n",
       "                       ...,\n",
       "                       [-0.0646, -0.0644, -0.0645,  ..., -0.0647, -0.0645, -0.0644],\n",
       "                       [-0.0647, -0.0643, -0.0648,  ..., -0.0645, -0.0644, -0.0647],\n",
       "                       [-0.0651, -0.0649, -0.0648,  ..., -0.0647, -0.0647, -0.0649]],\n",
       "                      device='cuda:0'))]),\n",
       " 'model_parameters': {'in_size': 3072,\n",
       "  'hidden_size': 2000,\n",
       "  'n': 4.5,\n",
       "  'p': 3,\n",
       "  'tau_l': 5000.0,\n",
       "  'k': 7,\n",
       "  'Delta': 0.4,\n",
       "  'R': 1.0},\n",
       " 'device_type': 'cuda'}"
      ]
     },
     "execution_count": 11,
     "metadata": {},
     "output_type": "execute_result"
    }
   ],
   "source": []
  },
  {
   "cell_type": "code",
   "execution_count": null,
   "metadata": {},
   "outputs": [],
   "source": []
  }
 ],
 "metadata": {
  "kernelspec": {
   "display_name": "Python 3 (ipykernel)",
   "language": "python",
   "name": "python3"
  },
  "language_info": {
   "codemirror_mode": {
    "name": "ipython",
    "version": 3
   },
   "file_extension": ".py",
   "mimetype": "text/x-python",
   "name": "python",
   "nbconvert_exporter": "python",
   "pygments_lexer": "ipython3",
   "version": "3.9.1"
  }
 },
 "nbformat": 4,
 "nbformat_minor": 4
}
