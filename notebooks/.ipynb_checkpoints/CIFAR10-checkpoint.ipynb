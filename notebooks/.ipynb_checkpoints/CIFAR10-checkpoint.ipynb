{
 "cells": [
  {
   "cell_type": "markdown",
   "metadata": {},
   "source": [
    "# Local Learning on CIFAR10"
   ]
  },
  {
   "cell_type": "code",
   "execution_count": 5,
   "metadata": {},
   "outputs": [],
   "source": [
    "import torch\n",
    "from torch.utils.data import DataLoader\n",
    "from torchvision.transforms import ToTensor\n",
    "from pathlib import Path\n",
    "from context import LocalLearning"
   ]
  },
  {
   "cell_type": "code",
   "execution_count": 2,
   "metadata": {},
   "outputs": [],
   "source": [
    "if torch.cuda.is_available():\n",
    "    device = torch.device('cuda')\n",
    "else:\n",
    "    device = torch.device('cpu')"
   ]
  },
  {
   "cell_type": "code",
   "execution_count": 6,
   "metadata": {},
   "outputs": [
    {
     "name": "stdout",
     "output_type": "stream",
     "text": [
      "Files already downloaded and verified\n"
     ]
    }
   ],
   "source": [
    "test_data = LocalLearning.LpUnitCIFAR10(\n",
    "    root=\"../data/CIFAR10\",\n",
    "    train=False, \n",
    "    transform=ToTensor()\n",
    ")\n",
    "\n",
    "test_dataloader = DataLoader(\n",
    "    test_data,\n",
    "    batch_size=1000,\n",
    "    num_workers=4,\n",
    "    shuffle=False\n",
    ")"
   ]
  },
  {
   "cell_type": "code",
   "execution_count": 7,
   "metadata": {},
   "outputs": [
    {
     "name": "stderr",
     "output_type": "stream",
     "text": [
      "Calculating covariance spectrum: 100%|████████████████████████████████████████████████████████████████████| 10/10 [00:01<00:00,  7.97batch/s]\n"
     ]
    }
   ],
   "source": [
    "trained_weights_path = Path(\"../data/models/L2UnitCIFAR10_LL/cifar.pth\")\n",
    "cpu = torch.device('cpu')\n",
    "\n",
    "with torch.no_grad():\n",
    "    trained_state = torch.load(trained_weights_path)\n",
    "    model_ps = trained_state[\"model_parameters\"]\n",
    "    model = LocalLearning.FKHL3(model_ps)\n",
    "    model.eval()\n",
    "    model.load_state_dict(trained_state[\"model_state_dict\"])\n",
    "    model.to(device)\n",
    "    l_n_trained = LocalLearning.cov_spectrum(test_dataloader, model, device)\n",
    "    l_n_trained = l_n_trained.to(cpu).numpy()"
   ]
  },
  {
   "cell_type": "code",
   "execution_count": 20,
   "metadata": {},
   "outputs": [
    {
     "ename": "ValueError",
     "evalue": "x and y must have same first dimension, but have shapes (1999,) and (2000,)",
     "output_type": "error",
     "traceback": [
      "\u001b[0;31m---------------------------------------------------------------------------\u001b[0m",
      "\u001b[0;31mValueError\u001b[0m                                Traceback (most recent call last)",
      "Input \u001b[0;32mIn [20]\u001b[0m, in \u001b[0;36m<cell line: 9>\u001b[0;34m()\u001b[0m\n\u001b[1;32m      6\u001b[0m plt\u001b[38;5;241m.\u001b[39mstyle\u001b[38;5;241m.\u001b[39muse([\u001b[38;5;124m'\u001b[39m\u001b[38;5;124mseaborn-paper\u001b[39m\u001b[38;5;124m'\u001b[39m, \u001b[38;5;124m\"\u001b[39m\u001b[38;5;124m./PRLSingleCol.mplstyle\u001b[39m\u001b[38;5;124m\"\u001b[39m])\n\u001b[1;32m      8\u001b[0m fig, ax \u001b[38;5;241m=\u001b[39m plt\u001b[38;5;241m.\u001b[39msubplots()\n\u001b[0;32m----> 9\u001b[0m \u001b[43max\u001b[49m\u001b[38;5;241;43m.\u001b[39;49m\u001b[43mloglog\u001b[49m\u001b[43m(\u001b[49m\u001b[43mnp\u001b[49m\u001b[38;5;241;43m.\u001b[39;49m\u001b[43marange\u001b[49m\u001b[43m(\u001b[49m\u001b[38;5;241;43m1\u001b[39;49m\u001b[43m,\u001b[49m\u001b[43m \u001b[49m\u001b[38;5;28;43mlen\u001b[39;49m\u001b[43m(\u001b[49m\u001b[43ml_n_trained\u001b[49m\u001b[43m)\u001b[49m\u001b[43m)\u001b[49m\u001b[43m,\u001b[49m\u001b[43m \u001b[49m\u001b[43ml_n_trained\u001b[49m\u001b[43m,\u001b[49m\u001b[43m \u001b[49m\u001b[43mlabel\u001b[49m\u001b[38;5;241;43m=\u001b[39;49m\u001b[38;5;124;43mr\u001b[39;49m\u001b[38;5;124;43m\"\u001b[39;49m\u001b[38;5;124;43mCIFAR10\u001b[39;49m\u001b[38;5;124;43m\"\u001b[39;49m\u001b[43m)\u001b[49m\n\u001b[1;32m     10\u001b[0m \u001b[38;5;66;03m#ax.loglog(l_n_trained[0]*LocalLearning.stringer_spectrum(x), label=r\"$1 / n$\")\u001b[39;00m\n\u001b[1;32m     11\u001b[0m ax\u001b[38;5;241m.\u001b[39mlegend()\n",
      "File \u001b[0;32m~/anaconda3/envs/pytorch/lib/python3.9/site-packages/matplotlib/axes/_axes.py:1770\u001b[0m, in \u001b[0;36mAxes.loglog\u001b[0;34m(self, *args, **kwargs)\u001b[0m\n\u001b[1;32m   1766\u001b[0m dy \u001b[38;5;241m=\u001b[39m {k: v \u001b[38;5;28;01mfor\u001b[39;00m k, v \u001b[38;5;129;01min\u001b[39;00m kwargs\u001b[38;5;241m.\u001b[39mitems()\n\u001b[1;32m   1767\u001b[0m       \u001b[38;5;28;01mif\u001b[39;00m k \u001b[38;5;129;01min\u001b[39;00m [\u001b[38;5;124m'\u001b[39m\u001b[38;5;124mbase\u001b[39m\u001b[38;5;124m'\u001b[39m, \u001b[38;5;124m'\u001b[39m\u001b[38;5;124msubs\u001b[39m\u001b[38;5;124m'\u001b[39m, \u001b[38;5;124m'\u001b[39m\u001b[38;5;124mnonpositive\u001b[39m\u001b[38;5;124m'\u001b[39m,\n\u001b[1;32m   1768\u001b[0m                \u001b[38;5;124m'\u001b[39m\u001b[38;5;124mbasey\u001b[39m\u001b[38;5;124m'\u001b[39m, \u001b[38;5;124m'\u001b[39m\u001b[38;5;124msubsy\u001b[39m\u001b[38;5;124m'\u001b[39m, \u001b[38;5;124m'\u001b[39m\u001b[38;5;124mnonposy\u001b[39m\u001b[38;5;124m'\u001b[39m]}\n\u001b[1;32m   1769\u001b[0m \u001b[38;5;28mself\u001b[39m\u001b[38;5;241m.\u001b[39mset_yscale(\u001b[38;5;124m'\u001b[39m\u001b[38;5;124mlog\u001b[39m\u001b[38;5;124m'\u001b[39m, \u001b[38;5;241m*\u001b[39m\u001b[38;5;241m*\u001b[39mdy)\n\u001b[0;32m-> 1770\u001b[0m \u001b[38;5;28;01mreturn\u001b[39;00m \u001b[38;5;28;43mself\u001b[39;49m\u001b[38;5;241;43m.\u001b[39;49m\u001b[43mplot\u001b[49m\u001b[43m(\u001b[49m\n\u001b[1;32m   1771\u001b[0m \u001b[43m    \u001b[49m\u001b[38;5;241;43m*\u001b[39;49m\u001b[43margs\u001b[49m\u001b[43m,\u001b[49m\u001b[43m \u001b[49m\u001b[38;5;241;43m*\u001b[39;49m\u001b[38;5;241;43m*\u001b[39;49m\u001b[43m{\u001b[49m\u001b[43mk\u001b[49m\u001b[43m:\u001b[49m\u001b[43m \u001b[49m\u001b[43mv\u001b[49m\u001b[43m \u001b[49m\u001b[38;5;28;43;01mfor\u001b[39;49;00m\u001b[43m \u001b[49m\u001b[43mk\u001b[49m\u001b[43m,\u001b[49m\u001b[43m \u001b[49m\u001b[43mv\u001b[49m\u001b[43m \u001b[49m\u001b[38;5;129;43;01min\u001b[39;49;00m\u001b[43m \u001b[49m\u001b[43mkwargs\u001b[49m\u001b[38;5;241;43m.\u001b[39;49m\u001b[43mitems\u001b[49m\u001b[43m(\u001b[49m\u001b[43m)\u001b[49m\u001b[43m \u001b[49m\u001b[38;5;28;43;01mif\u001b[39;49;00m\u001b[43m \u001b[49m\u001b[43mk\u001b[49m\u001b[43m \u001b[49m\u001b[38;5;129;43;01mnot\u001b[39;49;00m\u001b[43m \u001b[49m\u001b[38;5;129;43;01min\u001b[39;49;00m\u001b[43m \u001b[49m\u001b[43m{\u001b[49m\u001b[38;5;241;43m*\u001b[39;49m\u001b[43mdx\u001b[49m\u001b[43m,\u001b[49m\u001b[43m \u001b[49m\u001b[38;5;241;43m*\u001b[39;49m\u001b[43mdy\u001b[49m\u001b[43m}\u001b[49m\u001b[43m}\u001b[49m\u001b[43m)\u001b[49m\n",
      "File \u001b[0;32m~/anaconda3/envs/pytorch/lib/python3.9/site-packages/matplotlib/axes/_axes.py:1632\u001b[0m, in \u001b[0;36mAxes.plot\u001b[0;34m(self, scalex, scaley, data, *args, **kwargs)\u001b[0m\n\u001b[1;32m   1390\u001b[0m \u001b[38;5;124;03m\"\"\"\u001b[39;00m\n\u001b[1;32m   1391\u001b[0m \u001b[38;5;124;03mPlot y versus x as lines and/or markers.\u001b[39;00m\n\u001b[1;32m   1392\u001b[0m \n\u001b[0;32m   (...)\u001b[0m\n\u001b[1;32m   1629\u001b[0m \u001b[38;5;124;03m(``'green'``) or hex strings (``'#008000'``).\u001b[39;00m\n\u001b[1;32m   1630\u001b[0m \u001b[38;5;124;03m\"\"\"\u001b[39;00m\n\u001b[1;32m   1631\u001b[0m kwargs \u001b[38;5;241m=\u001b[39m cbook\u001b[38;5;241m.\u001b[39mnormalize_kwargs(kwargs, mlines\u001b[38;5;241m.\u001b[39mLine2D)\n\u001b[0;32m-> 1632\u001b[0m lines \u001b[38;5;241m=\u001b[39m [\u001b[38;5;241m*\u001b[39m\u001b[38;5;28mself\u001b[39m\u001b[38;5;241m.\u001b[39m_get_lines(\u001b[38;5;241m*\u001b[39margs, data\u001b[38;5;241m=\u001b[39mdata, \u001b[38;5;241m*\u001b[39m\u001b[38;5;241m*\u001b[39mkwargs)]\n\u001b[1;32m   1633\u001b[0m \u001b[38;5;28;01mfor\u001b[39;00m line \u001b[38;5;129;01min\u001b[39;00m lines:\n\u001b[1;32m   1634\u001b[0m     \u001b[38;5;28mself\u001b[39m\u001b[38;5;241m.\u001b[39madd_line(line)\n",
      "File \u001b[0;32m~/anaconda3/envs/pytorch/lib/python3.9/site-packages/matplotlib/axes/_base.py:312\u001b[0m, in \u001b[0;36m_process_plot_var_args.__call__\u001b[0;34m(self, data, *args, **kwargs)\u001b[0m\n\u001b[1;32m    310\u001b[0m     this \u001b[38;5;241m+\u001b[39m\u001b[38;5;241m=\u001b[39m args[\u001b[38;5;241m0\u001b[39m],\n\u001b[1;32m    311\u001b[0m     args \u001b[38;5;241m=\u001b[39m args[\u001b[38;5;241m1\u001b[39m:]\n\u001b[0;32m--> 312\u001b[0m \u001b[38;5;28;01myield from\u001b[39;00m \u001b[38;5;28;43mself\u001b[39;49m\u001b[38;5;241;43m.\u001b[39;49m\u001b[43m_plot_args\u001b[49m\u001b[43m(\u001b[49m\u001b[43mthis\u001b[49m\u001b[43m,\u001b[49m\u001b[43m \u001b[49m\u001b[43mkwargs\u001b[49m\u001b[43m)\u001b[49m\n",
      "File \u001b[0;32m~/anaconda3/envs/pytorch/lib/python3.9/site-packages/matplotlib/axes/_base.py:498\u001b[0m, in \u001b[0;36m_process_plot_var_args._plot_args\u001b[0;34m(self, tup, kwargs, return_kwargs)\u001b[0m\n\u001b[1;32m    495\u001b[0m     \u001b[38;5;28mself\u001b[39m\u001b[38;5;241m.\u001b[39maxes\u001b[38;5;241m.\u001b[39myaxis\u001b[38;5;241m.\u001b[39mupdate_units(y)\n\u001b[1;32m    497\u001b[0m \u001b[38;5;28;01mif\u001b[39;00m x\u001b[38;5;241m.\u001b[39mshape[\u001b[38;5;241m0\u001b[39m] \u001b[38;5;241m!=\u001b[39m y\u001b[38;5;241m.\u001b[39mshape[\u001b[38;5;241m0\u001b[39m]:\n\u001b[0;32m--> 498\u001b[0m     \u001b[38;5;28;01mraise\u001b[39;00m \u001b[38;5;167;01mValueError\u001b[39;00m(\u001b[38;5;124mf\u001b[39m\u001b[38;5;124m\"\u001b[39m\u001b[38;5;124mx and y must have same first dimension, but \u001b[39m\u001b[38;5;124m\"\u001b[39m\n\u001b[1;32m    499\u001b[0m                      \u001b[38;5;124mf\u001b[39m\u001b[38;5;124m\"\u001b[39m\u001b[38;5;124mhave shapes \u001b[39m\u001b[38;5;132;01m{\u001b[39;00mx\u001b[38;5;241m.\u001b[39mshape\u001b[38;5;132;01m}\u001b[39;00m\u001b[38;5;124m and \u001b[39m\u001b[38;5;132;01m{\u001b[39;00my\u001b[38;5;241m.\u001b[39mshape\u001b[38;5;132;01m}\u001b[39;00m\u001b[38;5;124m\"\u001b[39m)\n\u001b[1;32m    500\u001b[0m \u001b[38;5;28;01mif\u001b[39;00m x\u001b[38;5;241m.\u001b[39mndim \u001b[38;5;241m>\u001b[39m \u001b[38;5;241m2\u001b[39m \u001b[38;5;129;01mor\u001b[39;00m y\u001b[38;5;241m.\u001b[39mndim \u001b[38;5;241m>\u001b[39m \u001b[38;5;241m2\u001b[39m:\n\u001b[1;32m    501\u001b[0m     \u001b[38;5;28;01mraise\u001b[39;00m \u001b[38;5;167;01mValueError\u001b[39;00m(\u001b[38;5;124mf\u001b[39m\u001b[38;5;124m\"\u001b[39m\u001b[38;5;124mx and y can be no greater than 2D, but have \u001b[39m\u001b[38;5;124m\"\u001b[39m\n\u001b[1;32m    502\u001b[0m                      \u001b[38;5;124mf\u001b[39m\u001b[38;5;124m\"\u001b[39m\u001b[38;5;124mshapes \u001b[39m\u001b[38;5;132;01m{\u001b[39;00mx\u001b[38;5;241m.\u001b[39mshape\u001b[38;5;132;01m}\u001b[39;00m\u001b[38;5;124m and \u001b[39m\u001b[38;5;132;01m{\u001b[39;00my\u001b[38;5;241m.\u001b[39mshape\u001b[38;5;132;01m}\u001b[39;00m\u001b[38;5;124m\"\u001b[39m)\n",
      "\u001b[0;31mValueError\u001b[0m: x and y must have same first dimension, but have shapes (1999,) and (2000,)"
     ]
    },
    {
     "data": {
      "image/png": "[encoded data removed]",
      "text/plain": [
       "<Figure size 1012.5x1012.5 with 1 Axes>"
      ]
     },
     "metadata": {
      "needs_background": "light"
     },
     "output_type": "display_data"
    }
   ],
   "source": [
    "from matplotlib import pyplot as plt\n",
    "import numpy as np\n",
    "\n",
    "x = np.linspace(1e-2, 1e3, num=100)\n",
    "\n",
    "plt.style.use(['seaborn-paper', \"./PRLSingleCol.mplstyle\"])\n",
    "\n",
    "fig, ax = plt.subplots()\n",
    "ax.loglog(np.arange(1, len(l_n_trained) + 1), l_n_trained, label=r\"CIFAR10\")\n",
    "#ax.loglog(l_n_trained[0]*LocalLearning.stringer_spectrum(x), label=r\"$1 / n$\")\n",
    "ax.legend()\n",
    "ax.set_xlabel(r\"$n$\")\n",
    "ax.set_ylabel(r\"$\\lambda_{n}$\")\n",
    "ax.set_title(r\"CIFAR10 Covariance Spectrum\")"
   ]
  },
  {
   "cell_type": "markdown",
   "metadata": {},
   "source": [
    "# Biological Learning Model"
   ]
  },
  {
   "cell_type": "code",
   "execution_count": 1,
   "metadata": {},
   "outputs": [
    {
     "name": "stdout",
     "output_type": "stream",
     "text": [
      "Files already downloaded and verified\n"
     ]
    }
   ],
   "source": [
    "import torch\n",
    "from torch import nn\n",
    "from torch import Tensor\n",
    "from torch.utils.data import DataLoader\n",
    "from torchvision import datasets\n",
    "from torchvision.transforms import ToTensor\n",
    "from pathlib import Path\n",
    "from tqdm import tqdm\n",
    "\n",
    "from context import LocalLearning\n",
    "\n",
    "train_data = datasets.CIFAR10(\n",
    "    root = \"../data/CIFAR10\", train=True, download=True, transform=ToTensor()\n",
    ")\n",
    "\n",
    "dataloader_train = DataLoader(\n",
    "    train_data, batch_size=128, num_workers=4, shuffle=True\n",
    ")"
   ]
  },
  {
   "cell_type": "code",
   "execution_count": 2,
   "metadata": {},
   "outputs": [
    {
     "data": {
      "text/plain": [
       "BioLearningModel(\n",
       "  (local_learning): LocalLearningModel(\n",
       "    (flatten): Flatten(start_dim=1, end_dim=-1)\n",
       "  )\n",
       "  (relu): ReLU()\n",
       "  (dense): Linear(in_features=2000, out_features=10, bias=False)\n",
       "  (softmax): Softmax(dim=-1)\n",
       ")"
      ]
     },
     "execution_count": 2,
     "metadata": {},
     "output_type": "execute_result"
    }
   ],
   "source": [
    "if torch.cuda.is_available():\n",
    "    device = torch.device('cuda')\n",
    "else:\n",
    "    device = torch.device('cpu')\n",
    "    \n",
    "model_path = Path(\"../data/models/L2UnitCIFAR10_LL/llmodel_L2UnitCIFAR10_5.pth\")\n",
    "ll_trained_state = torch.load(model_path)\n",
    "bio_model = LocalLearning.BioLearningModel(ll_trained_state)\n",
    "#bio_model.to(device)\n",
    "bio_model.train()"
   ]
  },
  {
   "cell_type": "code",
   "execution_count": 6,
   "metadata": {},
   "outputs": [
    {
     "data": {
      "text/plain": [
       "Parameter containing:\n",
       "tensor([[-0.0716, -0.0728, -0.0742,  ..., -0.0726, -0.0726, -0.0724],\n",
       "        [-0.0716, -0.0727, -0.0735,  ..., -0.0720, -0.0724, -0.0724],\n",
       "        [-0.0721, -0.0733, -0.0737,  ..., -0.0728, -0.0729, -0.0738],\n",
       "        ...,\n",
       "        [-0.0627, -0.0643, -0.0633,  ..., -0.0643, -0.0637, -0.0644],\n",
       "        [-0.0622, -0.0641, -0.0633,  ..., -0.0644, -0.0640, -0.0637],\n",
       "        [-0.0631, -0.0645, -0.0629,  ..., -0.0646, -0.0642, -0.0631]])"
      ]
     },
     "execution_count": 6,
     "metadata": {},
     "output_type": "execute_result"
    }
   ],
   "source": [
    "from matplotlib import pyplot as plt\n",
    "import numpy as np\n",
    "\n",
    "#W_pre_training = bio_model.local_learning.W.clone()\n",
    "#plt.figure()\n",
    "#plt.hist(list(bio_model.parameters())[0].data.detach().numpy())\n",
    "#plt.show()\n",
    "\n",
    "list(bio_model.parameters())[0]"
   ]
  },
  {
   "cell_type": "code",
   "execution_count": 28,
   "metadata": {},
   "outputs": [],
   "source": [
    "learning_rate = lambda l: 0.02"
   ]
  },
  {
   "cell_type": "code",
   "execution_count": 29,
   "metadata": {},
   "outputs": [
    {
     "data": {
      "text/plain": [
       "0.02"
      ]
     },
     "execution_count": 29,
     "metadata": {},
     "output_type": "execute_result"
    }
   ],
   "source": [
    "learning_rate(4.0)"
   ]
  },
  {
   "cell_type": "code",
   "execution_count": null,
   "metadata": {},
   "outputs": [],
   "source": [
    "import torch.optim \n",
    "import numpy as np\n",
    "from matplotlib import pyplot as plt\n",
    "\n",
    "#optimizer = torch.optim.Adam(bio_model.parameters(), lr=0.0001)\n",
    "\n",
    "steps = 0\n",
    "\n",
    "plt.figure()\n",
    "\n",
    "for i in range(1):\n",
    "    for features, labels in dataloader_train:\n",
    "        #optimizer.zero_grad()\n",
    "        pred = bio_model(features)\n",
    "        plt.hist(np.ravel(pred.detach().numpy()), bins=np.linspace(0.0, 1.0, num=20), )\n",
    "        #print(pred)\n",
    "        #labels_one_hot = torch.zeros(pred.size())\n",
    "        #labels_one_hot.scatter_(-1, labels[..., None], 1.0)\n",
    "        #loss = torch.pow(pred - labels_one_hot, 4.0).sum()\n",
    "        #loss.backward()\n",
    "        #optimizer.step()\n",
    "        steps += 1\n",
    "        #print(list(bio_model.parameters())[1])\n",
    "    \n",
    "print(steps)\n",
    "plt.show()"
   ]
  },
  {
   "cell_type": "code",
   "execution_count": 20,
   "metadata": {},
   "outputs": [
    {
     "data": {
      "text/plain": [
       "True"
      ]
     },
     "execution_count": 20,
     "metadata": {},
     "output_type": "execute_result"
    }
   ],
   "source": [
    "W_post = list(bio_model.parameters())[1].data\n",
    "torch.equal(W_pre, W_post)"
   ]
  },
  {
   "cell_type": "markdown",
   "metadata": {},
   "source": [
    "# End-to-end backpropagation model"
   ]
  },
  {
   "cell_type": "code",
   "execution_count": 1,
   "metadata": {},
   "outputs": [],
   "source": [
    "import torch\n",
    "from torch import nn\n",
    "from torch import Tensor\n",
    "from torch.utils.data import DataLoader\n",
    "from torchvision import datasets\n",
    "from torchvision.transforms import ToTensor\n",
    "from pathlib import Path\n",
    "from tqdm import tqdm"
   ]
  },
  {
   "cell_type": "code",
   "execution_count": 2,
   "metadata": {},
   "outputs": [
    {
     "data": {
      "text/plain": [
       "Classifier(\n",
       "  (flatten): Flatten(start_dim=1, end_dim=-1)\n",
       "  (hidden): Linear(in_features=3072, out_features=2000, bias=False)\n",
       "  (relu): ReLU()\n",
       "  (dense): Linear(in_features=2000, out_features=10, bias=False)\n",
       "  (relu_two): ReLU()\n",
       "  (softmax): Softmax(dim=-1)\n",
       ")"
      ]
     },
     "execution_count": 2,
     "metadata": {},
     "output_type": "execute_result"
    }
   ],
   "source": [
    "class Classifier(nn.Module):\n",
    "    \n",
    "    def __init__(self):\n",
    "        super(Classifier, self).__init__()\n",
    "        self.flatten = nn.Flatten()\n",
    "        self.flatten.requires_grad_(False)\n",
    "        self.hidden = nn.Linear(32*32*3, 2000, bias=False)\n",
    "        self.hidden.requires_grad_(False)\n",
    "        self.relu = nn.ReLU()\n",
    "        self.dense = nn.Linear(2000, 10, bias=False)\n",
    "        self.relu_two = nn.ReLU()\n",
    "        self.softmax = nn.Softmax(dim=-1)\n",
    "        \n",
    "    def forward(self, x: Tensor) -> Tensor:\n",
    "        hidden = self.hidden(self.flatten(x))\n",
    "        activation = torch.pow(self.relu(hidden), 4.5)\n",
    "        return self.softmax(self.dense(activation))\n",
    "\n",
    "classifier = Classifier()\n",
    "classifier.train()"
   ]
  },
  {
   "cell_type": "code",
   "execution_count": 5,
   "metadata": {},
   "outputs": [
    {
     "name": "stdout",
     "output_type": "stream",
     "text": [
      "Files already downloaded and verified\n"
     ]
    }
   ],
   "source": [
    "train_data = datasets.CIFAR10(\n",
    "    root = \"../data/CIFAR10\", train=True, download=True, transform=ToTensor()\n",
    ")\n",
    "\n",
    "dataloader_train = DataLoader(\n",
    "    train_data, batch_size=128, num_workers=4, shuffle=True\n",
    ")"
   ]
  },
  {
   "cell_type": "code",
   "execution_count": 6,
   "metadata": {},
   "outputs": [
    {
     "data": {
      "text/plain": [
       "[Parameter containing:\n",
       " tensor([[-0.0057, -0.0161,  0.0151,  ...,  0.0126,  0.0153, -0.0043],\n",
       "         [-0.0178, -0.0174, -0.0080,  ..., -0.0031,  0.0024, -0.0178],\n",
       "         [-0.0128,  0.0065, -0.0057,  ...,  0.0036, -0.0115, -0.0179],\n",
       "         ...,\n",
       "         [ 0.0143,  0.0145, -0.0003,  ...,  0.0177,  0.0071, -0.0105],\n",
       "         [-0.0047,  0.0028, -0.0154,  ...,  0.0027,  0.0038, -0.0042],\n",
       "         [ 0.0141,  0.0036,  0.0101,  ...,  0.0180,  0.0167,  0.0016]]),\n",
       " Parameter containing:\n",
       " tensor([[ 0.0110,  0.0190, -0.0184,  ..., -0.0133,  0.0010, -0.0182],\n",
       "         [ 0.0149,  0.0203,  0.0185,  ..., -0.0199,  0.0076, -0.0182],\n",
       "         [-0.0079, -0.0096, -0.0169,  ...,  0.0033,  0.0203,  0.0060],\n",
       "         ...,\n",
       "         [ 0.0180,  0.0166,  0.0055,  ..., -0.0124, -0.0059, -0.0129],\n",
       "         [ 0.0084, -0.0085, -0.0119,  ...,  0.0105,  0.0023, -0.0041],\n",
       "         [ 0.0135,  0.0062,  0.0137,  ...,  0.0090, -0.0057, -0.0153]],\n",
       "        requires_grad=True)]"
      ]
     },
     "execution_count": 6,
     "metadata": {},
     "output_type": "execute_result"
    }
   ],
   "source": [
    "list(classifier.parameters())"
   ]
  },
  {
   "cell_type": "code",
   "execution_count": 7,
   "metadata": {},
   "outputs": [],
   "source": [
    "import torch.optim \n",
    "\n",
    "optimizer = torch.optim.Adam(classifier.parameters(), lr=0.001)\n",
    "\n",
    "for features, labels in dataloader_train:\n",
    "    optimizer.zero_grad()\n",
    "    pred = classifier(features)\n",
    "    labels_one_hot = torch.zeros(pred.size())\n",
    "    labels_one_hot.scatter_(-1, labels[..., None], 1.0)\n",
    "    loss = torch.pow(pred - labels_one_hot, 6.0).sum()\n",
    "    loss.backward()\n",
    "    optimizer.step()"
   ]
  },
  {
   "cell_type": "code",
   "execution_count": 8,
   "metadata": {},
   "outputs": [
    {
     "data": {
      "text/plain": [
       "[Parameter containing:\n",
       " tensor([[-0.0057, -0.0161,  0.0151,  ...,  0.0126,  0.0153, -0.0043],\n",
       "         [-0.0178, -0.0174, -0.0080,  ..., -0.0031,  0.0024, -0.0178],\n",
       "         [-0.0128,  0.0065, -0.0057,  ...,  0.0036, -0.0115, -0.0179],\n",
       "         ...,\n",
       "         [ 0.0143,  0.0145, -0.0003,  ...,  0.0177,  0.0071, -0.0105],\n",
       "         [-0.0047,  0.0028, -0.0154,  ...,  0.0027,  0.0038, -0.0042],\n",
       "         [ 0.0141,  0.0036,  0.0101,  ...,  0.0180,  0.0167,  0.0016]]),\n",
       " Parameter containing:\n",
       " tensor([[-0.1682, -0.0894, -0.1055,  ..., -0.0870, -0.1443, -0.0445],\n",
       "         [ 0.0597, -0.0100,  0.0443,  ...,  0.1123,  0.0917,  0.0718],\n",
       "         [-0.0711,  0.0364, -0.1270,  ..., -0.1561, -0.1763, -0.1152],\n",
       "         ...,\n",
       "         [ 0.0317,  0.0624,  0.0866,  ..., -0.1071, -0.0031, -0.0434],\n",
       "         [-0.1795, -0.1541, -0.1571,  ...,  0.0341, -0.0771, -0.0836],\n",
       "         [ 0.1219, -0.1365,  0.1390,  ..., -0.0028,  0.1732,  0.0729]],\n",
       "        requires_grad=True)]"
      ]
     },
     "execution_count": 8,
     "metadata": {},
     "output_type": "execute_result"
    }
   ],
   "source": [
    "list(classifier.parameters())"
   ]
  },
  {
   "cell_type": "code",
   "execution_count": 11,
   "metadata": {},
   "outputs": [
    {
     "data": {
      "text/plain": [
       "{'model_state_dict': OrderedDict([('W',\n",
       "               tensor([[-0.0741, -0.0739, -0.0741,  ..., -0.0742, -0.0741, -0.0739],\n",
       "                       [-0.0737, -0.0737, -0.0736,  ..., -0.0736, -0.0738, -0.0737],\n",
       "                       [-0.0741, -0.0743, -0.0742,  ..., -0.0740, -0.0742, -0.0744],\n",
       "                       ...,\n",
       "                       [-0.0646, -0.0644, -0.0645,  ..., -0.0647, -0.0645, -0.0644],\n",
       "                       [-0.0647, -0.0643, -0.0648,  ..., -0.0645, -0.0644, -0.0647],\n",
       "                       [-0.0651, -0.0649, -0.0648,  ..., -0.0647, -0.0647, -0.0649]],\n",
       "                      device='cuda:0'))]),\n",
       " 'model_parameters': {'in_size': 3072,\n",
       "  'hidden_size': 2000,\n",
       "  'n': 4.5,\n",
       "  'p': 3,\n",
       "  'tau_l': 5000.0,\n",
       "  'k': 7,\n",
       "  'Delta': 0.4,\n",
       "  'R': 1.0},\n",
       " 'device_type': 'cuda'}"
      ]
     },
     "execution_count": 11,
     "metadata": {},
     "output_type": "execute_result"
    }
   ],
   "source": []
  },
  {
   "cell_type": "code",
   "execution_count": null,
   "metadata": {},
   "outputs": [],
   "source": []
  }
 ],
 "metadata": {
  "kernelspec": {
   "display_name": "Python 3 (ipykernel)",
   "language": "python",
   "name": "python3"
  },
  "language_info": {
   "codemirror_mode": {
    "name": "ipython",
    "version": 3
   },
   "file_extension": ".py",
   "mimetype": "text/x-python",
   "name": "python",
   "nbconvert_exporter": "python",
   "pygments_lexer": "ipython3",
   "version": "3.9.1"
  }
 },
 "nbformat": 4,
 "nbformat_minor": 4
}
