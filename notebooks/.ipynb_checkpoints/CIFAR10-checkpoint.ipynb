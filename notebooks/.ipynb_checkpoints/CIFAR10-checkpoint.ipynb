{
 "cells": [
  {
   "cell_type": "markdown",
   "metadata": {
    "tags": []
   },
   "source": [
    "# CIFAR10 Training"
   ]
  },
  {
   "cell_type": "code",
   "execution_count": 1,
   "metadata": {
    "tags": []
   },
   "outputs": [],
   "source": [
    "import torch\n",
    "from torch.utils.data import DataLoader\n",
    "from torchvision import datasets\n",
    "from torchvision.transforms import ToTensor\n",
    "from pathlib import Path\n",
    "from tqdm import tqdm\n",
    "\n",
    "# custom imports\n",
    "from context import LocalLearning"
   ]
  },
  {
   "cell_type": "code",
   "execution_count": 2,
   "metadata": {
    "collapsed": false,
    "jupyter": {
     "outputs_hidden": false
    },
    "pycharm": {
     "name": "#%%\n"
    }
   },
   "outputs": [
    {
     "data": {
      "text/plain": [
       "{'in_size': 3072,\n",
       " 'hidden_size': 2000,\n",
       " 'n': 4.5,\n",
       " 'p': 3,\n",
       " 'tau_l': 50.0,\n",
       " 'k': 7,\n",
       " 'Delta': 0.4,\n",
       " 'R': 1.0}"
      ]
     },
     "execution_count": 2,
     "metadata": {},
     "output_type": "execute_result"
    }
   ],
   "source": [
    "pSet = LocalLearning.LocalLearningModel.pSet\n",
    "pSet[\"in_size\"] = 32**2 * 3 # CIFAR10 consists of 32x32 pixel 3 channel coloured images\n",
    "pSet[\"tau_l\"] = 1.0 / 0.02 # learning rate 0.04 leads to nans in model.W\n",
    "pSet"
   ]
  },
  {
   "cell_type": "code",
   "execution_count": 3,
   "metadata": {},
   "outputs": [],
   "source": [
    "if torch.cuda.is_available():\n",
    "    device = torch.device('cuda')\n",
    "else:\n",
    "    device = torch.device('cpu')"
   ]
  },
  {
   "cell_type": "code",
   "execution_count": 3,
   "metadata": {},
   "outputs": [
    {
     "name": "stdout",
     "output_type": "stream",
     "text": [
      "Files already downloaded and verified\n"
     ]
    }
   ],
   "source": [
    "training_data = datasets.CIFAR10(\n",
    "    root=\"../data/CIFAR10\", train=True, download=True, transform=ToTensor()\n",
    ")\n",
    "\n",
    "dataloader_train = DataLoader(\n",
    "    training_data, batch_size=128, num_workers=10, shuffle=True\n",
    ")"
   ]
  },
  {
   "cell_type": "code",
   "execution_count": 7,
   "metadata": {},
   "outputs": [
    {
     "name": "stderr",
     "output_type": "stream",
     "text": [
      "Epoch: 1: 100%|████████████████████████████████████████████████████████████████████████████████████| 391/391 [00:55<00:00,  7.03batch/s]\n",
      "Epoch: 2: 100%|████████████████████████████████████████████████████████████████████████████████████| 391/391 [00:55<00:00,  7.05batch/s]\n",
      "Epoch: 3: 100%|████████████████████████████████████████████████████████████████████████████████████| 391/391 [00:55<00:00,  7.06batch/s]\n",
      "Epoch: 4: 100%|████████████████████████████████████████████████████████████████████████████████████| 391/391 [00:55<00:00,  7.05batch/s]\n",
      "Epoch: 5: 100%|████████████████████████████████████████████████████████████████████████████████████| 391/391 [00:55<00:00,  7.07batch/s]\n",
      "Epoch: 6: 100%|████████████████████████████████████████████████████████████████████████████████████| 391/391 [00:55<00:00,  7.01batch/s]\n",
      "Epoch: 7: 100%|████████████████████████████████████████████████████████████████████████████████████| 391/391 [00:55<00:00,  7.07batch/s]\n",
      "Epoch: 8: 100%|████████████████████████████████████████████████████████████████████████████████████| 391/391 [00:55<00:00,  7.08batch/s]\n",
      "Epoch: 9: 100%|████████████████████████████████████████████████████████████████████████████████████| 391/391 [00:55<00:00,  7.06batch/s]\n",
      "Epoch: 10: 100%|███████████████████████████████████████████████████████████████████████████████████| 391/391 [00:55<00:00,  7.01batch/s]\n",
      "Epoch: 11: 100%|███████████████████████████████████████████████████████████████████████████████████| 391/391 [00:56<00:00,  6.92batch/s]\n",
      "Epoch: 12: 100%|███████████████████████████████████████████████████████████████████████████████████| 391/391 [00:56<00:00,  6.91batch/s]\n",
      "Epoch: 13: 100%|███████████████████████████████████████████████████████████████████████████████████| 391/391 [00:55<00:00,  7.04batch/s]\n",
      "Epoch: 14: 100%|███████████████████████████████████████████████████████████████████████████████████| 391/391 [00:55<00:00,  7.03batch/s]\n",
      "Epoch: 15: 100%|███████████████████████████████████████████████████████████████████████████████████| 391/391 [00:55<00:00,  7.03batch/s]\n",
      "Epoch: 16: 100%|███████████████████████████████████████████████████████████████████████████████████| 391/391 [00:56<00:00,  6.97batch/s]\n",
      "Epoch: 17: 100%|███████████████████████████████████████████████████████████████████████████████████| 391/391 [00:55<00:00,  7.03batch/s]\n",
      "Epoch: 18: 100%|███████████████████████████████████████████████████████████████████████████████████| 391/391 [00:55<00:00,  7.04batch/s]\n",
      "Epoch: 19: 100%|███████████████████████████████████████████████████████████████████████████████████| 391/391 [00:55<00:00,  7.04batch/s]\n",
      "Epoch: 20: 100%|███████████████████████████████████████████████████████████████████████████████████| 391/391 [00:55<00:00,  7.04batch/s]\n",
      "Epoch: 21: 100%|███████████████████████████████████████████████████████████████████████████████████| 391/391 [00:55<00:00,  7.04batch/s]\n",
      "Epoch: 22: 100%|███████████████████████████████████████████████████████████████████████████████████| 391/391 [00:55<00:00,  7.01batch/s]\n",
      "Epoch: 23: 100%|███████████████████████████████████████████████████████████████████████████████████| 391/391 [00:55<00:00,  7.06batch/s]\n",
      "Epoch: 24: 100%|███████████████████████████████████████████████████████████████████████████████████| 391/391 [00:55<00:00,  7.07batch/s]\n",
      "Epoch: 25: 100%|███████████████████████████████████████████████████████████████████████████████████| 391/391 [00:55<00:00,  7.05batch/s]\n",
      "Epoch: 26: 100%|███████████████████████████████████████████████████████████████████████████████████| 391/391 [00:55<00:00,  7.06batch/s]\n",
      "Epoch: 27: 100%|███████████████████████████████████████████████████████████████████████████████████| 391/391 [00:55<00:00,  7.07batch/s]\n",
      "Epoch: 28: 100%|███████████████████████████████████████████████████████████████████████████████████| 391/391 [00:55<00:00,  7.07batch/s]\n",
      "Epoch: 29: 100%|███████████████████████████████████████████████████████████████████████████████████| 391/391 [00:55<00:00,  7.05batch/s]\n",
      "Epoch: 30: 100%|███████████████████████████████████████████████████████████████████████████████████| 391/391 [00:55<00:00,  7.02batch/s]\n",
      "Epoch: 31: 100%|███████████████████████████████████████████████████████████████████████████████████| 391/391 [00:55<00:00,  7.04batch/s]\n",
      "Epoch: 32: 100%|███████████████████████████████████████████████████████████████████████████████████| 391/391 [00:55<00:00,  7.04batch/s]\n",
      "Epoch: 33: 100%|███████████████████████████████████████████████████████████████████████████████████| 391/391 [00:55<00:00,  7.03batch/s]\n",
      "Epoch: 34: 100%|███████████████████████████████████████████████████████████████████████████████████| 391/391 [00:55<00:00,  7.04batch/s]\n",
      "Epoch: 35: 100%|███████████████████████████████████████████████████████████████████████████████████| 391/391 [00:55<00:00,  7.00batch/s]\n",
      "Epoch: 36: 100%|███████████████████████████████████████████████████████████████████████████████████| 391/391 [00:55<00:00,  7.07batch/s]\n",
      "Epoch: 37: 100%|███████████████████████████████████████████████████████████████████████████████████| 391/391 [00:55<00:00,  7.06batch/s]\n",
      "Epoch: 38: 100%|███████████████████████████████████████████████████████████████████████████████████| 391/391 [00:55<00:00,  7.06batch/s]\n",
      "Epoch: 39: 100%|███████████████████████████████████████████████████████████████████████████████████| 391/391 [00:55<00:00,  7.06batch/s]\n",
      "Epoch: 40: 100%|███████████████████████████████████████████████████████████████████████████████████| 391/391 [00:55<00:00,  7.06batch/s]\n",
      "Epoch: 41: 100%|███████████████████████████████████████████████████████████████████████████████████| 391/391 [00:55<00:00,  7.07batch/s]\n",
      "Epoch: 42: 100%|███████████████████████████████████████████████████████████████████████████████████| 391/391 [00:55<00:00,  7.06batch/s]\n",
      "Epoch: 43: 100%|███████████████████████████████████████████████████████████████████████████████████| 391/391 [00:55<00:00,  7.06batch/s]\n",
      "Epoch: 44: 100%|███████████████████████████████████████████████████████████████████████████████████| 391/391 [00:55<00:00,  7.05batch/s]\n",
      "Epoch: 45: 100%|███████████████████████████████████████████████████████████████████████████████████| 391/391 [00:55<00:00,  7.03batch/s]\n",
      "Epoch: 46: 100%|███████████████████████████████████████████████████████████████████████████████████| 391/391 [00:55<00:00,  7.03batch/s]\n",
      "Epoch: 47: 100%|███████████████████████████████████████████████████████████████████████████████████| 391/391 [00:55<00:00,  7.03batch/s]\n",
      "Epoch: 48: 100%|███████████████████████████████████████████████████████████████████████████████████| 391/391 [00:55<00:00,  7.04batch/s]\n",
      "Epoch: 49: 100%|███████████████████████████████████████████████████████████████████████████████████| 391/391 [00:55<00:00,  7.04batch/s]\n",
      "Epoch: 50: 100%|███████████████████████████████████████████████████████████████████████████████████| 391/391 [00:56<00:00,  6.97batch/s]\n",
      "Epoch: 51: 100%|███████████████████████████████████████████████████████████████████████████████████| 391/391 [00:55<00:00,  7.04batch/s]\n",
      "Epoch: 52: 100%|███████████████████████████████████████████████████████████████████████████████████| 391/391 [00:55<00:00,  7.04batch/s]\n",
      "Epoch: 53: 100%|███████████████████████████████████████████████████████████████████████████████████| 391/391 [00:55<00:00,  7.04batch/s]\n",
      "Epoch: 54: 100%|███████████████████████████████████████████████████████████████████████████████████| 391/391 [00:55<00:00,  7.03batch/s]\n",
      "Epoch: 55: 100%|███████████████████████████████████████████████████████████████████████████████████| 391/391 [00:55<00:00,  6.99batch/s]\n",
      "Epoch: 56: 100%|███████████████████████████████████████████████████████████████████████████████████| 391/391 [00:55<00:00,  7.06batch/s]\n",
      "Epoch: 57: 100%|███████████████████████████████████████████████████████████████████████████████████| 391/391 [00:55<00:00,  7.07batch/s]\n",
      "Epoch: 58: 100%|███████████████████████████████████████████████████████████████████████████████████| 391/391 [00:55<00:00,  7.06batch/s]\n",
      "Epoch: 59: 100%|███████████████████████████████████████████████████████████████████████████████████| 391/391 [00:55<00:00,  7.05batch/s]\n",
      "Epoch: 60: 100%|███████████████████████████████████████████████████████████████████████████████████| 391/391 [00:55<00:00,  7.04batch/s]\n",
      "Epoch: 61: 100%|███████████████████████████████████████████████████████████████████████████████████| 391/391 [00:55<00:00,  7.03batch/s]\n",
      "Epoch: 62: 100%|███████████████████████████████████████████████████████████████████████████████████| 391/391 [00:55<00:00,  7.05batch/s]\n",
      "Epoch: 63: 100%|███████████████████████████████████████████████████████████████████████████████████| 391/391 [00:55<00:00,  7.05batch/s]\n",
      "Epoch: 64: 100%|███████████████████████████████████████████████████████████████████████████████████| 391/391 [00:55<00:00,  7.04batch/s]\n",
      "Epoch: 65: 100%|███████████████████████████████████████████████████████████████████████████████████| 391/391 [00:55<00:00,  7.00batch/s]\n",
      "Epoch: 66: 100%|███████████████████████████████████████████████████████████████████████████████████| 391/391 [00:55<00:00,  7.04batch/s]\n",
      "Epoch: 67: 100%|███████████████████████████████████████████████████████████████████████████████████| 391/391 [00:55<00:00,  7.07batch/s]\n",
      "Epoch: 68: 100%|███████████████████████████████████████████████████████████████████████████████████| 391/391 [00:55<00:00,  7.07batch/s]\n",
      "Epoch: 69: 100%|███████████████████████████████████████████████████████████████████████████████████| 391/391 [00:55<00:00,  7.05batch/s]\n",
      "Epoch: 70: 100%|███████████████████████████████████████████████████████████████████████████████████| 391/391 [00:55<00:00,  7.06batch/s]\n",
      "Epoch: 71: 100%|███████████████████████████████████████████████████████████████████████████████████| 391/391 [00:55<00:00,  7.05batch/s]\n",
      "Epoch: 72: 100%|███████████████████████████████████████████████████████████████████████████████████| 391/391 [00:55<00:00,  7.07batch/s]\n",
      "Epoch: 73: 100%|███████████████████████████████████████████████████████████████████████████████████| 391/391 [00:55<00:00,  7.06batch/s]\n",
      "Epoch: 74: 100%|███████████████████████████████████████████████████████████████████████████████████| 391/391 [00:55<00:00,  7.06batch/s]\n",
      "Epoch: 75: 100%|███████████████████████████████████████████████████████████████████████████████████| 391/391 [00:55<00:00,  7.07batch/s]\n",
      "Epoch: 76: 100%|███████████████████████████████████████████████████████████████████████████████████| 391/391 [00:55<00:00,  7.06batch/s]\n",
      "Epoch: 77: 100%|███████████████████████████████████████████████████████████████████████████████████| 391/391 [00:55<00:00,  7.06batch/s]\n",
      "Epoch: 78: 100%|███████████████████████████████████████████████████████████████████████████████████| 391/391 [00:55<00:00,  7.06batch/s]\n",
      "Epoch: 79: 100%|███████████████████████████████████████████████████████████████████████████████████| 391/391 [00:55<00:00,  7.06batch/s]\n",
      "Epoch: 80: 100%|███████████████████████████████████████████████████████████████████████████████████| 391/391 [00:55<00:00,  7.06batch/s]\n",
      "Epoch: 81: 100%|███████████████████████████████████████████████████████████████████████████████████| 391/391 [00:55<00:00,  7.06batch/s]\n",
      "Epoch: 82: 100%|███████████████████████████████████████████████████████████████████████████████████| 391/391 [00:55<00:00,  7.07batch/s]\n",
      "Epoch: 83: 100%|███████████████████████████████████████████████████████████████████████████████████| 391/391 [00:55<00:00,  7.05batch/s]\n",
      "Epoch: 84: 100%|███████████████████████████████████████████████████████████████████████████████████| 391/391 [00:55<00:00,  7.07batch/s]\n",
      "Epoch: 85: 100%|███████████████████████████████████████████████████████████████████████████████████| 391/391 [00:55<00:00,  7.06batch/s]\n",
      "Epoch: 86: 100%|███████████████████████████████████████████████████████████████████████████████████| 391/391 [00:55<00:00,  7.06batch/s]\n",
      "Epoch: 87: 100%|███████████████████████████████████████████████████████████████████████████████████| 391/391 [00:55<00:00,  7.07batch/s]\n",
      "Epoch: 88: 100%|███████████████████████████████████████████████████████████████████████████████████| 391/391 [00:55<00:00,  7.05batch/s]\n",
      "Epoch: 89: 100%|███████████████████████████████████████████████████████████████████████████████████| 391/391 [00:55<00:00,  7.07batch/s]\n",
      "Epoch: 90: 100%|███████████████████████████████████████████████████████████████████████████████████| 391/391 [00:55<00:00,  7.07batch/s]\n",
      "Epoch: 91: 100%|███████████████████████████████████████████████████████████████████████████████████| 391/391 [00:55<00:00,  7.06batch/s]\n",
      "Epoch: 92: 100%|███████████████████████████████████████████████████████████████████████████████████| 391/391 [00:55<00:00,  7.06batch/s]\n",
      "Epoch: 93: 100%|███████████████████████████████████████████████████████████████████████████████████| 391/391 [00:55<00:00,  7.07batch/s]\n",
      "Epoch: 94: 100%|███████████████████████████████████████████████████████████████████████████████████| 391/391 [00:55<00:00,  7.06batch/s]\n",
      "Epoch: 95: 100%|███████████████████████████████████████████████████████████████████████████████████| 391/391 [00:55<00:00,  7.06batch/s]\n",
      "Epoch: 96: 100%|███████████████████████████████████████████████████████████████████████████████████| 391/391 [00:55<00:00,  7.07batch/s]\n",
      "Epoch: 97: 100%|███████████████████████████████████████████████████████████████████████████████████| 391/391 [00:55<00:00,  7.07batch/s]\n",
      "Epoch: 98: 100%|███████████████████████████████████████████████████████████████████████████████████| 391/391 [00:55<00:00,  7.05batch/s]\n",
      "Epoch: 99: 100%|███████████████████████████████████████████████████████████████████████████████████| 391/391 [00:55<00:00,  7.06batch/s]\n"
     ]
    }
   ],
   "source": [
    "model = LocalLearning.LocalLearningModel(pSet)\n",
    "model.to(device)\n",
    "\n",
    "NO_EPOCHS = 100\n",
    "\n",
    "def learning_rate(epoch: int) -> float:\n",
    "    return (NO_EPOCHS - epoch)*0.02 / NO_EPOCHS\n",
    " \n",
    "LocalLearning.train_unsupervised(dataloader_train, model, device, no_epochs=NO_EPOCHS, learning_rate=learning_rate)"
   ]
  },
  {
   "cell_type": "code",
   "execution_count": 8,
   "metadata": {},
   "outputs": [],
   "source": [
    "model_path = Path(\"../data/models/CIFAR10_locallearner.pth\")\n",
    "torch.save(\n",
    "    {\n",
    "        \"model_state_dict\": model.state_dict(),\n",
    "        \"model_parameters\": model.param_dict(),\n",
    "        \"device_type\": device.type\n",
    "    },\n",
    "    model_path\n",
    ")"
   ]
  },
  {
   "cell_type": "markdown",
   "metadata": {},
   "source": [
    "# Inference and Spectrum"
   ]
  },
  {
   "cell_type": "code",
   "execution_count": 2,
   "metadata": {},
   "outputs": [],
   "source": [
    "if torch.cuda.is_available():\n",
    "    device = torch.device('cuda')\n",
    "else:\n",
    "    device = torch.device('cpu')\n",
    "    \n",
    "model_path = Path(\"../data/models/CIFAR10_locallearner.pth\")"
   ]
  },
  {
   "cell_type": "code",
   "execution_count": 3,
   "metadata": {},
   "outputs": [
    {
     "name": "stdout",
     "output_type": "stream",
     "text": [
      "Files already downloaded and verified\n"
     ]
    }
   ],
   "source": [
    "test_data = datasets.CIFAR10(\n",
    "    root = \"../data/CIFAR10\", train=True, download=True, transform=ToTensor()\n",
    ")\n",
    "\n",
    "dataloader_inference = DataLoader(\n",
    "    test_data, batch_size=64, num_workers=4, shuffle=False\n",
    ")"
   ]
  },
  {
   "cell_type": "code",
   "execution_count": 10,
   "metadata": {},
   "outputs": [
    {
     "name": "stderr",
     "output_type": "stream",
     "text": [
      "Calculating covariance spectrum: 100%|████████████████████████████████████████████████████████████| 782/782 [00:01<00:00, 424.63batch/s]\n"
     ]
    }
   ],
   "source": [
    "with torch.no_grad():\n",
    "    trained_state = torch.load(model_path)\n",
    "    model_ps = trained_state[\"model_parameters\"]\n",
    "    inf_model = LocalLearning.LocalLearningModel(model_ps)\n",
    "    inf_model.load_state_dict(trained_state[\"model_state_dict\"])\n",
    "    inf_model.to(device)\n",
    "    l_spectrum = LocalLearning.Statistics.cov_spectrum(dataloader_inference, inf_model, device)\n",
    "    cpu = torch.device('cpu')\n",
    "    l_spectrum = l_spectrum.to(cpu).numpy()"
   ]
  },
  {
   "cell_type": "code",
   "execution_count": 11,
   "metadata": {},
   "outputs": [
    {
     "data": {
      "text/plain": [
       "Text(0.5, 1.0, 'CIFAR10 Covariance Spectrum')"
      ]
     },
     "execution_count": 11,
     "metadata": {},
     "output_type": "execute_result"
    },
    {
     "name": "stderr",
     "output_type": "stream",
     "text": [
      "findfont: Font family ['serif'] not found. Falling back to DejaVu Sans.\n",
      "findfont: Generic family 'serif' not found because none of the following families were found: Computer Modern Roman\n",
      "findfont: Font family ['serif'] not found. Falling back to DejaVu Sans.\n",
      "findfont: Generic family 'serif' not found because none of the following families were found: Computer Modern Roman\n"
     ]
    },
    {
     "data": {
      "image/png": "[encoded data removed]",
      "text/plain": [
       "<Figure size 1012.5x1012.5 with 1 Axes>"
      ]
     },
     "metadata": {
      "needs_background": "light"
     },
     "output_type": "display_data"
    }
   ],
   "source": [
    "from matplotlib import pyplot as plt\n",
    "import numpy as np\n",
    "\n",
    "plt.style.use(['seaborn-paper', \"./PRLSingleCol.mplstyle\"])\n",
    "\n",
    "fig, ax = plt.subplots()\n",
    "ax.loglog(l_spectrum, label=r\"CIFAR10\")\n",
    "ax.loglog(LocalLearning.stringer_spectrum(np.arange(1, len(l_spectrum))), label=r\"$1 / n$\")\n",
    "ax.legend()\n",
    "ax.set_xlabel(r\"$n$\")\n",
    "ax.set_ylabel(r\"$\\lambda_{n}$\")\n",
    "ax.set_title(r\"CIFAR10 Covariance Spectrum\")"
   ]
  },
  {
   "cell_type": "markdown",
   "metadata": {},
   "source": [
    "# Biological Learning Model"
   ]
  },
  {
   "cell_type": "code",
   "execution_count": 1,
   "metadata": {},
   "outputs": [
    {
     "name": "stdout",
     "output_type": "stream",
     "text": [
      "Files already downloaded and verified\n"
     ]
    }
   ],
   "source": [
    "import torch\n",
    "from torch.utils.data import DataLoader\n",
    "from torchvision import datasets\n",
    "from torchvision.transforms import ToTensor\n",
    "from pathlib import Path\n",
    "from tqdm import tqdm\n",
    "\n",
    "# custom imports\n",
    "from context import LocalLearning\n",
    "\n",
    "train_data = datasets.CIFAR10(\n",
    "    root = \"../data/CIFAR10\", train=True, download=True, transform=ToTensor()\n",
    ")\n",
    "\n",
    "dataloader = DataLoader(\n",
    "    train_data, batch_size=128, num_workers=4, shuffle=True\n",
    ")"
   ]
  },
  {
   "cell_type": "code",
   "execution_count": 2,
   "metadata": {},
   "outputs": [
    {
     "data": {
      "text/plain": [
       "BioLearningModel(\n",
       "  (local_learning): LocalLearningModel(\n",
       "    (flatten): Flatten(start_dim=1, end_dim=-1)\n",
       "  )\n",
       "  (relu): ReLU()\n",
       "  (dense): Linear(in_features=2000, out_features=10, bias=False)\n",
       "  (softmax): Softmax(dim=-1)\n",
       ")"
      ]
     },
     "execution_count": 2,
     "metadata": {},
     "output_type": "execute_result"
    }
   ],
   "source": [
    "if torch.cuda.is_available():\n",
    "    device = torch.device('cuda')\n",
    "else:\n",
    "    device = torch.device('cpu')\n",
    "    \n",
    "model_path = Path(\"../data/models/CIFAR10_locallearner.pth\")\n",
    "ll_trained_state = torch.load(model_path)\n",
    "bio_model = LocalLearning.BioLearningModel(ll_trained_state)\n",
    "bio_model.to(device)"
   ]
  },
  {
   "cell_type": "code",
   "execution_count": 3,
   "metadata": {},
   "outputs": [
    {
     "name": "stdout",
     "output_type": "stream",
     "text": [
      "tensor([[-0.0741, -0.0739, -0.0741,  ..., -0.0742, -0.0741, -0.0739],\n",
      "        [-0.0737, -0.0737, -0.0736,  ..., -0.0736, -0.0738, -0.0737],\n",
      "        [-0.0741, -0.0743, -0.0742,  ..., -0.0740, -0.0742, -0.0744],\n",
      "        ...,\n",
      "        [-0.0646, -0.0644, -0.0645,  ..., -0.0647, -0.0645, -0.0644],\n",
      "        [-0.0647, -0.0643, -0.0648,  ..., -0.0645, -0.0644, -0.0647],\n",
      "        [-0.0651, -0.0649, -0.0648,  ..., -0.0647, -0.0647, -0.0649]],\n",
      "       device='cuda:0')\n",
      "tensor([[ 0.0117,  0.0107,  0.0098,  ...,  0.0140,  0.0007,  0.0005],\n",
      "        [ 0.0030,  0.0090, -0.0066,  ..., -0.0076, -0.0100,  0.0092],\n",
      "        [-0.0089, -0.0077,  0.0117,  ..., -0.0079, -0.0005,  0.0113],\n",
      "        ...,\n",
      "        [ 0.0169,  0.0066, -0.0079,  ...,  0.0150,  0.0092, -0.0189],\n",
      "        [-0.0011, -0.0154, -0.0061,  ...,  0.0052, -0.0148,  0.0072],\n",
      "        [-0.0048, -0.0207,  0.0185,  ..., -0.0173, -0.0065,  0.0132]],\n",
      "       device='cuda:0')\n"
     ]
    }
   ],
   "source": [
    "W_pre_training = bio_model.local_learning.W.clone()\n",
    "for p in bio_model.parameters():\n",
    "    print(p.data)"
   ]
  },
  {
   "cell_type": "code",
   "execution_count": 6,
   "metadata": {},
   "outputs": [
    {
     "ename": "RuntimeError",
     "evalue": "Expected index [128, 1] to be smaller than self [80, 10] apart from dimension 1",
     "output_type": "error",
     "traceback": [
      "\u001b[0;31m---------------------------------------------------------------------------\u001b[0m",
      "\u001b[0;31mRuntimeError\u001b[0m                              Traceback (most recent call last)",
      "Input \u001b[0;32mIn [8]\u001b[0m, in \u001b[0;36m<module>\u001b[0;34m\u001b[0m\n\u001b[1;32m      6\u001b[0m \u001b[38;5;28;01mfor\u001b[39;00m features, labels \u001b[38;5;129;01min\u001b[39;00m dataloader:\n\u001b[1;32m      7\u001b[0m     labels_one_hot \u001b[38;5;241m=\u001b[39m torch\u001b[38;5;241m.\u001b[39mzeros(pred\u001b[38;5;241m.\u001b[39msize(), device\u001b[38;5;241m=\u001b[39mdevice)\n\u001b[0;32m----> 8\u001b[0m     \u001b[43mlabels_one_hot\u001b[49m\u001b[38;5;241;43m.\u001b[39;49m\u001b[43mscatter_\u001b[49m\u001b[43m(\u001b[49m\u001b[38;5;241;43m-\u001b[39;49m\u001b[38;5;241;43m1\u001b[39;49m\u001b[43m,\u001b[49m\u001b[43m \u001b[49m\u001b[43mlabels\u001b[49m\u001b[38;5;241;43m.\u001b[39;49m\u001b[43mto\u001b[49m\u001b[43m(\u001b[49m\u001b[43mdevice\u001b[49m\u001b[43m)\u001b[49m\u001b[43m[\u001b[49m\u001b[38;5;241;43m.\u001b[39;49m\u001b[38;5;241;43m.\u001b[39;49m\u001b[38;5;241;43m.\u001b[39;49m\u001b[43m,\u001b[49m\u001b[43m \u001b[49m\u001b[38;5;28;43;01mNone\u001b[39;49;00m\u001b[43m]\u001b[49m\u001b[43m,\u001b[49m\u001b[43m \u001b[49m\u001b[38;5;241;43m1.0\u001b[39;49m\u001b[43m)\u001b[49m\n\u001b[1;32m      9\u001b[0m     loss \u001b[38;5;241m=\u001b[39m torch\u001b[38;5;241m.\u001b[39mpow(bio_model(features\u001b[38;5;241m.\u001b[39mto(device)) \u001b[38;5;241m-\u001b[39m labels_one_hot, \u001b[38;5;241m6.0\u001b[39m)\u001b[38;5;241m.\u001b[39msum()\n\u001b[1;32m     10\u001b[0m     loss\u001b[38;5;241m.\u001b[39mbackward()\n",
      "\u001b[0;31mRuntimeError\u001b[0m: Expected index [128, 1] to be smaller than self [80, 10] apart from dimension 1"
     ]
    }
   ],
   "source": [
    "from torch.optim import Adam\n",
    "\n",
    "optimizer = Adam(bio_model.parameters(), lr=0.001)\n",
    "#optimizer.zero_grad()\n",
    "\n",
    "for features, labels in dataloader:\n",
    "    pred = bio_model(features.to(device))\n",
    "    labels_one_hot = torch.zeros(pred.size(), device=device)\n",
    "    labels_one_hot.scatter_(-1, labels.to(device)[..., None], 1.0)\n",
    "    loss = torch.pow(pred - labels_one_hot, 6.0).sum()\n",
    "    loss.backward()\n",
    "    optimizer.step()"
   ]
  },
  {
   "cell_type": "code",
   "execution_count": 7,
   "metadata": {},
   "outputs": [
    {
     "name": "stdout",
     "output_type": "stream",
     "text": [
      "tensor([[-0.0741, -0.0739, -0.0741,  ..., -0.0742, -0.0741, -0.0739],\n",
      "        [-0.0737, -0.0737, -0.0736,  ..., -0.0736, -0.0738, -0.0737],\n",
      "        [-0.0741, -0.0743, -0.0742,  ..., -0.0740, -0.0742, -0.0744],\n",
      "        ...,\n",
      "        [-0.0646, -0.0644, -0.0645,  ..., -0.0647, -0.0645, -0.0644],\n",
      "        [-0.0647, -0.0643, -0.0648,  ..., -0.0645, -0.0644, -0.0647],\n",
      "        [-0.0651, -0.0649, -0.0648,  ..., -0.0647, -0.0647, -0.0649]],\n",
      "       device='cuda:0')\n",
      "tensor([[ 0.0117,  0.0107,  0.0098,  ...,  0.0140,  0.0007,  0.0005],\n",
      "        [ 0.0030,  0.0090, -0.0066,  ..., -0.0076, -0.0100,  0.0092],\n",
      "        [-0.0089, -0.0077,  0.0117,  ..., -0.0079, -0.0005,  0.0113],\n",
      "        ...,\n",
      "        [ 0.0169,  0.0066, -0.0079,  ...,  0.0150,  0.0092, -0.0189],\n",
      "        [-0.0011, -0.0154, -0.0061,  ...,  0.0052, -0.0148,  0.0072],\n",
      "        [-0.0048, -0.0207,  0.0185,  ..., -0.0173, -0.0065,  0.0132]],\n",
      "       device='cuda:0')\n"
     ]
    }
   ],
   "source": [
    "for p in bio_model.parameters():\n",
    "    print(p.data)"
   ]
  },
  {
   "cell_type": "code",
   "execution_count": 11,
   "metadata": {},
   "outputs": [
    {
     "data": {
      "text/plain": [
       "tensor([[-0.0741, -0.0739, -0.0741,  ..., -0.0742, -0.0741, -0.0739],\n",
       "        [-0.0737, -0.0737, -0.0736,  ..., -0.0736, -0.0738, -0.0737],\n",
       "        [-0.0741, -0.0743, -0.0742,  ..., -0.0740, -0.0742, -0.0744],\n",
       "        ...,\n",
       "        [-0.0646, -0.0644, -0.0645,  ..., -0.0647, -0.0645, -0.0644],\n",
       "        [-0.0647, -0.0643, -0.0648,  ..., -0.0645, -0.0644, -0.0647],\n",
       "        [-0.0651, -0.0649, -0.0648,  ..., -0.0647, -0.0647, -0.0649]],\n",
       "       device='cuda:0')"
      ]
     },
     "execution_count": 11,
     "metadata": {},
     "output_type": "execute_result"
    }
   ],
   "source": [
    "W_pre_training"
   ]
  },
  {
   "cell_type": "code",
   "execution_count": null,
   "metadata": {},
   "outputs": [],
   "source": []
  }
 ],
 "metadata": {
  "kernelspec": {
   "display_name": "Python 3 (ipykernel)",
   "language": "python",
   "name": "python3"
  },
  "language_info": {
   "codemirror_mode": {
    "name": "ipython",
    "version": 3
   },
   "file_extension": ".py",
   "mimetype": "text/x-python",
   "name": "python",
   "nbconvert_exporter": "python",
   "pygments_lexer": "ipython3",
   "version": "3.9.1"
  }
 },
 "nbformat": 4,
 "nbformat_minor": 4
}
