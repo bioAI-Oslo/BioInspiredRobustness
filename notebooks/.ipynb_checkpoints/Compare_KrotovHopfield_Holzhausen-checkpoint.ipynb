{
 "cells": [
  {
   "cell_type": "markdown",
   "id": "83348764-77c6-43d1-b068-df190bdfb717",
   "metadata": {},
   "source": [
    "# Compare Krotov and Hopfields Code with mine"
   ]
  },
  {
   "cell_type": "code",
   "execution_count": 1,
   "id": "f7b6bd04-4f16-47aa-ada0-0691f9446207",
   "metadata": {},
   "outputs": [],
   "source": [
    "import torch\n",
    "from torch.utils.data import DataLoader\n",
    "from torchvision import datasets\n",
    "from torchvision.transforms import ToTensor\n",
    "from pathlib import Path\n",
    "from tqdm.notebook import tqdm_notebook as tqdm\n",
    "\n",
    "# custom imports\n",
    "from context import LocalLearning\n",
    "\n",
    "import scipy.io\n",
    "import numpy as np\n",
    "import matplotlib.pyplot as plt\n",
    "\n",
    "from collections import defaultdict\n",
    "from torchvision import datasets, transforms"
   ]
  },
  {
   "cell_type": "code",
   "execution_count": 2,
   "id": "a7e92ecb-a447-4a4e-b62a-1e44f78e0572",
   "metadata": {},
   "outputs": [],
   "source": [
    "if torch.cuda.is_available():\n",
    "    device = torch.device('cuda')\n",
    "else:\n",
    "    device = torch.device('cpu')"
   ]
  },
  {
   "cell_type": "code",
   "execution_count": 3,
   "id": "bb8dd038-5963-4a7f-8d3b-fbc618db56ab",
   "metadata": {},
   "outputs": [],
   "source": [
    "pSet = LocalLearning.LocalLearningModel.pSet\n",
    "pSet[\"in_size\"] = 32**2 * 3 # CIFAR10 consists of 32x32 pixel 3 channel coloured images\n",
    "pSet[\"tau_l\"] = 1.0 / 0.02 # learning rate 0.04 leads to nans in model.W\n",
    "pSet[\"Delta\"] = 0.4\n",
    "pSet[\"p\"] = 2.0\n",
    "pSet[\"k\"] = 2\n",
    "pSet[\"hidden_size\"]=2500"
   ]
  },
  {
   "cell_type": "markdown",
   "id": "0ed48e61-4087-4bf2-aa6e-5d9b98a8016e",
   "metadata": {},
   "source": [
    "## Krotov and Hopfield parameters and model definition"
   ]
  },
  {
   "cell_type": "code",
   "execution_count": 4,
   "id": "83888c53-0f9b-4d09-94a8-60290c64a317",
   "metadata": {},
   "outputs": [],
   "source": [
    "num_pixel = 32**2*3\n",
    "#num_test = x_test.shape[0]\n",
    "#x_train_flat = x_train.reshape(num_train, num_pixel)\n",
    "eps0 = 2e-2    # learning rate\n",
    "Kx = 50\n",
    "Ky = 50\n",
    "num_hidden = Kx * Ky    # number of hidden units that are displayed in Ky by Kx array\n",
    "mu = 0.0\n",
    "sigma = 1.0\n",
    "num_epochs = 1000    # number of epochs\n",
    "num_batch = 100      # size of the minibatch\n",
    "prec = 1e-30\n",
    "delta = 0.4    # Strength of the anti-hebbian learning\n",
    "p = 2.0        # Lebesgue norm of the weights\n",
    "k = 3          # ranking parameter, must be integer that is bigger or equal than 2"
   ]
  },
  {
   "cell_type": "code",
   "execution_count": 5,
   "id": "1c4ef285-b4d7-44a8-bac8-e9d5411ed078",
   "metadata": {},
   "outputs": [],
   "source": [
    "def synaptic_activation(synapses, inputs):\n",
    "    return (synapses.sign() * synapses.abs() ** (p - 1)).matmul(inputs)\n",
    "\n",
    "def learning_activation(indices):\n",
    "    best_ind, best_k_ind = indices[0], indices[k-1]\n",
    "    g_i = torch.zeros(num_hidden, num_batch).to(device)\n",
    "    g_i[best_ind,   torch.arange(num_batch).to(device)] = 1.0\n",
    "    g_i[best_k_ind, torch.arange(num_batch).to(device)] = -delta\n",
    "    return g_i"
   ]
  },
  {
   "cell_type": "markdown",
   "id": "99e455ce-e579-4bac-87cb-bcd9ccc9bb2c",
   "metadata": {},
   "source": [
    "## Renormalized Dataset for Training Data"
   ]
  },
  {
   "cell_type": "code",
   "execution_count": 6,
   "id": "3b0d70c3-7fbb-4187-a6a4-d72ce6c302b9",
   "metadata": {},
   "outputs": [
    {
     "name": "stdout",
     "output_type": "stream",
     "text": [
      "Files already downloaded and verified\n"
     ]
    }
   ],
   "source": [
    "training_data = LocalLearning.LpUnitCIFAR10(\n",
    "    root=\"../data/CIFAR10\", train=True, transform=ToTensor(), p=pSet[\"p\"]\n",
    ")\n",
    "\n",
    "dataloader_train = DataLoader(\n",
    "    training_data, batch_size=num_batch, num_workers=10, shuffle=True\n",
    ")\n",
    "\n",
    "num_train = len(training_data)"
   ]
  },
  {
   "cell_type": "markdown",
   "id": "fb00c204-e51d-4131-97be-b90fb929bdbd",
   "metadata": {},
   "source": [
    "### Compare Activations"
   ]
  },
  {
   "cell_type": "code",
   "execution_count": 7,
   "id": "7853873b-bf84-45be-baea-43f348885529",
   "metadata": {},
   "outputs": [
    {
     "name": "stdout",
     "output_type": "stream",
     "text": [
      "Krotov and Hopfields and Konstantin's implemention is equivalent:  True\n"
     ]
    }
   ],
   "source": [
    "flat = torch.nn.Flatten()\n",
    "input_v = torch.rand((num_batch, 3, 32, 32))\n",
    "input_flat = flat(input_v).to(device)\n",
    "synapses = torch.Tensor(num_hidden, num_pixel).normal_(mu, sigma).to(device)\n",
    "\n",
    "# Krotov and Hpfield\n",
    "a_KH = synaptic_activation(synapses, input_flat.T)\n",
    "\n",
    "# me\n",
    "llmodel = LocalLearning.LocalLearningModel(pSet)\n",
    "llmodel.to(device)\n",
    "llmodel.train()\n",
    "llmodel.W = torch.nn.Parameter(synapses.T, requires_grad=False)\n",
    "a_me = llmodel(input_v.to(device))\n",
    "\n",
    "# test for equality\n",
    "print(\"Krotov and Hopfields and Konstantin's implemention is equivalent: \", torch.equal(a_KH.T, a_me))"
   ]
  },
  {
   "cell_type": "markdown",
   "id": "93476bcf-d9ca-4dc2-9fd7-fce62ccb3dbd",
   "metadata": {},
   "source": [
    "## Compare learning activations"
   ]
  },
  {
   "cell_type": "code",
   "execution_count": 8,
   "id": "00b8d3dc-d273-465e-a8e0-7a1f2069c3e1",
   "metadata": {},
   "outputs": [],
   "source": [
    "# find indices maximizing the synapse\n",
    "_, indices = a_KH.topk(k, dim=0)\n",
    "# g(Q) learning activation function\n",
    "g_i = learning_activation(indices)"
   ]
  },
  {
   "cell_type": "code",
   "execution_count": 9,
   "id": "7683d5d8-6aa6-46b7-8712-6f2db7b413f5",
   "metadata": {},
   "outputs": [],
   "source": [
    "from torch import Tensor\n",
    "\n",
    "# Konstantin's implementation\n",
    "def g(q: Tensor) -> Tensor:\n",
    "    g_q = torch.zeros(q.size(), device=q.device)\n",
    "    _, sorted_idxs = q.topk(k, dim=-1)\n",
    "    batch_size = g_q.size(dim=0)\n",
    "    g_q[range(batch_size), sorted_idxs[:, 0]] = 1.0\n",
    "    g_q[range(batch_size), sorted_idxs[:, -1]] = -delta\n",
    "    return g_q"
   ]
  },
  {
   "cell_type": "code",
   "execution_count": 11,
   "id": "fa4e8f13-03b2-4c78-8d42-fb5ca3b0a50a",
   "metadata": {},
   "outputs": [
    {
     "data": {
      "text/plain": [
       "True"
      ]
     },
     "execution_count": 11,
     "metadata": {},
     "output_type": "execute_result"
    }
   ],
   "source": [
    "torch.equal(g_i.T, g(a_KH.T))"
   ]
  },
  {
   "cell_type": "markdown",
   "id": "65469e01-65e2-403b-8c9a-4d36a209f688",
   "metadata": {},
   "source": [
    "## Compare weight increments"
   ]
  },
  {
   "cell_type": "code",
   "execution_count": null,
   "id": "37d6dc62-1372-4b6a-8a30-7a790b677081",
   "metadata": {},
   "outputs": [],
   "source": []
  }
 ],
 "metadata": {
  "kernelspec": {
   "display_name": "Python 3 (ipykernel)",
   "language": "python",
   "name": "python3"
  },
  "language_info": {
   "codemirror_mode": {
    "name": "ipython",
    "version": 3
   },
   "file_extension": ".py",
   "mimetype": "text/x-python",
   "name": "python",
   "nbconvert_exporter": "python",
   "pygments_lexer": "ipython3",
   "version": "3.9.1"
  }
 },
 "nbformat": 4,
 "nbformat_minor": 5
}
