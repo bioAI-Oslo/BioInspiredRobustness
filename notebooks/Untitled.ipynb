{
 "cells": [
  {
   "cell_type": "markdown",
   "id": "433ebc62-a0f2-43d8-85c2-50adf577e408",
   "metadata": {},
   "source": [
    "# Adversarial Attack Test"
   ]
  },
  {
   "cell_type": "code",
   "execution_count": 1,
   "id": "62563a93-13ba-4458-a746-b1f9c8934e27",
   "metadata": {},
   "outputs": [],
   "source": [
    "%load_ext autoreload\n",
    "%autoreload 2\n",
    "\n",
    "import torch\n",
    "from torchvision.transforms import ToTensor\n",
    "from torch.optim import Adam\n",
    "\n",
    "from context import *\n",
    "from LocalLearning import Attacks\n",
    "from LocalLearning import KHModel\n",
    "from LocalLearning import Data\n",
    "from LocalLearning import Trainers\n",
    "\n",
    "from pathlib import Path\n",
    "\n",
    "import numpy as np\n",
    "from matplotlib import pyplot as plt"
   ]
  },
  {
   "cell_type": "code",
   "execution_count": 2,
   "id": "c4d77a87-3560-43a1-963e-3fdb58226006",
   "metadata": {},
   "outputs": [],
   "source": [
    "if torch.cuda.is_available():\n",
    "    device = torch.device('cuda')\n",
    "else:\n",
    "    device = torch.device('cpu')"
   ]
  },
  {
   "cell_type": "code",
   "execution_count": 3,
   "id": "7d9ceeab-01b2-4785-bf55-3a5622d68bec",
   "metadata": {},
   "outputs": [],
   "source": [
    "# train Flipswitch\n",
    "TRAIN = False\n",
    "\n",
    "# hyper-parameter\n",
    "BATCH_SIZE = 1000\n",
    "NUMBER_OF_EPOCHS = 1000\n",
    "\n",
    "model_path = Path(\"../data/models/CIFAR10_PowerLaw\")\n",
    "figure_path = Path(\"../data/figures/CIFAR10_PowerLaw\")\n",
    "\n",
    "model_ps = {\n",
    "    \"in_size\": 3*32**2,\n",
    "    \"hidden_size\": 2000,\n",
    "    \"n\": 4.5,\n",
    "    \"p\": 3.0,\n",
    "    \"tau_l\": 1.0 / 0.02, # 1 / learning_rate\n",
    "    \"k\": 2,\n",
    "    \"Delta\": 0.4,\n",
    "    \"R\": 1.0,\n",
    "}"
   ]
  },
  {
   "cell_type": "code",
   "execution_count": 4,
   "id": "670b7f72-fb8e-4803-b5c2-6a3b07626962",
   "metadata": {},
   "outputs": [],
   "source": [
    "# load the model\n",
    "model_file = Path(\"kh_cifar10_pruned_thr.pty\")\n",
    "filepath = model_path / model_file\n",
    "\n",
    "if os.path.isfile(filepath):\n",
    "    storage_obj = torch.load(filepath)\n",
    "\n",
    "with torch.no_grad():\n",
    "    model_pset = storage_obj[\"model_parameters\"]\n",
    "    dummy = LocalLearning.FKHL3(model_pset)\n",
    "    dummy.load_state_dict(storage_obj[\"model_state_dict\"])\n",
    "    khlayer = LocalLearning.FKHL3(model_pset)\n",
    "    khlayer.W = torch.nn.Parameter(dummy.W.clone())\n",
    "    khlayer.to(device)\n",
    "    khlayer.eval()"
   ]
  },
  {
   "cell_type": "markdown",
   "id": "cb1d8728-90e1-40b2-9ad0-01b4080d756e",
   "metadata": {},
   "source": [
    "# Train the hybrid model"
   ]
  },
  {
   "cell_type": "code",
   "execution_count": 5,
   "id": "d07ee3b3-78d8-434a-a1e9-9f60c9996940",
   "metadata": {},
   "outputs": [],
   "source": [
    "khmodel = KHModel(khlayer)\n",
    "khmodel.to(device)\n",
    "khmodel.train()"
   ]
  },
  {
   "cell_type": "code",
   "execution_count": 6,
   "id": "0e564742-2af0-4308-b039-39da674467a6",
   "metadata": {},
   "outputs": [],
   "source": [
    "# Hyper parameters:\n",
    "BATCH_SIZE = 1000\n",
    "NUMBER_OF_EPOCHS = 1000\n",
    "LEARNING_RATE = 1e-4"
   ]
  },
  {
   "cell_type": "code",
   "execution_count": 7,
   "id": "8dd2075c-166d-4091-b0f9-ec4c13581132",
   "metadata": {},
   "outputs": [
    {
     "name": "stdout",
     "output_type": "stream",
     "text": [
      "Files already downloaded and verified\n",
      "Files already downloaded and verified\n"
     ]
    }
   ],
   "source": [
    "cifar10Train= Data.LpUnitCIFAR10(\n",
    "    root=\"../data/CIFAR10\",\n",
    "    train=True,\n",
    "    transform=ToTensor(),\n",
    "    p=khlayer.pSet[\"p\"],\n",
    ")\n",
    "\n",
    "TrainLoader = Data.DeviceDataLoader(\n",
    "    cifar10Train,\n",
    "    device=device,\n",
    "    batch_size=BATCH_SIZE,\n",
    "    num_workers=4,\n",
    "    shuffle=True,\n",
    ")\n",
    "\n",
    "cifar10Test = Data.LpUnitCIFAR10(\n",
    "    root=\"../data/CIFAR10\",\n",
    "    train=False,\n",
    "    transform=ToTensor(),\n",
    "    p=khlayer.pSet[\"p\"],\n",
    ")\n",
    "\n",
    "TestLoader = Data.DeviceDataLoader(\n",
    "    cifar10Test,\n",
    "    device=device,\n",
    "    batch_size=BATCH_SIZE,\n",
    "    num_workers=4,\n",
    "    shuffle=False,\n",
    ")"
   ]
  },
  {
   "cell_type": "code",
   "execution_count": 8,
   "id": "1579d459-144d-42f1-ab81-dd8165f192a8",
   "metadata": {},
   "outputs": [],
   "source": [
    "ce_trainer = Trainers.CETrainer(khmodel, device)"
   ]
  },
  {
   "cell_type": "code",
   "execution_count": 11,
   "id": "1ab3df63-95d0-4f91-bdbf-05b2d5be2722",
   "metadata": {},
   "outputs": [
    {
     "data": {
      "application/vnd.jupyter.widget-view+json": {
       "model_id": "9bbe275227ba47ba9c2ad3eaa9ce6203",
       "version_major": 2,
       "version_minor": 0
      },
      "text/plain": [
       "  0%|          | 0/1000 [00:00<?, ?epoch/s]"
      ]
     },
     "metadata": {},
     "output_type": "display_data"
    }
   ],
   "source": [
    "ce_trainer.run(TrainLoader, TestLoader, no_epochs=NUMBER_OF_EPOCHS)"
   ]
  },
  {
   "cell_type": "code",
   "execution_count": 12,
   "id": "1cd38b98-c0e0-40d1-b352-97e8d535e98e",
   "metadata": {},
   "outputs": [
    {
     "data": {
      "text/plain": [
       "Text(0, 0.5, 'Accuracy(t)')"
      ]
     },
     "execution_count": 12,
     "metadata": {},
     "output_type": "execute_result"
    },
    {
     "data": {
      "image/png": "[encoded data removed]",
      "text/plain": [
       "<Figure size 432x288 with 2 Axes>"
      ]
     },
     "metadata": {
      "needs_background": "light"
     },
     "output_type": "display_data"
    }
   ],
   "source": [
    "fig, axs = plt.subplots(1, 2)\n",
    "axs[0].plot(ce_trainer.log[\"ce_loss\"])\n",
    "axs[0].set_xlabel(r\"t [epochs]\")\n",
    "axs[0].set_ylabel(r\"CE(t)\")\n",
    "axs[1].plot(ce_trainer.log[\"eval_acc\"])\n",
    "axs[1].set_xlabel(r\"t [epochs]\")\n",
    "axs[1].set_ylabel(r\"Accuracy(t)\")"
   ]
  },
  {
   "cell_type": "code",
   "execution_count": 16,
   "id": "e80b9e90-1ec9-4899-9e24-859af0cc2237",
   "metadata": {},
   "outputs": [],
   "source": [
    "# save the model\n",
    "torch.save(\n",
    "    {\n",
    "        \"fkhl3-path\": str(filepath),\n",
    "        \"fkhl3-state\": storage_obj,\n",
    "        \"model_state_dict\": khmodel.state_dict(),\n",
    "        \"loss_history\": ce_trainer.log[\"loss\"],\n",
    "        \"accuracy_history\": ce_trainer.log[\"eval_acc\"],\n",
    "    },\n",
    "    model_path / Path(\"KHModel_\" + str(model_file)),\n",
    ")"
   ]
  },
  {
   "cell_type": "markdown",
   "id": "851ffae4-7765-4beb-8b65-470ced4a91a7",
   "metadata": {},
   "source": [
    "# Adversarial Testing"
   ]
  },
  {
   "cell_type": "code",
   "execution_count": 8,
   "id": "dcd036a7-73c9-4425-a1fe-c2c8f52c834e",
   "metadata": {},
   "outputs": [],
   "source": [
    "khmodel_filepath = model_path / Path(\"KHModel_\" + str(model_file))\n",
    "storage_obj = torch.load(khmodel_filepath)\n",
    "khmodel = KHModel(storage_obj)\n",
    "khmodel.to(device)\n",
    "khmodel.eval()"
   ]
  },
  {
   "cell_type": "code",
   "execution_count": 9,
   "id": "f679219b-2c34-4c48-b720-1fe69563585a",
   "metadata": {},
   "outputs": [],
   "source": [
    "from torch.nn import CrossEntropyLoss\n",
    "ce_loss = CrossEntropyLoss()"
   ]
  },
  {
   "cell_type": "code",
   "execution_count": 10,
   "id": "2c221de2-9949-4569-999f-1ef358907f8f",
   "metadata": {},
   "outputs": [],
   "source": [
    "from LocalLearning.Attacks import FGSM\n",
    "fgsm = FGSM(khmodel)"
   ]
  },
  {
   "cell_type": "code",
   "execution_count": 11,
   "id": "12aa780c-4f99-46f1-8133-330d28ea6178",
   "metadata": {},
   "outputs": [],
   "source": [
    "features, labels = next(iter(TestLoader))"
   ]
  },
  {
   "cell_type": "code",
   "execution_count": 12,
   "id": "580d7baa-d00f-4488-a32a-172fb2a32515",
   "metadata": {},
   "outputs": [],
   "source": [
    "a_example = fgsm(5e-2, features, labels, ce_loss)"
   ]
  },
  {
   "cell_type": "code",
   "execution_count": 13,
   "id": "7f9d8265-546a-4e4d-9fc4-456111f3fdcb",
   "metadata": {},
   "outputs": [
    {
     "data": {
      "image/png": "[encoded data removed]",
      "text/plain": [
       "<Figure size 432x288 with 1 Axes>"
      ]
     },
     "metadata": {
      "needs_background": "light"
     },
     "output_type": "display_data"
    }
   ],
   "source": [
    "def minmaxnorm(a):\n",
    "    a_ = a - a.min()\n",
    "    return a_ / a_.max()\n",
    "\n",
    "plt.figure()\n",
    "#nc = np.max()\n",
    "img = features[1].detach().cpu().numpy()\n",
    "img = minmaxnorm(img)\n",
    "im = plt.imshow(img, vmin=np.min(img), vmax=np.max(img))\n",
    "plt.axis('off')\n",
    "plt.show()"
   ]
  },
  {
   "cell_type": "code",
   "execution_count": 14,
   "id": "ab27d126-f75f-4227-a492-ad89dfb82da6",
   "metadata": {},
   "outputs": [
    {
     "data": {
      "image/png": "[encoded data removed]",
      "text/plain": [
       "<Figure size 432x288 with 1 Axes>"
      ]
     },
     "metadata": {
      "needs_background": "light"
     },
     "output_type": "display_data"
    }
   ],
   "source": [
    "plt.figure()\n",
    "#nc = np.max()\n",
    "img = a_example[1].detach().cpu().numpy()\n",
    "img = minmaxnorm(img)\n",
    "im = plt.imshow(img, vmin=np.min(img), vmax=np.max(img))\n",
    "plt.axis('off')\n",
    "plt.show()"
   ]
  },
  {
   "cell_type": "code",
   "execution_count": 20,
   "id": "7375ba4b-9834-4339-8077-6bde3b067eb1",
   "metadata": {},
   "outputs": [
    {
     "data": {
      "application/vnd.jupyter.widget-view+json": {
       "model_id": "5dd42113da3949f68c42bb74fbc49c8a",
       "version_major": 2,
       "version_minor": 0
      },
      "text/plain": [
       "  0%|          | 0/10000 [00:00<?, ?batch/s]"
      ]
     },
     "metadata": {},
     "output_type": "display_data"
    }
   ],
   "source": [
    "aTestData = Data.BaselineAccurateTestData(khmodel, cifar10Test)"
   ]
  },
  {
   "cell_type": "code",
   "execution_count": 22,
   "id": "0a7bc579-aafd-4fbb-a1c5-05cfbceecb0f",
   "metadata": {},
   "outputs": [
    {
     "data": {
      "text/plain": [
       "4386"
      ]
     },
     "execution_count": 22,
     "metadata": {},
     "output_type": "execute_result"
    }
   ],
   "source": [
    "aTestData.targets.size(dim=0)"
   ]
  },
  {
   "cell_type": "code",
   "execution_count": 28,
   "id": "85dcb494-1bfe-4bb7-9b06-1c6805ad2a2f",
   "metadata": {},
   "outputs": [],
   "source": [
    "khmodel.pred()\n",
    "BaselineAccurateTestLoader = torch.utils.data.DataLoader(\n",
    "    aTestData,\n",
    "    batch_size=BATCH_SIZE,\n",
    "    num_workers=0,\n",
    "    shuffle=False,\n",
    ")\n",
    "freq_correct = 0\n",
    "for batch_no, (features, labels) in enumerate(BaselineAccurateTestLoader):\n",
    "        preds, _ = khmodel(features)\n",
    "        freq_correct += (torch.abs(preds - labels) == 0).sum()"
   ]
  },
  {
   "cell_type": "code",
   "execution_count": 29,
   "id": "c44f173d-45ab-4dab-bda4-d364386d6132",
   "metadata": {},
   "outputs": [
    {
     "data": {
      "text/plain": [
       "tensor(4386, device='cuda:0')"
      ]
     },
     "execution_count": 29,
     "metadata": {},
     "output_type": "execute_result"
    }
   ],
   "source": [
    "freq_correct"
   ]
  }
 ],
 "metadata": {
  "kernelspec": {
   "display_name": "Python 3 (ipykernel)",
   "language": "python",
   "name": "python3"
  },
  "language_info": {
   "codemirror_mode": {
    "name": "ipython",
    "version": 3
   },
   "file_extension": ".py",
   "mimetype": "text/x-python",
   "name": "python",
   "nbconvert_exporter": "python",
   "pygments_lexer": "ipython3",
   "version": "3.9.1"
  }
 },
 "nbformat": 4,
 "nbformat_minor": 5
}
