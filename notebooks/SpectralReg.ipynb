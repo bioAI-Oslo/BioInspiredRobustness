{
 "cells": [
  {
   "cell_type": "markdown",
   "id": "7c289d60-ef53-4f85-86ac-58bc8ab25879",
   "metadata": {},
   "source": [
    "# Spectral Regularisation\n",
    "Approach and Model in accordance with Nassar et al."
   ]
  },
  {
   "cell_type": "code",
   "execution_count": 1,
   "id": "7659d7a2-3499-4c2b-9970-339f2a80cbb7",
   "metadata": {},
   "outputs": [],
   "source": [
    "%load_ext autoreload\n",
    "%autoreload 2\n",
    "\n",
    "import math\n",
    "import torch\n",
    "from torch import nn\n",
    "from torchvision import datasets\n",
    "from torchvision.transforms import ToTensor\n",
    "from torch.utils.data import DataLoader\n",
    "from torch.optim import Adam\n",
    "from torch.nn import CrossEntropyLoss\n",
    "\n",
    "from pathlib import Path\n",
    "from context import LocalLearning\n",
    "from tqdm.notebook import tqdm\n",
    "import numpy as np\n",
    "from matplotlib import pyplot as plt\n",
    "import os\n",
    "import copy\n",
    "from scipy import stats\n",
    "\n",
    "plt.style.use(['seaborn-paper', \"./PRLDoubleCol.mplstyle\"])"
   ]
  },
  {
   "cell_type": "code",
   "execution_count": 2,
   "id": "4f525912-ac8b-4aa0-a86e-87df18541758",
   "metadata": {},
   "outputs": [],
   "source": [
    "if torch.cuda.is_available():\n",
    "    device = torch.device('cuda')\n",
    "else:\n",
    "    device = torch.device('cpu')"
   ]
  },
  {
   "cell_type": "markdown",
   "id": "231c45ed-bd8c-471c-8883-a81b529eea2a",
   "metadata": {},
   "source": [
    "## Define and Train the Model"
   ]
  },
  {
   "cell_type": "code",
   "execution_count": 3,
   "id": "9b631846-6ab7-4f13-9500-86f7734068c7",
   "metadata": {},
   "outputs": [],
   "source": [
    "# Hyper Parameters\n",
    "BATCH_SIZE = 1000\n",
    "LEARNING_RATE = 1e-3\n",
    "NUMBER_OF_EPOCHS = 100\n",
    "tau = 0\n",
    "beta = 1.0"
   ]
  },
  {
   "cell_type": "code",
   "execution_count": 4,
   "id": "6e24db56-fe61-4a28-835d-cd13c4612ca2",
   "metadata": {},
   "outputs": [],
   "source": [
    "class Model(nn.Module):\n",
    "    \n",
    "    pSet = {\n",
    "        \"hidden\": 2000,\n",
    "    }\n",
    "    \n",
    "    def hidden(x: torch.Tensor):\n",
    "        pass\n",
    "\n",
    "class SpecRegModel(Model):\n",
    "    \n",
    "    # default parameters\n",
    "    pSet = {\n",
    "        \"in_size\": 32*32*3,\n",
    "        \"hidden_size\": 2000,\n",
    "        \"n\": 4.5,\n",
    "        \"p\": 3.0,\n",
    "        \"no_classes\": 10,\n",
    "        \"tau\": 10, # regularizing cutoff\n",
    "    }\n",
    "    \n",
    "    def __init__(self, params: dict=None, sigma: float=None, bn=False, dtype: torch.dtype=torch.float32, **kwargs):\n",
    "        super(SpecRegModel, self).__init__()\n",
    "        if type(params) != type(None):\n",
    "            self.pSet[\"in_size\"] = params[\"in_size\"]\n",
    "            self.pSet[\"hidden_size\"] = params[\"hidden_size\"]\n",
    "            self.pSet[\"p\"] = params[\"p\"]\n",
    "            self.pSet[\"n\"] = params[\"n\"]\n",
    "            self.pSet[\"no_classes\"] = params[\"no_classes\"]\n",
    "            self.pSet[\"tau\"] = params[\"tau\"]\n",
    "            \n",
    "        self.dtype = dtype\n",
    "        self.flatten = nn.Flatten()\n",
    "        \n",
    "        # define linear mapping between input and hidden layer\n",
    "        # creating the representations\n",
    "        # same fashion as in KHL3 for optimal control\n",
    "        self.W = torch.zeros((self.pSet[\"in_size\"], self.pSet[\"hidden_size\"]), dtype=self.dtype)\n",
    "\n",
    "        # if sigma not explicitely specified, use Keiman He initialisation\n",
    "        # scheme for ReLU activation functions\n",
    "        if type(sigma) == type(None):\n",
    "            sigma = math.sqrt(2 / self.pSet[\"in_size\"])\n",
    "        \n",
    "        self.W.normal_(mean=0.0, std=sigma)\n",
    "        self.W = nn.Parameter(self.W)\n",
    "        \n",
    "        self.ReLU = nn.ReLU()\n",
    "        \n",
    "        # define second mapping\n",
    "        modules = []\n",
    "        if bn: # check whether batch norm was specified or not\n",
    "            modules.append(nn.BatchNorm1d(self.pSet[\"hidden_size\"]))\n",
    "        modules.append(\n",
    "            nn.Linear(self.pSet[\"hidden_size\"], self.pSet[\"no_classes\"], bias=False)\n",
    "        )\n",
    "        self.dense = nn.Sequential(*modules)\n",
    "        \n",
    "    def hidden(self, x: torch.Tensor):\n",
    "        x_flat = self.flatten(x)\n",
    "        return x_flat @ self.W\n",
    "        \n",
    "    def forward(self, x: torch.Tensor):\n",
    "        hidden = self.hidden(x)\n",
    "        latent_activation = torch.pow(self.ReLU(hidden), self.pSet[\"n\"])\n",
    "        return self.dense(latent_activation), hidden"
   ]
  },
  {
   "cell_type": "code",
   "execution_count": 5,
   "id": "5086d188-29ee-4bbe-aa93-1f223143d923",
   "metadata": {},
   "outputs": [
    {
     "data": {
      "text/plain": [
       "SpecRegModel(\n",
       "  (flatten): Flatten(start_dim=1, end_dim=-1)\n",
       "  (ReLU): ReLU()\n",
       "  (dense): Sequential(\n",
       "    (0): BatchNorm1d(2000, eps=1e-05, momentum=0.1, affine=True, track_running_stats=True)\n",
       "    (1): Linear(in_features=2000, out_features=10, bias=False)\n",
       "  )\n",
       ")"
      ]
     },
     "execution_count": 5,
     "metadata": {},
     "output_type": "execute_result"
    }
   ],
   "source": [
    "params = {\n",
    "        \"in_size\": 28**2,# MNISt configuration\n",
    "        \"hidden_size\": 2000,\n",
    "        \"n\": 4.5,\n",
    "        \"p\": 3.0,\n",
    "        \"no_classes\": 10,\n",
    "        \"tau\": 1, # regularizing cutoff\n",
    "}\n",
    "\n",
    "srmodel = SpecRegModel(params=params, sigma=None, bn=True)\n",
    "srmodel.to(device)\n",
    "srmodel.train()"
   ]
  },
  {
   "cell_type": "code",
   "execution_count": 6,
   "id": "29590394-0234-4cfa-b216-8eab489e4a41",
   "metadata": {},
   "outputs": [],
   "source": [
    "def cov(\n",
    "    dataloader: DataLoader, \n",
    "    model: Model, \n",
    "    device: torch.device, \n",
    "    dtype: torch.dtype=torch.float32,\n",
    "):\n",
    "    \n",
    "    with torch.no_grad():\n",
    "        \n",
    "        noE = model.pSet[\"hidden_size\"]\n",
    "        \n",
    "        # initialize stat tensors\n",
    "        auto_corr = torch.zeros((noE, noE), device=device, dtype=dtype)\n",
    "        mean = torch.zeros((noE,), device=device, dtype=dtype)\n",
    "        pop_size = 0\n",
    "        \n",
    "        # shift K - estimate of the mean\n",
    "        f, _ = next(iter(dataloader))\n",
    "        K = f.mean()\n",
    "        \n",
    "        \n",
    "        for x, _ in dataloader:\n",
    "            pop_size += len(x)\n",
    "            pred = model.hidden(x.to(device))\n",
    "            data = pred - K\n",
    "            auto_corr += data.T @ data\n",
    "            mean += data.sum(axis=0, dtype=dtype)\n",
    "                \n",
    "        cov = auto_corr - mean[None].T @ mean[None] / pop_size\n",
    "        cov /= pop_size - 1\n",
    "        \n",
    "        return cov.clone()"
   ]
  },
  {
   "cell_type": "code",
   "execution_count": 7,
   "id": "52edb492",
   "metadata": {},
   "outputs": [],
   "source": [
    "class LpUnitMNIST(datasets.MNIST):\n",
    "    def __init__(self, root, train=True, device=torch.device('cpu'), p=2.0, **kwargs):\n",
    "        super(LpUnitMNIST, self).__init__(\n",
    "            root=root, transform=ToTensor(), train=train, download=True, **kwargs,\n",
    "        )\n",
    "        self.p = p\n",
    "        self.flat = nn.Flatten()\n",
    "        self.device = device\n",
    "        self.data = self.data.type(torch.float32)\n",
    "        #self.data = self.data.to(self.device)\n",
    "        self.data /= torch.norm(self.flat(self.data), p=self.p, dim=-1)[:, None, None]\n",
    "        self.data = self.data.detach().cpu().numpy()\n",
    "\n",
    "    def __len__(self):\n",
    "        return len(self.data)\n",
    "\n",
    "    def __getitem__(self, index):\n",
    "        # Args:  index (int): index of the data set\n",
    "        # Value: feature, target (tuple): feature-target pair \n",
    "        #                                 with respective index in the dataset\n",
    "        return self.data[index], self.targets[index]"
   ]
  },
  {
   "cell_type": "code",
   "execution_count": 8,
   "id": "2b66c2b1-6008-4abe-b844-8fead303365c",
   "metadata": {},
   "outputs": [
    {
     "name": "stderr",
     "output_type": "stream",
     "text": [
      "/storA/LocalLearning/LocalLearning/src/LocalLearning/LocalLearning.py:140: UserWarning: To copy construct from a tensor, it is recommended to use sourceTensor.clone().detach() or sourceTensor.clone().detach().requires_grad_(True), rather than torch.tensor(sourceTensor).\n",
      "  self.dataset.targets = torch.tensor(self.dataset.targets)\n"
     ]
    }
   ],
   "source": [
    "train_data = LpUnitMNIST(\n",
    "    root=\"../data/MNIST\",\n",
    "    train=True,\n",
    "    p=srmodel.pSet[\"p\"],\n",
    ")\n",
    "\n",
    "dataloader_train = LocalLearning.DeviceDataLoader(\n",
    "    train_data,\n",
    "    device=device,\n",
    "    batch_size=BATCH_SIZE,\n",
    "    num_workers=4,\n",
    "    shuffle=True,\n",
    ")\n",
    "\n",
    "test_data = LpUnitMNIST(\n",
    "    root=\"../data/MNIST\",\n",
    "    train=False,\n",
    "    p=srmodel.pSet[\"p\"],\n",
    ")\n",
    "\n",
    "dataloader_test = LocalLearning.DeviceDataLoader(\n",
    "    test_data,\n",
    "    device=device,\n",
    "    batch_size=BATCH_SIZE,\n",
    "    num_workers=4,\n",
    "    shuffle=False,\n",
    ")"
   ]
  },
  {
   "cell_type": "code",
   "execution_count": 9,
   "id": "32887f4b-d160-4683-95f1-7836418e6d46",
   "metadata": {},
   "outputs": [],
   "source": [
    "class TrainSpecReg():\n",
    "    \n",
    "    sPs = {\n",
    "        \"alpha_reg\": 1.0,\n",
    "        \"beta\": 2.0, # Nassar et al. : beta = {1, 2, 5}\n",
    "        \"tau\": 1,\n",
    "    }\n",
    "    \n",
    "    def __init__(self,\n",
    "                 device: torch.device,\n",
    "                 learning_rate=1e-4,\n",
    "                 spectral_ps: sPs=sPs,\n",
    "                 no_epochs: int=5,\n",
    "                 K: float=0.02,\n",
    "                 dtype: torch.dtype=torch.float32,\n",
    "                ):\n",
    "        \n",
    "        self.no_epochs = no_epochs\n",
    "        self.K = K\n",
    "        self.sPs = spectral_ps\n",
    "        self.gamma = torch.Tensor()\n",
    "        self.device = device\n",
    "        self.dtype = dtype\n",
    "        self.loss_history = []\n",
    "        self.acc_history = []\n",
    "        self.learning_rate = learning_rate\n",
    "    \n",
    "    def __call__(self, \n",
    "                 trainData: DataLoader,\n",
    "                 model: SpecRegModel,\n",
    "                 no_epochs: int=5,\n",
    "                 testData: DataLoader=None,\n",
    "                 batch_norm: bool=True,\n",
    "                ):\n",
    "        optimizer = Adam(model.parameters(), lr=self.learning_rate)\n",
    "        ce_loss = CrossEntropyLoss()\n",
    "        \n",
    "        n = torch.arange(1, model.pSet[\"hidden_size\"] + 1, device=self.device, dtype=self.dtype)\n",
    "        self.gamma = n**(-self.sPs[\"beta\"])\n",
    "        \n",
    "        def R_spec(lambda_n: torch.Tensor) -> torch.Tensor:\n",
    "            gamma0 = lambda_n[0]\n",
    "            tau = self.sPs[\"tau\"]\n",
    "            fractional_dev = (lambda_n / self.gamma) - 1.0\n",
    "            res = fractional_dev[tau:]**2 + torch.maximum(\n",
    "                    fractional_dev[tau:], torch.zeros((1,), device=self.device, dtype=self.dtype )\n",
    "                )\n",
    "            return res.sum() / model.pSet[\"hidden_size\"]\n",
    "    \n",
    "        with tqdm(range(1, no_epochs + 1), unit=\"epoch\") as tepoch:\n",
    "            tepoch.set_description(f\"Training time [epochs]\")\n",
    "            \n",
    "            for epoch in tepoch:\n",
    "\n",
    "                # for each epoch, estimate the basis vectors of the\n",
    "                # covariance matrix to diagonalize it\n",
    "                Cxx = cov(trainData, model, device=device, dtype=torch.float64)\n",
    "                lambda_n, S = torch.linalg.eigh(Cxx)\n",
    "                _, idxs = torch.sort(lambda_n, descending=True)\n",
    "                S = S[:, idxs] # sorted eigenvectors\n",
    "\n",
    "                cumm_loss = 0.0\n",
    "                model.train()\n",
    "                for batch_nr, (features, labels) in enumerate(trainData):\n",
    "\n",
    "                    pred, hidden_state = model(features.to(device))\n",
    "\n",
    "                    # calculate the batch-wise covariance matrix\n",
    "                    pop_size = len(features)\n",
    "                    noE = model.pSet[\"hidden_size\"]\n",
    "                    hidden_state = hidden_state - self.K\n",
    "                    auto_corr = torch.zeros((noE, noE), device=device, dtype=torch.float64)\n",
    "                    auto_corr = hidden_state.T @ hidden_state\n",
    "                    mean = hidden_state.mean(axis=0, dtype=torch.float64)\n",
    "                    \n",
    "                    cxx = auto_corr - mean[None].T @ mean[None] / pop_size\n",
    "                    cxx /= pop_size - 1\n",
    "                    \n",
    "                    # calculate approximate diagonal elements based on \n",
    "                    diag = S.conj().T @ cxx @ S\n",
    "                    approx_lambda_n = torch.diagonal(diag, 0)\n",
    "\n",
    "                    labels = labels.to(torch.long)\n",
    "                    loss = ce_loss(pred, labels.to(self.device)) + self.sPs[\"beta\"]*R_spec(approx_lambda_n)\n",
    "                    cumm_loss += loss\n",
    "                    optimizer.zero_grad()\n",
    "                    loss.backward()\n",
    "                    \n",
    "                    # gradient clipping\n",
    "                    #torch.nn.utils.clip_grad_norm_(model.parameters(), 1.0, model.pSet[\"p\"])\n",
    "                    \n",
    "                    optimizer.step()\n",
    "                    \n",
    "                self.loss_history.append(cumm_loss)\n",
    "                \n",
    "                if type(testData) != type(None):\n",
    "                    freq_correct = 0\n",
    "                    model.eval()\n",
    "                    for batch_no, (features, labels) in enumerate(testData):\n",
    "                        preds, _ = model(features.to(self.device))\n",
    "                        preds = torch.argmax(preds, dim=-1)\n",
    "                        freq_correct += (torch.abs(preds - labels.to(self.device)) == 0).sum()\n",
    "            \n",
    "                    self.acc_history.append(freq_correct / (len(testData)*testData.batch_size))\n",
    "            \n",
    "    def get_loss_history(self, mode: str=\"list\"):\n",
    "        if mode == \"numpy\":\n",
    "            return np.array([loss.detach().cpu().numpy() for loss in self.loss_history])\n",
    "        \n",
    "        if mode == \"torch\":\n",
    "            return torch.Tensor([loss.detach().cpu() for loss in self.loss_history])\n",
    "        \n",
    "        return self.loss_history\n",
    "    \n",
    "    def get_acc_history(self, mode: str=\"list\"):\n",
    "        if mode == \"numpy\":\n",
    "            return np.array([loss.detach().cpu().numpy() for loss in self.acc_history])\n",
    "        \n",
    "        if mode == \"torch\":\n",
    "            return torch.Tensor([loss.detach().cpu() for loss in self.acc_history])\n",
    "        \n",
    "        return self.acc_history"
   ]
  },
  {
   "cell_type": "code",
   "execution_count": 10,
   "id": "6572e533-959b-4168-8c38-6bc014e0bf25",
   "metadata": {},
   "outputs": [
    {
     "data": {
      "application/vnd.jupyter.widget-view+json": {
       "model_id": "7e4d7516a9c943b6b0fde6c58e0e63ab",
       "version_major": 2,
       "version_minor": 0
      },
      "text/plain": [
       "  0%|          | 0/100 [00:00<?, ?epoch/s]"
      ]
     },
     "metadata": {},
     "output_type": "display_data"
    }
   ],
   "source": [
    "spectral_model_parameter = TrainSpecReg.sPs\n",
    "spectral_model_parameter[\"alpha_reg\"] = 1.0\n",
    "spectral_model_parameter[\"beta\"] = 1.0\n",
    "spectral_model_parameter[\"tau\"] = 0\n",
    "trainSpecReg = TrainSpecReg(device, learning_rate=LEARNING_RATE, spectral_ps=spectral_model_parameter)\n",
    "trainSpecReg(dataloader_train, srmodel, no_epochs=NUMBER_OF_EPOCHS, testData=dataloader_test)"
   ]
  },
  {
   "cell_type": "code",
   "execution_count": 11,
   "id": "5bfd89da-f97d-4e25-ac50-e0829612de30",
   "metadata": {},
   "outputs": [],
   "source": [
    "# save the model\n",
    "#torch.save(\n",
    "#    {\n",
    "#        \"model_path\": str(llmodels_path / model_file),\n",
    "#        \"model_state_dict\": khmodel.state_dict(),\n",
    "#        \"loss_history\": loss_history,\n",
    "#        \"accuracy_history\": accuracy_history,\n",
    "#    },\n",
    "#    llmodels_path.parent / Path(\"KHModelCIFAR10_ensemble\") / Path(\"KHModel_\" + str(model_file)),\n",
    "#)"
   ]
  },
  {
   "cell_type": "code",
   "execution_count": 12,
   "id": "8a3ffa65-5c8b-42e9-96e1-fbe88d63d373",
   "metadata": {},
   "outputs": [],
   "source": [
    "srmodel.eval()\n",
    "cxx = cov(dataloader_test, srmodel, device)\n",
    "lambda_n, _ = torch.linalg.eigh(cxx)\n",
    "lambda_sorted, _ = torch.sort(lambda_n, descending=True)\n",
    "lambda_numpy = lambda_sorted.detach().cpu().numpy()"
   ]
  },
  {
   "cell_type": "code",
   "execution_count": 13,
   "id": "cca4d456-01a3-47bb-8e1a-cabbc8d69468",
   "metadata": {},
   "outputs": [
    {
     "data": {
      "image/png": "[encoded data removed]",
      "text/plain": [
       "<Figure size 2025x1012.5 with 3 Axes>"
      ]
     },
     "metadata": {
      "needs_background": "light"
     },
     "output_type": "display_data"
    }
   ],
   "source": [
    "fig, axs = plt.subplots(1, 3)\n",
    "n = np.arange(1, len(lambda_numpy)+1)\n",
    "axs[0].loglog(trainSpecReg.get_loss_history(mode=\"numpy\"), color='#762a83')\n",
    "axs[0].set_xlabel(r\"$t \\quad [\\textrm{epoch}]$\")\n",
    "axs[0].set_ylabel(r\"Loss\")\n",
    "\n",
    "axs[1].loglog(100*trainSpecReg.get_acc_history(mode=\"numpy\"), color='#762a83')\n",
    "axs[1].set_xlabel(r\"$t \\quad [\\textrm{epoch}]$\")\n",
    "axs[1].set_ylabel(r\"Accuracy\")\n",
    "\n",
    "spec_line = axs[2].loglog(n, lambda_numpy, color='#1b7837')\n",
    "norm_line = axs[2].loglog(n, lambda_numpy[tau]*n[tau] / n, color='#333333', linestyle=\":\")\n",
    "axs[2].set_xlabel(r\"$n$\")\n",
    "axs[2].set_ylabel(r\"$\\lambda_{n}$\")\n",
    "axs[2].legend([r\"$\\lambda_{n}$\", r\"$1/n$\"])\n",
    "plt.show()"
   ]
  },
  {
   "cell_type": "code",
   "execution_count": 14,
   "id": "24140a07-ac25-4d27-96df-b4869f99dc9e",
   "metadata": {},
   "outputs": [
    {
     "data": {
      "text/plain": [
       "tensor(0.6751, device='cuda:0', grad_fn=<MeanBackward0>)"
      ]
     },
     "execution_count": 14,
     "metadata": {},
     "output_type": "execute_result"
    }
   ],
   "source": [
    "torch.mean(torch.norm(srmodel.W, dim=0, p=srmodel.pSet[\"p\"]))"
   ]
  },
  {
   "cell_type": "code",
   "execution_count": 15,
   "id": "99c7bd37-90f3-47cb-b278-36c02f7a6279",
   "metadata": {},
   "outputs": [
    {
     "data": {
      "text/plain": [
       "0.9711"
      ]
     },
     "execution_count": 15,
     "metadata": {},
     "output_type": "execute_result"
    }
   ],
   "source": [
    "trainSpecReg.get_acc_history(mode=\"numpy\")[-1]"
   ]
  },
  {
   "cell_type": "code",
   "execution_count": null,
   "id": "ab9ea59f-fed3-4ec4-aa78-3eaea937f57f",
   "metadata": {},
   "outputs": [],
   "source": []
  }
 ],
 "metadata": {
  "kernelspec": {
   "display_name": "Python 3 (ipykernel)",
   "language": "python",
   "name": "python3"
  },
  "language_info": {
   "codemirror_mode": {
    "name": "ipython",
    "version": 3
   },
   "file_extension": ".py",
   "mimetype": "text/x-python",
   "name": "python",
   "nbconvert_exporter": "python",
   "pygments_lexer": "ipython3",
   "version": "3.9.1"
  }
 },
 "nbformat": 4,
 "nbformat_minor": 5
}
