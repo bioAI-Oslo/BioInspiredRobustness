{
 "cells": [
  {
   "cell_type": "code",
   "execution_count": 9,
   "id": "62c91bed-f28f-4ffb-9c3d-629a731d0068",
   "metadata": {},
   "outputs": [],
   "source": [
    "from context import LocalLearning"
   ]
  },
  {
   "cell_type": "code",
   "execution_count": 11,
   "id": "c6090b5e-404f-4ac3-95fe-3df20df61f95",
   "metadata": {},
   "outputs": [
    {
     "data": {
      "text/plain": [
       "{'in_size': 784,\n",
       " 'hidden_size': 2000,\n",
       " 'p': 3,\n",
       " 'tau_l': 10.0,\n",
       " 'k': 7,\n",
       " 'Delta': 0.4,\n",
       " 'R': 1.0}"
      ]
     },
     "execution_count": 11,
     "metadata": {},
     "output_type": "execute_result"
    }
   ],
   "source": [
    "pSet = LocalLearning.LocalLearningModel.pSet\n",
    "pSet"
   ]
  },
  {
   "cell_type": "code",
   "execution_count": null,
   "id": "1b45033b-6446-491d-9461-84f908f5927c",
   "metadata": {},
   "outputs": [],
   "source": []
  }
 ],
 "metadata": {
  "kernelspec": {
   "display_name": "Python 3 (ipykernel)",
   "language": "python",
   "name": "python3"
  },
  "language_info": {
   "codemirror_mode": {
    "name": "ipython",
    "version": 3
   },
   "file_extension": ".py",
   "mimetype": "text/x-python",
   "name": "python",
   "nbconvert_exporter": "python",
   "pygments_lexer": "ipython3",
   "version": "3.9.1"
  }
 },
 "nbformat": 4,
 "nbformat_minor": 5
}
