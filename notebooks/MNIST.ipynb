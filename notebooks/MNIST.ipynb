{
 "cells": [
  {
   "cell_type": "code",
   "execution_count": 10,
   "id": "62c91bed-f28f-4ffb-9c3d-629a731d0068",
   "metadata": {},
   "outputs": [],
   "source": [
    "# torch related modules and libraries\n",
    "import torch\n",
    "from torch.utils.data import DataLoader\n",
    "from torchvision import datasets\n",
    "from torchvision.transforms import ToTensor\n",
    "\n",
    "# other\n",
    "from pathlib import Path\n",
    "from matplotlib import pyplot as plt\n",
    "import numpy as np\n",
    "\n",
    "# custom modules and libraries\n",
    "from context import LocalLearning\n",
    "\n",
    "plt.style.use(['seaborn-paper', \"./PRLDoubleCol.mplstyle\"])"
   ]
  },
  {
   "cell_type": "code",
   "execution_count": 2,
   "id": "c6090b5e-404f-4ac3-95fe-3df20df61f95",
   "metadata": {},
   "outputs": [
    {
     "name": "stdout",
     "output_type": "stream",
     "text": [
      "Cuda available, choose device: cuda\n"
     ]
    }
   ],
   "source": [
    "if torch.cuda.is_available():\n",
    "    dev = torch.device('cuda')\n",
    "    print(f\"Cuda available, choose device: {dev}\")\n",
    "else:\n",
    "    dev = torch.device('cpu')\n",
    "    print(f\"Cuda unavailable, choose device: {dev}\")"
   ]
  },
  {
   "cell_type": "code",
   "execution_count": 15,
   "id": "4dc5ab19-221e-4ce3-8c73-64051cc689d5",
   "metadata": {},
   "outputs": [],
   "source": [
    "test_data = datasets.MNIST(\n",
    "    root=\"../data/MNIST\",\n",
    "    train=False,\n",
    "    transform=ToTensor(),\n",
    ")\n",
    "\n",
    "dlTest = DataLoader(\n",
    "    test_data,\n",
    "    batch_size=100,\n",
    "    num_workers=4,\n",
    "    shuffle=False,\n",
    ")"
   ]
  },
  {
   "cell_type": "markdown",
   "id": "71dc82e1-aa2e-414a-9261-433c9a2a8e6c",
   "metadata": {},
   "source": [
    "# Local Learning Training"
   ]
  },
  {
   "cell_type": "code",
   "execution_count": null,
   "id": "3ef55c1c-ca53-4f61-868e-2bcc081e5060",
   "metadata": {},
   "outputs": [],
   "source": []
  },
  {
   "cell_type": "markdown",
   "id": "857a857c-43c6-46dc-9e93-11fe10194b51",
   "metadata": {},
   "source": [
    "# Local Learning Encodings and Weights"
   ]
  },
  {
   "cell_type": "code",
   "execution_count": 13,
   "id": "6cc83496-a288-470d-a735-b3c4cee72b9a",
   "metadata": {},
   "outputs": [],
   "source": [
    "# load the trained local learning model\n",
    "trained_params_path = Path(\"../data/models/NoNormMNIST_LL/mnist_5.pth\")\n",
    "trained_model_state = torch.load(trained_params_path)\n",
    "llparams = trained_model_state[\"model_parameters\"]\n",
    "llmodel = LocalLearning.FKHL3(llparams)\n",
    "llmodel.load_state_dict(trained_model_state[\"model_state_dict\"])\n",
    "llmodel.to(dev)\n",
    "llmodel.eval()"
   ]
  },
  {
   "cell_type": "code",
   "execution_count": 14,
   "id": "c84efc7e-784d-422d-9e4e-af858187aba1",
   "metadata": {},
   "outputs": [
    {
     "data": {
      "image/png": "[encoded data removed]",
      "text/plain": [
       "<Figure size 486x504 with 1 Axes>"
      ]
     },
     "metadata": {
      "needs_background": "light"
     },
     "output_type": "display_data"
    }
   ],
   "source": [
    "# weight_distribution\n",
    "\n",
    "fig, ax = plt.subplots()\n",
    "p_iter = llmodel.parameters()\n",
    "llweigths = next(p_iter)\n",
    "ax.hist(llweigths.detach().cpu().numpy())\n",
    "ax.set_title(\"Distribution in trained weights\")\n",
    "fig.show()"
   ]
  },
  {
   "cell_type": "code",
   "execution_count": 22,
   "id": "ff2ffab6-c6a7-4a4b-a96b-95bcd70facdd",
   "metadata": {},
   "outputs": [
    {
     "name": "stderr",
     "output_type": "stream",
     "text": [
      "/home/konstantin/anaconda3/envs/pytorch/lib/python3.9/site-packages/torch/_tensor.py:493: UserWarning: non-inplace resize is deprecated\n",
      "  warnings.warn(\"non-inplace resize is deprecated\")\n"
     ]
    },
    {
     "data": {
      "image/png": "[encoded data removed]",
      "text/plain": [
       "<Figure size 486x504 with 1 Axes>"
      ]
     },
     "metadata": {
      "needs_background": "light"
     },
     "output_type": "display_data"
    }
   ],
   "source": [
    "# dataset distribution\n",
    "data_iter = iter(dlTest)\n",
    "features, labels = next(data_iter)\n",
    "features.size()\n",
    "\n",
    "fig, ax = plt.subplots()\n",
    "ax.hist(features.resize(280, 280).detach().cpu().numpy())\n",
    "ax.set_title(\"Distribution in mini batch\")\n",
    "fig.show()"
   ]
  },
  {
   "cell_type": "code",
   "execution_count": 24,
   "id": "a5d343a3-bbc0-4905-bf83-356f91dd2077",
   "metadata": {},
   "outputs": [
    {
     "data": {
      "image/png": "[encoded data removed]",
      "text/plain": [
       "<Figure size 486x504 with 1 Axes>"
      ]
     },
     "metadata": {
      "needs_background": "light"
     },
     "output_type": "display_data"
    }
   ],
   "source": [
    "# encodings\n",
    "preds = llmodel(features.to(dev))\n",
    "fig, ax = plt.subplots()\n",
    "ax.hist(preds.detach().cpu().numpy())\n",
    "ax.set_title(\"Distribution in encodings\")\n",
    "fig.show()"
   ]
  },
  {
   "cell_type": "code",
   "execution_count": null,
   "id": "a630fefe-a2a8-4b6c-8456-d641706e31a7",
   "metadata": {},
   "outputs": [],
   "source": []
  }
 ],
 "metadata": {
  "kernelspec": {
   "display_name": "Python 3 (ipykernel)",
   "language": "python",
   "name": "python3"
  },
  "language_info": {
   "codemirror_mode": {
    "name": "ipython",
    "version": 3
   },
   "file_extension": ".py",
   "mimetype": "text/x-python",
   "name": "python",
   "nbconvert_exporter": "python",
   "pygments_lexer": "ipython3",
   "version": "3.9.1"
  }
 },
 "nbformat": 4,
 "nbformat_minor": 5
}
