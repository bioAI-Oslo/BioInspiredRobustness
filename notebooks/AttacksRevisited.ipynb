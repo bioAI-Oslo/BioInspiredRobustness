{
 "cells": [
  {
   "cell_type": "markdown",
   "id": "433ebc62-a0f2-43d8-85c2-50adf577e408",
   "metadata": {},
   "source": [
    "# Adversarial Attack Test"
   ]
  },
  {
   "cell_type": "code",
   "execution_count": 1,
   "id": "62563a93-13ba-4458-a746-b1f9c8934e27",
   "metadata": {},
   "outputs": [],
   "source": [
    "%load_ext autoreload\n",
    "%autoreload 2\n",
    "\n",
    "import torch\n",
    "from torchvision.transforms import ToTensor\n",
    "from torch.optim import Adam\n",
    "\n",
    "from context import *\n",
    "from LocalLearning import Attacks\n",
    "from LocalLearning import KHModel\n",
    "from LocalLearning import Data\n",
    "from LocalLearning import Trainers\n",
    "\n",
    "from pathlib import Path\n",
    "\n",
    "import numpy as np\n",
    "from matplotlib import pyplot as plt\n",
    "plt.style.use(['seaborn-paper', \"./PRLDoubleCol.mplstyle\"])"
   ]
  },
  {
   "cell_type": "code",
   "execution_count": 2,
   "id": "c4d77a87-3560-43a1-963e-3fdb58226006",
   "metadata": {},
   "outputs": [],
   "source": [
    "if torch.cuda.is_available():\n",
    "    device = torch.device('cuda')\n",
    "else:\n",
    "    device = torch.device('cpu')"
   ]
  },
  {
   "cell_type": "code",
   "execution_count": 3,
   "id": "7d9ceeab-01b2-4785-bf55-3a5622d68bec",
   "metadata": {},
   "outputs": [],
   "source": [
    "# train Flipswitch\n",
    "TRAIN = False\n",
    "\n",
    "# hyper-parameter\n",
    "BATCH_SIZE = 1000\n",
    "NUMBER_OF_EPOCHS = 1000\n",
    "\n",
    "model_path = Path(\"../data/models/CIFAR10_PowerLaw\")\n",
    "figure_path = Path(\"../data/figures/CIFAR10_PowerLaw\")\n",
    "\n",
    "model_ps = {\n",
    "    \"in_size\": 3*32**2,\n",
    "    \"hidden_size\": 2000,\n",
    "    \"n\": 4.5,\n",
    "    \"p\": 3.0,\n",
    "    \"tau_l\": 1.0 / 0.02, # 1 / learning_rate\n",
    "    \"k\": 2,\n",
    "    \"Delta\": 0.4,\n",
    "    \"R\": 1.0,\n",
    "}"
   ]
  },
  {
   "cell_type": "code",
   "execution_count": 4,
   "id": "670b7f72-fb8e-4803-b5c2-6a3b07626962",
   "metadata": {},
   "outputs": [],
   "source": [
    "# load the model\n",
    "model_file = Path(\"kh_cifar10_pruned_thr.pty\")\n",
    "filepath = model_path / model_file\n",
    "\n",
    "if os.path.isfile(filepath):\n",
    "    storage_obj = torch.load(filepath)\n",
    "\n",
    "with torch.no_grad():\n",
    "    model_pset = storage_obj[\"model_parameters\"]\n",
    "    dummy = LocalLearning.FKHL3(model_pset)\n",
    "    dummy.load_state_dict(storage_obj[\"model_state_dict\"])\n",
    "    khlayer = LocalLearning.FKHL3(model_pset)\n",
    "    khlayer.W = torch.nn.Parameter(dummy.W.clone())\n",
    "    khlayer.to(device)\n",
    "    khlayer.eval()"
   ]
  },
  {
   "cell_type": "markdown",
   "id": "cb1d8728-90e1-40b2-9ad0-01b4080d756e",
   "metadata": {},
   "source": [
    "# Train the hybrid model"
   ]
  },
  {
   "cell_type": "code",
   "execution_count": 5,
   "id": "d07ee3b3-78d8-434a-a1e9-9f60c9996940",
   "metadata": {},
   "outputs": [],
   "source": [
    "khmodel = KHModel(khlayer)\n",
    "khmodel.to(device)\n",
    "khmodel.train()"
   ]
  },
  {
   "cell_type": "code",
   "execution_count": 6,
   "id": "0e564742-2af0-4308-b039-39da674467a6",
   "metadata": {},
   "outputs": [],
   "source": [
    "# Hyper parameters:\n",
    "BATCH_SIZE = 1000\n",
    "NUMBER_OF_EPOCHS = 1000\n",
    "LEARNING_RATE = 1e-4"
   ]
  },
  {
   "cell_type": "code",
   "execution_count": 7,
   "id": "8dd2075c-166d-4091-b0f9-ec4c13581132",
   "metadata": {},
   "outputs": [
    {
     "name": "stdout",
     "output_type": "stream",
     "text": [
      "Files already downloaded and verified\n",
      "Files already downloaded and verified\n"
     ]
    }
   ],
   "source": [
    "cifar10Train= Data.LpUnitCIFAR10(\n",
    "    root=\"../data/CIFAR10\",\n",
    "    train=True,\n",
    "    transform=ToTensor(),\n",
    "    p=khlayer.pSet[\"p\"],\n",
    ")\n",
    "\n",
    "TrainLoader = Data.DeviceDataLoader(\n",
    "    cifar10Train,# define batch window in the global index coordinates\n",
    "    device=device,\n",
    "    batch_size=BATCH_SIZE,\n",
    "    num_workers=4,\n",
    "    shuffle=True,\n",
    ")\n",
    "\n",
    "cifar10Test = Data.LpUnitCIFAR10(\n",
    "    root=\"../data/CIFAR10\",\n",
    "    train=False,\n",
    "    transform=ToTensor(),\n",
    "    p=khlayer.pSet[\"p\"],\n",
    ")\n",
    "\n",
    "TestLoader = Data.DeviceDataLoader(\n",
    "    cifar10Test,\n",
    "    device=device,\n",
    "    batch_size=BATCH_SIZE,\n",
    "    num_workers=4,\n",
    "    shuffle=False,\n",
    ")"
   ]
  },
  {
   "cell_type": "code",
   "execution_count": 8,
   "id": "1579d459-144d-42f1-ab81-dd8165f192a8",
   "metadata": {},
   "outputs": [],
   "source": [
    "TRAIN = False\n",
    "if TRAIN:\n",
    "    ce_trainer = Trainers.CETrainer(khmodel, device)\n",
    "    ce_trainer.run(TrainLoader, TestLoader, no_epochs=NUMBER_OF_EPOCHS)\n",
    "    # save the model\n",
    "    torch.save(\n",
    "        {\n",
    "            \"fkhl3-path\": str(filepath),\n",
    "            \"fkhl3-state\": storage_obj,\n",
    "            \"model_state_dict\": khmodel.state_dict(),\n",
    "            \"loss_history\": ce_trainer.log[\"loss\"],\n",
    "            \"accuracy_history\": ce_trainer.log[\"eval_acc\"],\n",
    "        },\n",
    "        model_path / Path(\"KHModel_\" + str(model_file)),\n",
    "    )"
   ]
  },
  {
   "cell_type": "code",
   "execution_count": 9,
   "id": "1cd38b98-c0e0-40d1-b352-97e8d535e98e",
   "metadata": {},
   "outputs": [],
   "source": [
    "if TRAIN:\n",
    "    fig, axs = plt.subplots(1, 2)\n",
    "    axs[0].plot(ce_trainer.log[\"ce_loss\"])\n",
    "    axs[0].set_xlabel(r\"t [epochs]\")\n",
    "    axs[0].set_ylabel(r\"CE(t)\")\n",
    "    axs[1].plot(ce_trainer.log[\"eval_acc\"])\n",
    "    axs[1].set_xlabel(r\"t [epochs]\")\n",
    "    axs[1].set_ylabel(r\"Accuracy(t)\")"
   ]
  },
  {
   "cell_type": "markdown",
   "id": "851ffae4-7765-4beb-8b65-470ced4a91a7",
   "metadata": {},
   "source": [
    "# Adversarial Testing"
   ]
  },
  {
   "cell_type": "code",
   "execution_count": 10,
   "id": "dcd036a7-73c9-4425-a1fe-c2c8f52c834e",
   "metadata": {},
   "outputs": [],
   "source": [
    "khmodel_filepath = model_path / Path(\"KHModel_\" + str(model_file))\n",
    "storage_obj = torch.load(khmodel_filepath)\n",
    "khmodel = KHModel(storage_obj)\n",
    "khmodel.to(device)\n",
    "khmodel.eval()"
   ]
  },
  {
   "cell_type": "code",
   "execution_count": 11,
   "id": "f679219b-2c34-4c48-b720-1fe69563585a",
   "metadata": {},
   "outputs": [],
   "source": [
    "from torch.nn import CrossEntropyLoss\n",
    "ce_loss = CrossEntropyLoss()"
   ]
  },
  {
   "cell_type": "code",
   "execution_count": 12,
   "id": "2c221de2-9949-4569-999f-1ef358907f8f",
   "metadata": {},
   "outputs": [],
   "source": [
    "from LocalLearning.Attacks import FGSM\n",
    "fgsm = FGSM(khmodel)"
   ]
  },
  {
   "cell_type": "code",
   "execution_count": 13,
   "id": "12aa780c-4f99-46f1-8133-330d28ea6178",
   "metadata": {},
   "outputs": [],
   "source": [
    "features, labels = next(iter(TestLoader))"
   ]
  },
  {
   "cell_type": "code",
   "execution_count": 14,
   "id": "580d7baa-d00f-4488-a32a-172fb2a32515",
   "metadata": {},
   "outputs": [],
   "source": [
    "a_example = fgsm(5e-2, features, labels, ce_loss)"
   ]
  },
  {
   "cell_type": "code",
   "execution_count": 15,
   "id": "7f9d8265-546a-4e4d-9fc4-456111f3fdcb",
   "metadata": {},
   "outputs": [
    {
     "data": {
      "image/png": "[encoded data removed]",
      "text/plain": [
       "<Figure size 2025x1012.5 with 1 Axes>"
      ]
     },
     "metadata": {
      "needs_background": "light"
     },
     "output_type": "display_data"
    }
   ],
   "source": [
    "def minmaxnorm(a):\n",
    "    a_ = a - a.min()\n",
    "    return a_ / a_.max()\n",
    "\n",
    "plt.figure()\n",
    "#nc = np.max()\n",
    "img = features[1].detach().cpu().numpy()\n",
    "img = minmaxnorm(img)\n",
    "im = plt.imshow(img, vmin=np.min(img), vmax=np.max(img))\n",
    "plt.axis('off')\n",
    "plt.show()"
   ]
  },
  {
   "cell_type": "code",
   "execution_count": null,
   "id": "8b969a24-4326-401a-bbe8-f2d271df952c",
   "metadata": {},
   "outputs": [],
   "source": []
  },
  {
   "cell_type": "code",
   "execution_count": 16,
   "id": "ab27d126-f75f-4227-a492-ad89dfb82da6",
   "metadata": {},
   "outputs": [
    {
     "data": {
      "image/png": "[encoded data removed]",
      "text/plain": [
       "<Figure size 2025x1012.5 with 1 Axes>"
      ]
     },
     "metadata": {
      "needs_background": "light"
     },
     "output_type": "display_data"
    }
   ],
   "source": [
    "plt.figure()\n",
    "#nc = np.max()\n",
    "img = a_example[1].detach().cpu().numpy()\n",
    "img = minmaxnorm(img)\n",
    "im = plt.imshow(img, vmin=np.min(img), vmax=np.max(img))\n",
    "plt.axis('off')\n",
    "plt.show()"
   ]
  },
  {
   "cell_type": "code",
   "execution_count": 104,
   "id": "c5da44dd-05ee-465a-8dbd-2417cd81f245",
   "metadata": {},
   "outputs": [],
   "source": [
    "from LocalLearning.Attacks import PGD, FGSM, WhiteGaussianPerturbation\n",
    "\n",
    "# PGD\n",
    "pgd_params = {\n",
    "    \"num_it\": 20,\n",
    "    \"dl\": 1e-2,\n",
    "    \"dl_deps\": 1e-1,\n",
    "    \"norm_p\": 'inf',\n",
    "}\n",
    "pgd = PGD(khmodel, pgd_params)\n",
    "\n",
    "# FGSM\n",
    "fgsm = FGSM(khmodel)\n",
    "\n",
    "# random perturbation\n",
    "rp = WhiteGaussianPerturbation(khmodel)"
   ]
  },
  {
   "cell_type": "code",
   "execution_count": 105,
   "id": "7375ba4b-9834-4339-8077-6bde3b067eb1",
   "metadata": {},
   "outputs": [
    {
     "data": {
      "application/vnd.jupyter.widget-view+json": {
       "model_id": "94f2edc07c674e1680a1bbd5c69fa0c4",
       "version_major": 2,
       "version_minor": 0
      },
      "text/plain": [
       "  0%|          | 0/10000 [00:00<?, ?batch/s]"
      ]
     },
     "metadata": {},
     "output_type": "display_data"
    }
   ],
   "source": [
    "aTestData = Data.BaselineAccurateTestData(khmodel, cifar10Test)\n",
    "aTestLoader = Data.DeviceDataLoader(\n",
    "    aTestData,\n",
    "    device=device,\n",
    "    batch_size=BATCH_SIZE,\n",
    "    num_workers=4,\n",
    "    shuffle=False,\n",
    ")"
   ]
  },
  {
   "cell_type": "code",
   "execution_count": 106,
   "id": "dcb62dc7-89d9-4f05-a18d-df6a9a1bd68f",
   "metadata": {},
   "outputs": [
    {
     "data": {
      "application/vnd.jupyter.widget-view+json": {
       "model_id": "b3072ebd7b5c49d89fc4268e50216dfc",
       "version_major": 2,
       "version_minor": 0
      },
      "text/plain": [
       "  0%|          | 0/200 [00:00<?, ?perturbation/s]"
      ]
     },
     "metadata": {},
     "output_type": "display_data"
    },
    {
     "data": {
      "application/vnd.jupyter.widget-view+json": {
       "model_id": "3d6b76d5891c4bfa8834ece840b2228d",
       "version_major": 2,
       "version_minor": 0
      },
      "text/plain": [
       "  0%|          | 0/200 [00:00<?, ?perturbation/s]"
      ]
     },
     "metadata": {},
     "output_type": "display_data"
    },
    {
     "data": {
      "application/vnd.jupyter.widget-view+json": {
       "model_id": "708a81e1719e4d7b90a62b993c5a1229",
       "version_major": 2,
       "version_minor": 0
      },
      "text/plain": [
       "  0%|          | 0/200 [00:00<?, ?perturbation/s]"
      ]
     },
     "metadata": {},
     "output_type": "display_data"
    }
   ],
   "source": [
    "fgsmTest = Attacks.AttackTest(fgsm, khmodel, ce_loss)\n",
    "pgdTest = Attacks.AttackTest(pgd, khmodel, ce_loss)\n",
    "rpTest = Attacks.AttackTest(rp, khmodel, ce_loss)\n",
    "\n",
    "eps_highres = np.linspace(1e-6, 5e-2, num=200)\n",
    "eps_lowres = np.linspace(1e-6, 20.0, num=200)\n",
    "acc_fgsm, crit_eps_fgsm, crit_norm_fgsm = fgsmTest.run(aTestLoader, eps_highres, norm_p=2.0)\n",
    "acc_pgd, crit_eps_pgd, crit_norm_pgd = pgdTest.run(aTestLoader, eps_highres, norm_p=2.0)\n",
    "acc_rp, crit_eps_rp, crit_norm_rp = rpTest.run(aTestLoader, eps_lowres, norm_p=2.0)"
   ]
  },
  {
   "cell_type": "code",
   "execution_count": 107,
   "id": "7b9ff5e0-7f79-4a42-b365-244d88a56ba1",
   "metadata": {},
   "outputs": [],
   "source": [
    "nan_eps_fgsm = np.isnan(crit_eps_fgsm)\n",
    "nan_eps_pgd = np.isnan(crit_eps_pgd)\n",
    "nan_norm_fgsm = np.isnan(crit_norm_fgsm)\n",
    "nan_norm_pgd = np.isnan(crit_norm_pgd)\n",
    "nan_eps_rp = np.isnan(crit_eps_rp)\n",
    "nan_norm_rp = np.isnan(crit_norm_rp)\n",
    "\n",
    "eps_fgsm = crit_eps_fgsm[~nan_eps_fgsm]\n",
    "eps_pgd = crit_eps_pgd[~nan_eps_pgd]\n",
    "norm_fgsm = crit_norm_fgsm[~nan_norm_fgsm]\n",
    "norm_pgd = crit_norm_pgd[~nan_norm_pgd]\n",
    "eps_rp = crit_eps_rp[~nan_eps_rp]\n",
    "norm_rp = crit_norm_rp[~nan_norm_rp]"
   ]
  },
  {
   "cell_type": "code",
   "execution_count": 108,
   "id": "ae63c732-c1e8-4a98-8e09-dce444eb0f93",
   "metadata": {},
   "outputs": [
    {
     "data": {
      "text/plain": [
       "{'whiskers': [<matplotlib.lines.Line2D at 0x7fd2521a19d0>,\n",
       "  <matplotlib.lines.Line2D at 0x7fd2521a1ca0>,\n",
       "  <matplotlib.lines.Line2D at 0x7fd2521aeaf0>,\n",
       "  <matplotlib.lines.Line2D at 0x7fd2521aedc0>,\n",
       "  <matplotlib.lines.Line2D at 0x7fd2521b8c10>,\n",
       "  <matplotlib.lines.Line2D at 0x7fd2521b8ee0>],\n",
       " 'caps': [<matplotlib.lines.Line2D at 0x7fd2521a1f70>,\n",
       "  <matplotlib.lines.Line2D at 0x7fd2521ae280>,\n",
       "  <matplotlib.lines.Line2D at 0x7fd2521b80d0>,\n",
       "  <matplotlib.lines.Line2D at 0x7fd2521b83a0>,\n",
       "  <matplotlib.lines.Line2D at 0x7fd2521c81f0>,\n",
       "  <matplotlib.lines.Line2D at 0x7fd2521c84c0>],\n",
       " 'boxes': [<matplotlib.lines.Line2D at 0x7fd2521a1700>,\n",
       "  <matplotlib.lines.Line2D at 0x7fd2521ae820>,\n",
       "  <matplotlib.lines.Line2D at 0x7fd2521b8940>],\n",
       " 'medians': [<matplotlib.lines.Line2D at 0x7fd2521ae550>,\n",
       "  <matplotlib.lines.Line2D at 0x7fd2521b8670>,\n",
       "  <matplotlib.lines.Line2D at 0x7fd2521c8790>],\n",
       " 'fliers': [],\n",
       " 'means': []}"
      ]
     },
     "execution_count": 108,
     "metadata": {},
     "output_type": "execute_result"
    },
    {
     "data": {
      "image/png": "[encoded data removed]",
      "text/plain": [
       "<Figure size 2025x1012.5 with 3 Axes>"
      ]
     },
     "metadata": {
      "needs_background": "light"
     },
     "output_type": "display_data"
    }
   ],
   "source": [
    "fig, axs = plt.subplots(1, 3)\n",
    "axs[0].loglog(np.array(eps_lowres), 100*np.array(acc_rp))\n",
    "axs[0].loglog(np.array(eps_highres), 100*np.array(acc_fgsm))\n",
    "axs[0].loglog(np.array(eps_highres), 100*np.array(acc_pgd))\n",
    "axs[0].set_xlabel(r\"$\\epsilon$\")\n",
    "axs[0].set_ylabel(r\"Accuracy [%]\")\n",
    "\n",
    "axs[1].boxplot([eps_rp, eps_fgsm, eps_pgd], showfliers=False)\n",
    "\n",
    "axs[2].boxplot([norm_rp, norm_fgsm, norm_pgd], showfliers=False)"
   ]
  },
  {
   "cell_type": "code",
   "execution_count": 23,
   "id": "5a4ab35d-5254-4ca1-b833-477fefebab27",
   "metadata": {},
   "outputs": [],
   "source": [
    "adv_x = fgsm(5e-2, data, targets, ce_loss)"
   ]
  },
  {
   "cell_type": "code",
   "execution_count": 24,
   "id": "e12976d6-4293-4c3b-8bf6-a77f2c9b237b",
   "metadata": {},
   "outputs": [],
   "source": [
    "norms = torch.norm(torch.flatten(adv_x, start_dim=1), p=2.0, dim=-1)"
   ]
  },
  {
   "cell_type": "code",
   "execution_count": 25,
   "id": "c6dc0425-74c2-4dbe-94c7-a65f890ca3aa",
   "metadata": {},
   "outputs": [],
   "source": [
    "adv_x = adv_x.T \n",
    "adv_x /= norms[..., :]\n",
    "adv_x = adv_x.T"
   ]
  },
  {
   "cell_type": "code",
   "execution_count": 26,
   "id": "f1c20597-a34c-495e-baba-3aa20874b52e",
   "metadata": {},
   "outputs": [
    {
     "data": {
      "text/plain": [
       "tensor([1.0000, 1.0000, 1.0000, 1.0000, 1.0000, 1.0000, 1.0000, 1.0000, 1.0000,\n",
       "        1.0000], device='cuda:0')"
      ]
     },
     "execution_count": 26,
     "metadata": {},
     "output_type": "execute_result"
    }
   ],
   "source": [
    "torch.norm(torch.flatten(adv_x[:10], start_dim=1), p=2.0, dim=-1)"
   ]
  },
  {
   "cell_type": "code",
   "execution_count": 27,
   "id": "721e9827-59e5-4011-9381-3744fdd03913",
   "metadata": {},
   "outputs": [
    {
     "data": {
      "text/plain": [
       "(1000, 32, 32, 3)"
      ]
     },
     "execution_count": 27,
     "metadata": {},
     "output_type": "execute_result"
    }
   ],
   "source": [
    "tuple(adv_x.size())"
   ]
  },
  {
   "cell_type": "code",
   "execution_count": 28,
   "id": "6f0e495f-1365-4201-a2e6-ff0f428b9a96",
   "metadata": {},
   "outputs": [],
   "source": [
    "from LocalLearning.Attacks import PGD\n",
    "pgd_params = {\n",
    "    \"num_it\": 10,\n",
    "    \"dl\": 1e-2,\n",
    "    \"norm_p\": 'inf',\n",
    "}\n",
    "pgd = PGD(khmodel, pgd_params)"
   ]
  },
  {
   "cell_type": "code",
   "execution_count": 29,
   "id": "288d9849-f579-4e10-8dc4-c6af7de9fd87",
   "metadata": {},
   "outputs": [],
   "source": [
    "khmodel.eval()\n",
    "adv_img = pgd(5e-2, data, targets, ce_loss)"
   ]
  },
  {
   "cell_type": "code",
   "execution_count": 30,
   "id": "06bb6433-040e-4a8b-9b0c-a8b2a3fbfd2f",
   "metadata": {},
   "outputs": [
    {
     "data": {
      "image/png": "[encoded data removed]",
      "text/plain": [
       "<Figure size 2025x1012.5 with 1 Axes>"
      ]
     },
     "metadata": {
      "needs_background": "light"
     },
     "output_type": "display_data"
    }
   ],
   "source": [
    "plt.figure()\n",
    "#nc = np.max()\n",
    "img = torch.clamp(data[1], 0.0, 1.0).detach().cpu().numpy()\n",
    "img = minmaxnorm(img)\n",
    "im = plt.imshow(img, vmin=np.min(img), vmax=np.max(img))\n",
    "plt.axis('off')\n",
    "plt.show()"
   ]
  },
  {
   "cell_type": "code",
   "execution_count": 31,
   "id": "f5162583-64b8-4291-a7fb-306697e95afb",
   "metadata": {},
   "outputs": [
    {
     "data": {
      "image/png": "[encoded data removed]",
      "text/plain": [
       "<Figure size 2025x1012.5 with 1 Axes>"
      ]
     },
     "metadata": {
      "needs_background": "light"
     },
     "output_type": "display_data"
    }
   ],
   "source": [
    "plt.figure()\n",
    "#nc = np.max()\n",
    "img = adv_img[1].detach().cpu().numpy()\n",
    "img = minmaxnorm(img)\n",
    "im = plt.imshow(img, vmin=np.min(img), vmax=np.max(img))\n",
    "plt.axis('off')\n",
    "plt.show()"
   ]
  },
  {
   "cell_type": "code",
   "execution_count": null,
   "id": "14cb69e4-56c5-4abf-a20d-d9cd5d0e5649",
   "metadata": {},
   "outputs": [],
   "source": []
  }
 ],
 "metadata": {
  "kernelspec": {
   "display_name": "Python 3 (ipykernel)",
   "language": "python",
   "name": "python3"
  },
  "language_info": {
   "codemirror_mode": {
    "name": "ipython",
    "version": 3
   },
   "file_extension": ".py",
   "mimetype": "text/x-python",
   "name": "python",
   "nbconvert_exporter": "python",
   "pygments_lexer": "ipython3",
   "version": "3.9.1"
  }
 },
 "nbformat": 4,
 "nbformat_minor": 5
}
