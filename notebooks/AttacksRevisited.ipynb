{
 "cells": [
  {
   "cell_type": "markdown",
   "id": "433ebc62-a0f2-43d8-85c2-50adf577e408",
   "metadata": {},
   "source": [
    "# Adversarial Attack Test"
   ]
  },
  {
   "cell_type": "code",
   "execution_count": 118,
   "id": "62563a93-13ba-4458-a746-b1f9c8934e27",
   "metadata": {},
   "outputs": [
    {
     "name": "stdout",
     "output_type": "stream",
     "text": [
      "The autoreload extension is already loaded. To reload it, use:\n",
      "  %reload_ext autoreload\n"
     ]
    }
   ],
   "source": [
    "%load_ext autoreload\n",
    "%autoreload 2\n",
    "\n",
    "import torch\n",
    "from torchvision.transforms import ToTensor\n",
    "from torch.optim import Adam\n",
    "\n",
    "from context import *\n",
    "from LocalLearning import Attacks\n",
    "from LocalLearning import KHModel\n",
    "from LocalLearning import Data\n",
    "from LocalLearning import Trainers\n",
    "\n",
    "from pathlib import Path\n",
    "\n",
    "import numpy as np\n",
    "from matplotlib import pyplot as plt\n",
    "plt.style.use(['seaborn-paper', \"./PRLDoubleCol.mplstyle\"])"
   ]
  },
  {
   "cell_type": "code",
   "execution_count": 2,
   "id": "c4d77a87-3560-43a1-963e-3fdb58226006",
   "metadata": {},
   "outputs": [],
   "source": [
    "if torch.cuda.is_available():\n",
    "    device = torch.device('cuda')\n",
    "else:\n",
    "    device = torch.device('cpu')"
   ]
  },
  {
   "cell_type": "code",
   "execution_count": 3,
   "id": "7d9ceeab-01b2-4785-bf55-3a5622d68bec",
   "metadata": {},
   "outputs": [],
   "source": [
    "# train Flipswitch\n",
    "TRAIN = False\n",
    "\n",
    "# hyper-parameter\n",
    "BATCH_SIZE = 1000\n",
    "NUMBER_OF_EPOCHS = 1000\n",
    "\n",
    "model_path = Path(\"../data/models/CIFAR10_PowerLaw\")\n",
    "figure_path = Path(\"../data/figures/CIFAR10_PowerLaw\")\n",
    "\n",
    "model_ps = {\n",
    "    \"in_size\": 3*32**2,\n",
    "    \"hidden_size\": 2000,\n",
    "    \"n\": 4.5,\n",
    "    \"p\": 3.0,\n",
    "    \"tau_l\": 1.0 / 0.02, # 1 / learning_rate\n",
    "    \"k\": 2,\n",
    "    \"Delta\": 0.4,\n",
    "    \"R\": 1.0,\n",
    "}"
   ]
  },
  {
   "cell_type": "code",
   "execution_count": 4,
   "id": "670b7f72-fb8e-4803-b5c2-6a3b07626962",
   "metadata": {},
   "outputs": [],
   "source": [
    "# load the model\n",
    "model_file = Path(\"kh_cifar10_pruned_thr.pty\")\n",
    "filepath = model_path / model_file\n",
    "\n",
    "if os.path.isfile(filepath):\n",
    "    storage_obj = torch.load(filepath)\n",
    "\n",
    "with torch.no_grad():\n",
    "    model_pset = storage_obj[\"model_parameters\"]\n",
    "    dummy = LocalLearning.FKHL3(model_pset)\n",
    "    dummy.load_state_dict(storage_obj[\"model_state_dict\"])\n",
    "    khlayer = LocalLearning.FKHL3(model_pset)\n",
    "    khlayer.W = torch.nn.Parameter(dummy.W.clone())\n",
    "    khlayer.to(device)\n",
    "    khlayer.eval()"
   ]
  },
  {
   "cell_type": "markdown",
   "id": "cb1d8728-90e1-40b2-9ad0-01b4080d756e",
   "metadata": {},
   "source": [
    "# Train the hybrid model"
   ]
  },
  {
   "cell_type": "code",
   "execution_count": 5,
   "id": "d07ee3b3-78d8-434a-a1e9-9f60c9996940",
   "metadata": {},
   "outputs": [],
   "source": [
    "khmodel = KHModel(khlayer)\n",
    "khmodel.to(device)\n",
    "khmodel.train()"
   ]
  },
  {
   "cell_type": "code",
   "execution_count": 6,
   "id": "0e564742-2af0-4308-b039-39da674467a6",
   "metadata": {},
   "outputs": [],
   "source": [
    "# Hyper parameters:\n",
    "BATCH_SIZE = 1000\n",
    "NUMBER_OF_EPOCHS = 1000\n",
    "LEARNING_RATE = 1e-4"
   ]
  },
  {
   "cell_type": "code",
   "execution_count": 7,
   "id": "8dd2075c-166d-4091-b0f9-ec4c13581132",
   "metadata": {},
   "outputs": [
    {
     "name": "stdout",
     "output_type": "stream",
     "text": [
      "Files already downloaded and verified\n",
      "Files already downloaded and verified\n"
     ]
    }
   ],
   "source": [
    "cifar10Train= Data.LpUnitCIFAR10(\n",
    "    root=\"../data/CIFAR10\",\n",
    "    train=True,\n",
    "    transform=ToTensor(),\n",
    "    p=khlayer.pSet[\"p\"],\n",
    ")\n",
    "\n",
    "TrainLoader = Data.DeviceDataLoader(\n",
    "    cifar10Train,# define batch window in the global index coordinates\n",
    "    device=device,\n",
    "    batch_size=BATCH_SIZE,\n",
    "    num_workers=4,\n",
    "    shuffle=True,\n",
    ")\n",
    "\n",
    "cifar10Test = Data.LpUnitCIFAR10(\n",
    "    root=\"../data/CIFAR10\",\n",
    "    train=False,\n",
    "    transform=ToTensor(),\n",
    "    p=khlayer.pSet[\"p\"],\n",
    ")\n",
    "\n",
    "TestLoader = Data.DeviceDataLoader(\n",
    "    cifar10Test,\n",
    "    device=device,\n",
    "    batch_size=BATCH_SIZE,\n",
    "    num_workers=4,\n",
    "    shuffle=False,\n",
    ")"
   ]
  },
  {
   "cell_type": "code",
   "execution_count": 8,
   "id": "1579d459-144d-42f1-ab81-dd8165f192a8",
   "metadata": {},
   "outputs": [],
   "source": [
    "TRAIN = False\n",
    "if TRAIN:\n",
    "    ce_trainer = Trainers.CETrainer(khmodel, device)\n",
    "    ce_trainer.run(TrainLoader, TestLoader, no_epochs=NUMBER_OF_EPOCHS)\n",
    "    # save the model\n",
    "    torch.save(\n",
    "        {\n",
    "            \"fkhl3-path\": str(filepath),\n",
    "            \"fkhl3-state\": storage_obj,\n",
    "            \"model_state_dict\": khmodel.state_dict(),\n",
    "            \"loss_history\": ce_trainer.log[\"loss\"],\n",
    "            \"accuracy_history\": ce_trainer.log[\"eval_acc\"],\n",
    "        },\n",
    "        model_path / Path(\"KHModel_\" + str(model_file)),\n",
    "    )"
   ]
  },
  {
   "cell_type": "code",
   "execution_count": 9,
   "id": "1cd38b98-c0e0-40d1-b352-97e8d535e98e",
   "metadata": {},
   "outputs": [],
   "source": [
    "if TRAIN:\n",
    "    fig, axs = plt.subplots(1, 2)\n",
    "    axs[0].plot(ce_trainer.log[\"ce_loss\"])\n",
    "    axs[0].set_xlabel(r\"t [epochs]\")\n",
    "    axs[0].set_ylabel(r\"CE(t)\")\n",
    "    axs[1].plot(ce_trainer.log[\"eval_acc\"])\n",
    "    axs[1].set_xlabel(r\"t [epochs]\")\n",
    "    axs[1].set_ylabel(r\"Accuracy(t)\")"
   ]
  },
  {
   "cell_type": "markdown",
   "id": "851ffae4-7765-4beb-8b65-470ced4a91a7",
   "metadata": {},
   "source": [
    "# Adversarial Testing"
   ]
  },
  {
   "cell_type": "code",
   "execution_count": 10,
   "id": "dcd036a7-73c9-4425-a1fe-c2c8f52c834e",
   "metadata": {},
   "outputs": [],
   "source": [
    "khmodel_filepath = model_path / Path(\"KHModel_\" + str(model_file))\n",
    "storage_obj = torch.load(khmodel_filepath)\n",
    "khmodel = KHModel(storage_obj)\n",
    "khmodel.to(device)\n",
    "khmodel.eval()"
   ]
  },
  {
   "cell_type": "code",
   "execution_count": 11,
   "id": "f679219b-2c34-4c48-b720-1fe69563585a",
   "metadata": {},
   "outputs": [],
   "source": [
    "from torch.nn import CrossEntropyLoss\n",
    "ce_loss = CrossEntropyLoss()"
   ]
  },
  {
   "cell_type": "code",
   "execution_count": 181,
   "id": "2c221de2-9949-4569-999f-1ef358907f8f",
   "metadata": {},
   "outputs": [],
   "source": [
    "from LocalLearning.Attacks import FGSM\n",
    "fgsm = FGSM(khmodel)"
   ]
  },
  {
   "cell_type": "code",
   "execution_count": 249,
   "id": "12aa780c-4f99-46f1-8133-330d28ea6178",
   "metadata": {},
   "outputs": [],
   "source": [
    "features, labels = next(iter(TestLoader))"
   ]
  },
  {
   "cell_type": "code",
   "execution_count": 250,
   "id": "580d7baa-d00f-4488-a32a-172fb2a32515",
   "metadata": {},
   "outputs": [],
   "source": [
    "a_example = fgsm(5e-2, features, labels, ce_loss)"
   ]
  },
  {
   "cell_type": "code",
   "execution_count": 16,
   "id": "7f9d8265-546a-4e4d-9fc4-456111f3fdcb",
   "metadata": {},
   "outputs": [
    {
     "ename": "NameError",
     "evalue": "name 'features' is not defined",
     "output_type": "error",
     "traceback": [
      "\u001b[0;31m---------------------------------------------------------------------------\u001b[0m",
      "\u001b[0;31mNameError\u001b[0m                                 Traceback (most recent call last)",
      "Input \u001b[0;32mIn [16]\u001b[0m, in \u001b[0;36m<cell line: 7>\u001b[0;34m()\u001b[0m\n\u001b[1;32m      5\u001b[0m plt\u001b[38;5;241m.\u001b[39mfigure()\n\u001b[1;32m      6\u001b[0m \u001b[38;5;66;03m#nc = np.max()\u001b[39;00m\n\u001b[0;32m----> 7\u001b[0m img \u001b[38;5;241m=\u001b[39m \u001b[43mfeatures\u001b[49m[\u001b[38;5;241m1\u001b[39m]\u001b[38;5;241m.\u001b[39mdetach()\u001b[38;5;241m.\u001b[39mcpu()\u001b[38;5;241m.\u001b[39mnumpy()\n\u001b[1;32m      8\u001b[0m img \u001b[38;5;241m=\u001b[39m minmaxnorm(img)\n\u001b[1;32m      9\u001b[0m im \u001b[38;5;241m=\u001b[39m plt\u001b[38;5;241m.\u001b[39mimshow(img, vmin\u001b[38;5;241m=\u001b[39mnp\u001b[38;5;241m.\u001b[39mmin(img), vmax\u001b[38;5;241m=\u001b[39mnp\u001b[38;5;241m.\u001b[39mmax(img))\n",
      "\u001b[0;31mNameError\u001b[0m: name 'features' is not defined"
     ]
    },
    {
     "data": {
      "text/plain": [
       "<Figure size 2025x1012.5 with 0 Axes>"
      ]
     },
     "metadata": {},
     "output_type": "display_data"
    }
   ],
   "source": [
    "def minmaxnorm(a):\n",
    "    a_ = a - a.min()\n",
    "    return a_ / a_.max()\n",
    "\n",
    "plt.figure()\n",
    "#nc = np.max()\n",
    "img = features[1].detach().cpu().numpy()\n",
    "img = minmaxnorm(img)\n",
    "im = plt.imshow(img, vmin=np.min(img), vmax=np.max(img))\n",
    "plt.axis('off')\n",
    "plt.show()"
   ]
  },
  {
   "cell_type": "code",
   "execution_count": 253,
   "id": "8b969a24-4326-401a-bbe8-f2d271df952c",
   "metadata": {},
   "outputs": [
    {
     "data": {
      "text/plain": [
       "tensor([[[0.0875, 0.0875, 0.0875],\n",
       "         [0.0860, 0.0860, 0.0860],\n",
       "         [0.0864, 0.0864, 0.0864],\n",
       "         ...,\n",
       "         [0.0867, 0.0867, 0.0867],\n",
       "         [0.0867, 0.0867, 0.0867],\n",
       "         [0.0864, 0.0864, 0.0864]],\n",
       "\n",
       "        [[0.0886, 0.0886, 0.0886],\n",
       "         [0.0875, 0.0875, 0.0875],\n",
       "         [0.0875, 0.0875, 0.0875],\n",
       "         ...,\n",
       "         [0.0879, 0.0879, 0.0879],\n",
       "         [0.0879, 0.0879, 0.0879],\n",
       "         [0.0875, 0.0875, 0.0875]],\n",
       "\n",
       "        [[0.0882, 0.0882, 0.0882],\n",
       "         [0.0871, 0.0871, 0.0871],\n",
       "         [0.0871, 0.0871, 0.0871],\n",
       "         ...,\n",
       "         [0.0875, 0.0875, 0.0875],\n",
       "         [0.0875, 0.0875, 0.0875],\n",
       "         [0.0871, 0.0871, 0.0871]],\n",
       "\n",
       "        ...,\n",
       "\n",
       "        [[0.0324, 0.0369, 0.0331],\n",
       "         [0.0160, 0.0190, 0.0138],\n",
       "         [0.0071, 0.0086, 0.0041],\n",
       "         ...,\n",
       "         [0.0629, 0.0685, 0.0666],\n",
       "         [0.0678, 0.0733, 0.0718],\n",
       "         [0.0700, 0.0752, 0.0748]],\n",
       "\n",
       "        [[0.0305, 0.0357, 0.0305],\n",
       "         [0.0171, 0.0212, 0.0134],\n",
       "         [0.0134, 0.0164, 0.0082],\n",
       "         ...,\n",
       "         [0.0648, 0.0704, 0.0681],\n",
       "         [0.0689, 0.0745, 0.0730],\n",
       "         [0.0696, 0.0752, 0.0745]],\n",
       "\n",
       "        [[0.0316, 0.0376, 0.0309],\n",
       "         [0.0231, 0.0279, 0.0179],\n",
       "         [0.0216, 0.0249, 0.0141],\n",
       "         ...,\n",
       "         [0.0625, 0.0681, 0.0663],\n",
       "         [0.0670, 0.0726, 0.0711],\n",
       "         [0.0692, 0.0745, 0.0741]]], device='cuda:0', grad_fn=<ClampBackward1>)"
      ]
     },
     "execution_count": 253,
     "metadata": {},
     "output_type": "execute_result"
    }
   ],
   "source": []
  },
  {
   "cell_type": "code",
   "execution_count": 185,
   "id": "ab27d126-f75f-4227-a492-ad89dfb82da6",
   "metadata": {},
   "outputs": [
    {
     "data": {
      "image/png": "[encoded data removed]",
      "text/plain": [
       "<Figure size 2025x1012.5 with 1 Axes>"
      ]
     },
     "metadata": {
      "needs_background": "light"
     },
     "output_type": "display_data"
    }
   ],
   "source": [
    "plt.figure()\n",
    "#nc = np.max()\n",
    "img = a_example[1].detach().cpu().numpy()\n",
    "img = minmaxnorm(img)\n",
    "im = plt.imshow(img, vmin=np.min(img), vmax=np.max(img))\n",
    "plt.axis('off')\n",
    "plt.show()"
   ]
  },
  {
   "cell_type": "code",
   "execution_count": 12,
   "id": "7375ba4b-9834-4339-8077-6bde3b067eb1",
   "metadata": {},
   "outputs": [
    {
     "data": {
      "application/vnd.jupyter.widget-view+json": {
       "model_id": "52d9523eb2b74fe482f5600c26d1f47d",
       "version_major": 2,
       "version_minor": 0
      },
      "text/plain": [
       "  0%|          | 0/10000 [00:00<?, ?batch/s]"
      ]
     },
     "metadata": {},
     "output_type": "display_data"
    }
   ],
   "source": [
    "aTestData = Data.BaselineAccurateTestData(khmodel, cifar10Test)\n",
    "aTestLoader = Data.DeviceDataLoader(\n",
    "    aTestData,\n",
    "    device=device,\n",
    "    batch_size=BATCH_SIZE,\n",
    "    num_workers=4,\n",
    "    shuffle=False,\n",
    ")"
   ]
  },
  {
   "cell_type": "code",
   "execution_count": 82,
   "id": "dcb62dc7-89d9-4f05-a18d-df6a9a1bd68f",
   "metadata": {},
   "outputs": [
    {
     "data": {
      "application/vnd.jupyter.widget-view+json": {
       "model_id": "19202dad4efc4a459194ddd99f6e0b2a",
       "version_major": 2,
       "version_minor": 0
      },
      "text/plain": [
       "  0%|          | 0/100 [00:00<?, ?perturbation/s]"
      ]
     },
     "metadata": {},
     "output_type": "display_data"
    }
   ],
   "source": [
    "attackTest = Attacks.AttackTest(fgsm, khmodel, ce_loss)\n",
    "eps = np.linspace(1e-6, 5e-2, num=100)\n",
    "acc, crit_eps, crit_norm = attackTest.run(aTestLoader, eps, norm_p=2.0)"
   ]
  },
  {
   "cell_type": "code",
   "execution_count": 115,
   "id": "ae63c732-c1e8-4a98-8e09-dce444eb0f93",
   "metadata": {},
   "outputs": [
    {
     "data": {
      "text/plain": [
       "{'whiskers': [<matplotlib.lines.Line2D at 0x7f3340054c70>,\n",
       "  <matplotlib.lines.Line2D at 0x7f3340054f40>],\n",
       " 'caps': [<matplotlib.lines.Line2D at 0x7f334005f250>,\n",
       "  <matplotlib.lines.Line2D at 0x7f334005f520>],\n",
       " 'boxes': [<matplotlib.lines.Line2D at 0x7f33400549a0>],\n",
       " 'medians': [<matplotlib.lines.Line2D at 0x7f334005f7f0>],\n",
       " 'fliers': [],\n",
       " 'means': []}"
      ]
     },
     "execution_count": 115,
     "metadata": {},
     "output_type": "execute_result"
    },
    {
     "data": {
      "image/png": "[encoded data removed]",
      "text/plain": [
       "<Figure size 2025x1012.5 with 3 Axes>"
      ]
     },
     "metadata": {
      "needs_background": "light"
     },
     "output_type": "display_data"
    }
   ],
   "source": [
    "fig, axs = plt.subplots(1, 3)\n",
    "axs[0].loglog(np.array(eps), 100*np.array(acc))\n",
    "axs[0].set_xlabel(r\"$\\epsilon$\")\n",
    "axs[0].set_ylabel(r\"Accuracy [%]\")\n",
    "\n",
    "axs[1].boxplot(crit_eps, showfliers=False)\n",
    "\n",
    "axs[2].boxplot(crit_norm, showfliers=False)"
   ]
  },
  {
   "cell_type": "code",
   "execution_count": 34,
   "id": "f9283c30-cfd3-4409-bccb-2bbc8c27f7f4",
   "metadata": {},
   "outputs": [],
   "source": [
    "data, targets = next(iter(aTestLoader))"
   ]
  },
  {
   "cell_type": "code",
   "execution_count": 35,
   "id": "61a40131-423a-4e06-b6d0-6a3cfa48b88a",
   "metadata": {},
   "outputs": [
    {
     "data": {
      "text/plain": [
       "tensor([[[0.0875, 0.0875, 0.0875],\n",
       "         [0.0860, 0.0860, 0.0860],\n",
       "         [0.0864, 0.0864, 0.0864],\n",
       "         ...,\n",
       "         [0.0867, 0.0867, 0.0867],\n",
       "         [0.0867, 0.0867, 0.0867],\n",
       "         [0.0864, 0.0864, 0.0864]],\n",
       "\n",
       "        [[0.0886, 0.0886, 0.0886],\n",
       "         [0.0875, 0.0875, 0.0875],\n",
       "         [0.0875, 0.0875, 0.0875],\n",
       "         ...,\n",
       "         [0.0879, 0.0879, 0.0879],\n",
       "         [0.0879, 0.0879, 0.0879],\n",
       "         [0.0875, 0.0875, 0.0875]],\n",
       "\n",
       "        [[0.0882, 0.0882, 0.0882],\n",
       "         [0.0871, 0.0871, 0.0871],\n",
       "         [0.0871, 0.0871, 0.0871],\n",
       "         ...,\n",
       "         [0.0875, 0.0875, 0.0875],\n",
       "         [0.0875, 0.0875, 0.0875],\n",
       "         [0.0871, 0.0871, 0.0871]],\n",
       "\n",
       "        ...,\n",
       "\n",
       "        [[0.0324, 0.0369, 0.0331],\n",
       "         [0.0160, 0.0190, 0.0138],\n",
       "         [0.0071, 0.0086, 0.0041],\n",
       "         ...,\n",
       "         [0.0629, 0.0685, 0.0666],\n",
       "         [0.0678, 0.0733, 0.0718],\n",
       "         [0.0700, 0.0752, 0.0748]],\n",
       "\n",
       "        [[0.0305, 0.0357, 0.0305],\n",
       "         [0.0171, 0.0212, 0.0134],\n",
       "         [0.0134, 0.0164, 0.0082],\n",
       "         ...,\n",
       "         [0.0648, 0.0704, 0.0681],\n",
       "         [0.0689, 0.0745, 0.0730],\n",
       "         [0.0696, 0.0752, 0.0745]],\n",
       "\n",
       "        [[0.0316, 0.0376, 0.0309],\n",
       "         [0.0231, 0.0279, 0.0179],\n",
       "         [0.0216, 0.0249, 0.0141],\n",
       "         ...,\n",
       "         [0.0625, 0.0681, 0.0663],\n",
       "         [0.0670, 0.0726, 0.0711],\n",
       "         [0.0692, 0.0745, 0.0741]]], device='cuda:0')"
      ]
     },
     "execution_count": 35,
     "metadata": {},
     "output_type": "execute_result"
    }
   ],
   "source": [
    "data[1]"
   ]
  },
  {
   "cell_type": "code",
   "execution_count": 171,
   "id": "5a4ab35d-5254-4ca1-b833-477fefebab27",
   "metadata": {},
   "outputs": [],
   "source": [
    "adv_x = fgsm(5e-2, data, targets, ce_loss)"
   ]
  },
  {
   "cell_type": "code",
   "execution_count": 172,
   "id": "e12976d6-4293-4c3b-8bf6-a77f2c9b237b",
   "metadata": {},
   "outputs": [],
   "source": [
    "norms = torch.norm(torch.flatten(adv_x, start_dim=1), p=2.0, dim=-1)"
   ]
  },
  {
   "cell_type": "code",
   "execution_count": 173,
   "id": "c6dc0425-74c2-4dbe-94c7-a65f890ca3aa",
   "metadata": {},
   "outputs": [],
   "source": [
    "adv_x = adv_x.T \n",
    "adv_x /= norms[..., :]\n",
    "adv_x = adv_x.T"
   ]
  },
  {
   "cell_type": "code",
   "execution_count": 174,
   "id": "f1c20597-a34c-495e-baba-3aa20874b52e",
   "metadata": {},
   "outputs": [
    {
     "data": {
      "text/plain": [
       "tensor([1.0000, 1.0000, 1.0000, 1.0000, 1.0000, 1.0000, 1.0000, 1.0000, 1.0000,\n",
       "        1.0000], device='cuda:0', grad_fn=<NormBackward1>)"
      ]
     },
     "execution_count": 174,
     "metadata": {},
     "output_type": "execute_result"
    }
   ],
   "source": [
    "torch.norm(torch.flatten(adv_x[:10], start_dim=1), p=2.0, dim=-1)"
   ]
  },
  {
   "cell_type": "code",
   "execution_count": 144,
   "id": "721e9827-59e5-4011-9381-3744fdd03913",
   "metadata": {},
   "outputs": [
    {
     "data": {
      "text/plain": [
       "(1000, 32, 32, 3)"
      ]
     },
     "execution_count": 144,
     "metadata": {},
     "output_type": "execute_result"
    }
   ],
   "source": [
    "tuple(adv_x.size())"
   ]
  },
  {
   "cell_type": "code",
   "execution_count": 182,
   "id": "6f0e495f-1365-4201-a2e6-ff0f428b9a96",
   "metadata": {},
   "outputs": [],
   "source": [
    "from LocalLearning.Attacks import PGD\n",
    "pgd_params = {\n",
    "    \"num_it\": 10,\n",
    "    \"dl\": 1e-2,\n",
    "    \"norm_p\": 'inf',\n",
    "}\n",
    "pgd = PGD(khmodel, pgd_params)"
   ]
  },
  {
   "cell_type": "code",
   "execution_count": 183,
   "id": "288d9849-f579-4e10-8dc4-c6af7de9fd87",
   "metadata": {},
   "outputs": [],
   "source": [
    "khmodel.eval()\n",
    "adv_img = pgd(5e-2, data, targets, ce_loss)"
   ]
  },
  {
   "cell_type": "code",
   "execution_count": 184,
   "id": "06bb6433-040e-4a8b-9b0c-a8b2a3fbfd2f",
   "metadata": {},
   "outputs": [
    {
     "data": {
      "image/png": "[encoded data removed]",
      "text/plain": [
       "<Figure size 2025x1012.5 with 1 Axes>"
      ]
     },
     "metadata": {
      "needs_background": "light"
     },
     "output_type": "display_data"
    }
   ],
   "source": [
    "plt.figure()\n",
    "#nc = np.max()\n",
    "img = torch.clamp(data[1], 0.0, 1.0).detach().cpu().numpy()\n",
    "img = minmaxnorm(img)\n",
    "im = plt.imshow(img, vmin=np.min(img), vmax=np.max(img))\n",
    "plt.axis('off')\n",
    "plt.show()"
   ]
  },
  {
   "cell_type": "code",
   "execution_count": 185,
   "id": "f5162583-64b8-4291-a7fb-306697e95afb",
   "metadata": {},
   "outputs": [
    {
     "data": {
      "image/png": "[encoded data removed]",
      "text/plain": [
       "<Figure size 2025x1012.5 with 1 Axes>"
      ]
     },
     "metadata": {
      "needs_background": "light"
     },
     "output_type": "display_data"
    }
   ],
   "source": [
    "plt.figure()\n",
    "#nc = np.max()\n",
    "img = adv_img[1].detach().cpu().numpy()\n",
    "img = minmaxnorm(img)\n",
    "im = plt.imshow(img, vmin=np.min(img), vmax=np.max(img))\n",
    "plt.axis('off')\n",
    "plt.show()"
   ]
  },
  {
   "cell_type": "code",
   "execution_count": null,
   "id": "14cb69e4-56c5-4abf-a20d-d9cd5d0e5649",
   "metadata": {},
   "outputs": [],
   "source": []
  }
 ],
 "metadata": {
  "kernelspec": {
   "display_name": "Python 3 (ipykernel)",
   "language": "python",
   "name": "python3"
  },
  "language_info": {
   "codemirror_mode": {
    "name": "ipython",
    "version": 3
   },
   "file_extension": ".py",
   "mimetype": "text/x-python",
   "name": "python",
   "nbconvert_exporter": "python",
   "pygments_lexer": "ipython3",
   "version": "3.9.1"
  }
 },
 "nbformat": 4,
 "nbformat_minor": 5
}
